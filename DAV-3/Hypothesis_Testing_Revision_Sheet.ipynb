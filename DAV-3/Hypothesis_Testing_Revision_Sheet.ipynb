{
  "cells": [
    {
      "cell_type": "markdown",
      "metadata": {
        "id": "6sVlG5Fsg07h"
      },
      "source": [
        "# <font color=\"red\">**Libraries**</font>"
      ]
    },
    {
      "cell_type": "code",
      "execution_count": null,
      "metadata": {
        "id": "i_mz1xiJRvL8"
      },
      "outputs": [],
      "source": [
        "import pandas as pd\n",
        "import numpy as np\n",
        "import matplotlib.pyplot as plt\n",
        "import seaborn as sns\n",
        "from scipy import stats\n",
        "from scipy.stats import norm\n",
        "from statsmodels.stats import weightstats as stests\n",
        "import statsmodels.api as sm\n",
        "from scipy.stats import ttest_1samp\n",
        "from scipy.stats import ttest_ind\n",
        "from scipy.stats import ttest_rel\n",
        "from scipy.stats import chisquare\n",
        "from scipy.stats import chi2_contingency\n",
        "from scipy.stats import shapiro\n",
        "from scipy.stats import f_oneway\n",
        "from scipy.stats import kruskal\n",
        "from scipy.stats import levene\n",
        "from statsmodels.formula.api import ols\n",
        "table = sm.stats.anova_lm(test, typ = 2)\n",
        "from scipy.stats import pearsonr\n",
        "from scipy.stats import spearmanr"
      ]
    },
    {
      "cell_type": "markdown",
      "metadata": {
        "id": "2DvFDtsELfXq"
      },
      "source": [
        "# <font color=\"red\">**HYPOTHESIS TESTING**</font>\n",
        "<font color=\"orange\">**1) Numerical Vs Categorical**</font>\n",
        "  * 2 Sample (T-Test)\n",
        "  * Greater than 2 Sample (ANOVA)\n",
        "\n",
        "<font color=\"orange\">**2) Categorical Vs Categorical**</font>\n",
        "  * Chi Square Test\n",
        "\n",
        "<font color=\"orange\">**3) Numericall Vs Numerical**</font>\n",
        "  * Correlation Test"
      ]
    },
    {
      "cell_type": "markdown",
      "metadata": {
        "id": "Dym42q0tRPeA"
      },
      "source": [
        "# <font color=\"red\">**1) Z-TEST**</font>"
      ]
    },
    {
      "cell_type": "markdown",
      "metadata": {
        "id": "2eHj3fztXZXT"
      },
      "source": [
        "**Note:**\n",
        "* Example: Shampoo bottles - Firm A\n",
        "* n >= 30\n",
        "* Population mean & Population std should be finite\n",
        "* Distribution: Normal"
      ]
    },
    {
      "cell_type": "markdown",
      "metadata": {
        "id": "QiPS2km8F5wi"
      },
      "source": [
        "# <font color=\"orange\">**Z-Test - One Sample**</font>\n",
        "\n"
      ]
    },
    {
      "cell_type": "markdown",
      "metadata": {
        "id": "eBI-aNaCFyHa"
      },
      "source": [
        "**LIBRARIES**"
      ]
    },
    {
      "cell_type": "code",
      "execution_count": null,
      "metadata": {
        "id": "8wr5MopRFo6P"
      },
      "outputs": [],
      "source": [
        "import numpy as np\n",
        "from scipy.stats import norm"
      ]
    },
    {
      "cell_type": "code",
      "execution_count": null,
      "metadata": {
        "id": "4nPqkKHOGAMx"
      },
      "outputs": [],
      "source": [
        "# Given Data:\n",
        "'''\n",
        "pop_mean (mu)\n",
        "pop_std\n",
        "sample_mean\n",
        "n (Sample size)\n",
        "SE = pop_mean/np.sqrt(n)\n",
        "'''"
      ]
    },
    {
      "cell_type": "code",
      "execution_count": null,
      "metadata": {
        "id": "IMV82_nbGdW_"
      },
      "outputs": [],
      "source": [
        "# Assumption:\n",
        "'''\n",
        "Ho: mu = 1800\n",
        "Ha: mu < 1800 --> LEFT TAILED\n",
        "Ha: mu > 1800 --> RIGHT TAILED\n",
        "Ha: mu <> 1800 --> TWO TAILED\n",
        "\n",
        "DISTRIBUTION: Normal\n",
        "'''"
      ]
    },
    {
      "cell_type": "markdown",
      "metadata": {
        "id": "S0fdGFYrHMr2"
      },
      "source": [
        "# P-Value:"
      ]
    },
    {
      "cell_type": "code",
      "execution_count": null,
      "metadata": {
        "id": "qBAIe_6xHEfD"
      },
      "outputs": [],
      "source": [
        "# Calculate Z-Stastistics:\n",
        "z_score = (sample_mean - pop_mean) / SE\n",
        "\n",
        "# Calculate P-Value:\n",
        "p_value = norm.cdf(z_score) # LEFT TAILED\n",
        "p_value = 1 - norm.cdf(z_score) # RIGHT TAILED\n",
        "p_value = 2 * (1 - norm.cdf(abs(z_score))) # TWO TAILED\n",
        "\n",
        "# Conclusion:\n",
        "if p_value < alpha:\n",
        "  print(\"Reject Ho\")\n",
        "else:\n",
        "  print(\"Failed to Reject Ho\")"
      ]
    },
    {
      "cell_type": "markdown",
      "metadata": {
        "id": "tC1-IEdbJjiB"
      },
      "source": [
        "# Z-Critical or T-Critical:"
      ]
    },
    {
      "cell_type": "code",
      "execution_count": null,
      "metadata": {
        "id": "9yyLxXwIJjdC"
      },
      "outputs": [],
      "source": [
        "# Calculate Z-Critical:\n",
        "# ONE TAILED TEST\n",
        "z_critical = norm.ppf(1-alpha)\n",
        "z_critical = norm.isf(q=alpha)\n",
        "# TWO TAILED TEST\n",
        "z_critical = np.abs(norm.ppf(1-(alpha/2)))\n",
        "z_critical = np.abs(norm.isf(q=alpha/2))\n",
        "\n",
        "# Conclusion:\n",
        "if z_critical < z_score:\n",
        "  print(\"Reject Ho\")\n",
        "else:\n",
        "  print(\"Failed to Reject Ho\")"
      ]
    },
    {
      "cell_type": "markdown",
      "metadata": {
        "id": "SWzjvQQHMdHj"
      },
      "source": [
        "# X-Critical:"
      ]
    },
    {
      "cell_type": "code",
      "execution_count": null,
      "metadata": {
        "id": "cpDdJqJKLQxJ"
      },
      "outputs": [],
      "source": [
        "# Calculate Z-Critical:\n",
        "# ONE TAILED TEST\n",
        "z_critical = norm.ppf(1-alpha)\n",
        "z_critical = norm.isf(q=alpha)\n",
        "# TWO TAILED TEST\n",
        "z_critical = np.abs(norm.ppf(1-(alpha/2)))\n",
        "z_critical = np.abs(norm.isf(q=alpha/2))\n",
        "\n",
        "# Calculate X-Critical:\n",
        "x_critical = (z_critical * SE) + pop_mean\n",
        "\n",
        "# Conclusion:\n",
        "if x_critical < sample_mean:\n",
        "  print(\"Reject Ho\")\n",
        "else:\n",
        "  print(\"Failed to Reject Ho\")"
      ]
    },
    {
      "cell_type": "markdown",
      "metadata": {
        "id": "iLwt1MDiNVKV"
      },
      "source": [
        "# Confidence Interval:"
      ]
    },
    {
      "cell_type": "code",
      "execution_count": null,
      "metadata": {
        "id": "bZcxAC_vNVm9"
      },
      "outputs": [],
      "source": [
        "# Calculate Z-Critical:\n",
        "# ONE TAILED TEST\n",
        "z_critical = norm.ppf(1-alpha)\n",
        "z_critical = norm.isf(q=alpha)\n",
        "# TWO TAILED TEST\n",
        "z_critical = np.abs(norm.ppf(1-(alpha/2)))\n",
        "z_critical = np.abs(norm.isf(q=alpha/2))\n",
        "\n",
        "# Calculate Confidence Interval:\n",
        "margin_of_error = z_critical * SE\n",
        "confidence_interval = (sample_mean - Margin_of_error, sample_mean + Margin_of_error)\n",
        "\n",
        "# Conclusion:\n",
        "if confidence_interval[0] <= pop_mean <= confidence_interval[1]:\n",
        "  print(\"Failed to Reject Ho\")\n",
        "else:\n",
        "  print(\"Reject Ho\")"
      ]
    },
    {
      "cell_type": "markdown",
      "metadata": {
        "id": "cF7i6SI4Qbre"
      },
      "source": [
        "# <font color=\"orange\">**Z-Test - Two Sample**</font>\n",
        "\n"
      ]
    },
    {
      "cell_type": "markdown",
      "metadata": {
        "id": "80Yl_yDyXdyD"
      },
      "source": [
        "**Note:**\n",
        "* Example: Medicine 1 and Medicine 2\n",
        "* Distribution: Normal"
      ]
    },
    {
      "cell_type": "code",
      "execution_count": null,
      "metadata": {
        "id": "xpV9aqp-QbgW"
      },
      "outputs": [],
      "source": [
        "# Given Data:\n",
        "'''\n",
        "samp_mean_1\n",
        "samp_mean_2\n",
        "samp_std_1\n",
        "samp_std_2\n",
        "n1 (sample_size_1)\n",
        "n2 (sample_size_2)\n",
        "alpha\n",
        "'''"
      ]
    },
    {
      "cell_type": "code",
      "execution_count": null,
      "metadata": {
        "id": "CScy4MGjTMCf"
      },
      "outputs": [],
      "source": [
        "# Assumption:\n",
        "'''\n",
        "Ho: sample_1_mean = sample_2_mean\n",
        "Ha: sample_1_mean >, <, <> sample_2_mean\n",
        "\n",
        "DISTRIBUTION: Normal\n",
        "'''"
      ]
    },
    {
      "cell_type": "markdown",
      "metadata": {
        "id": "tzq5oWrzU3WJ"
      },
      "source": [
        "# P-Value:"
      ]
    },
    {
      "cell_type": "code",
      "execution_count": null,
      "metadata": {
        "id": "BjdRpUG7TtAY"
      },
      "outputs": [],
      "source": [
        "# Function to calculate the test statistic:\n",
        "def TwoSampZTest(samp_mean_1, samp_mean_2, samp_std_1, samp_std_2, n1, n2):\n",
        "  # Calculate the test statistic\n",
        "  denominator = np.sqrt((samp_std_1**2 / n1) + (samp_std_2**2 / n2))\n",
        "  z_score = (samp_mean_1 - samp_mean_2) / denominator\n",
        "  return z_score\n",
        "\n",
        "# Calculate the z-score using the function\n",
        "z_score = TwoSampZTest(samp_mean_1, samp_mean_2, samp_std_1, samp_std_2, n1, n2)\n",
        "\n",
        "# Calculate P-Value:\n",
        "p_value = norm.cdf(z_score) # LEFT TAILED\n",
        "p_value = 1 - norm.cdf(z_score) # RIGHT TAILED\n",
        "p_value = 2 * (1 - norm.cdf(abs(z_score))) # TWO TAILED\n",
        "\n",
        "# Conclusion:\n",
        "if p_value < alpha:\n",
        "  print(\"Reject Ho\")\n",
        "else:\n",
        "  print(\"Failed to Reject Ho\")"
      ]
    },
    {
      "cell_type": "markdown",
      "metadata": {
        "id": "J0IJob2_WBj8"
      },
      "source": [
        "# Given data in the form of lists:"
      ]
    },
    {
      "cell_type": "code",
      "execution_count": null,
      "metadata": {
        "id": "hsQ41FjKVtKc"
      },
      "outputs": [],
      "source": [
        "# import a library to perform a Z-test\n",
        "from scipy import stats\n",
        "from statsmodels.stats import weightstats as stests\n",
        "z_score, pval = stests.ztest(x1 = [1,2,3,...],\n",
        "                             x2 = [1,2,3,...],\n",
        "                             alternative = 'two-sided')"
      ]
    },
    {
      "cell_type": "markdown",
      "metadata": {
        "id": "GifDvjcx8DJK"
      },
      "source": [
        "\n",
        "\n",
        "---\n",
        "\n",
        "\n",
        "# <font color=\"red\">**2) Z-PROPORRTION TEST**</font>"
      ]
    },
    {
      "cell_type": "markdown",
      "metadata": {
        "id": "h_EBmcsT6X0b"
      },
      "source": [
        "# <font color=\"orange\">**Z-Proportion - One Sample Test**</font>\n",
        "\n"
      ]
    },
    {
      "cell_type": "markdown",
      "metadata": {
        "id": "nK3yTIMRXj3L"
      },
      "source": [
        "**Note:**\n",
        "* Example: Proportion of the satisfied customer with the new product(Target satisfaction = p) and sample proportion (p_hat = x/n)\n",
        "* n >= 30\n",
        "* Distribution: Normal"
      ]
    },
    {
      "cell_type": "code",
      "execution_count": null,
      "metadata": {
        "id": "Omf4TBg26Xvm"
      },
      "outputs": [],
      "source": [
        "# Given Data:\n",
        "x # sample_satisfied_customer_size\n",
        "n # sample_customers_size\n",
        "p # Target_satisfaction\n",
        "p_hat = x/n"
      ]
    },
    {
      "cell_type": "code",
      "execution_count": null,
      "metadata": {
        "id": "nUc__ln_-W4o"
      },
      "outputs": [],
      "source": [
        "# Assumption:\n",
        "'''\n",
        "TWO TAILED:\n",
        "Ho: p = Target_satisfaction\n",
        "Ha: p <> Target_satisfaction\n",
        "\n",
        "RIGHT TAILED:\n",
        "Ho: p <= Target_satisfaction\n",
        "Ha: p > Target_satisfaction\n",
        "\n",
        "LEFT TAILED:\n",
        "Ho: p >= Target_satisfaction\n",
        "Ha: p < Target_satisfaction\n",
        "\n",
        "DISTRIBUTION: Normal\n",
        "'''"
      ]
    },
    {
      "cell_type": "markdown",
      "metadata": {
        "id": "ljuMX1GBAhgI"
      },
      "source": [
        "P-Value:\n",
        "\n",
        "Prefered:"
      ]
    },
    {
      "cell_type": "code",
      "execution_count": null,
      "metadata": {
        "id": "GEprrGnA-1lP"
      },
      "outputs": [],
      "source": [
        "# Calculate the test statistic (Z)\n",
        "z_st = (p_hat - p) / np.sqrt((p * (1 - p)) / n)\n",
        "\n",
        "# Calculate p_value:\n",
        "from scipy.stats import norm\n",
        "p_value = stats.norm.cdf(z_st) # LEFT TAILED\n",
        "p_value = 1 - stats.norm.cdf(z_st) # RIGHT TAILED\n",
        "p_value = 2 * (1- stats.norm.cdf(np.abs(z_st))) # TWO TAILED\n",
        "\n",
        "# Conclusion:\n",
        "if p_value < alpha:\n",
        "  print(\"Reject Ho\")\n",
        "else:\n",
        "  print(\"Failed to Reject Ho\")"
      ]
    },
    {
      "cell_type": "markdown",
      "metadata": {
        "id": "TVlHuP9nCBQ1"
      },
      "source": [
        "Library:\n",
        "\n",
        "Can use it too."
      ]
    },
    {
      "cell_type": "code",
      "execution_count": null,
      "metadata": {
        "id": "IjV-rbQTB57k"
      },
      "outputs": [],
      "source": [
        "# Calculate the test statistic (Z) and P-Value:\n",
        "import statsmodels.api as sm\n",
        "z_st, p_value = sm.stats.proportions_ztest(x, n, p, alternative='two-sided')"
      ]
    },
    {
      "cell_type": "markdown",
      "metadata": {
        "id": "_X6wmjEuDuxr"
      },
      "source": [
        "# <font color=\"orange\">**Z-Proportion - Two Sample Test**</font>\n"
      ]
    },
    {
      "cell_type": "markdown",
      "metadata": {
        "id": "-3b5BxT6Xmbh"
      },
      "source": [
        "**Note:**\n",
        "* Example: Old webpage - convarsion rate - New webpage.\n",
        "* n >= 30\n",
        "* Distribution: Normal\n"
      ]
    },
    {
      "cell_type": "code",
      "execution_count": null,
      "metadata": {
        "id": "1Ngu-1YdDuqk"
      },
      "outputs": [],
      "source": [
        "## Given Data:\n",
        "# proportion of group_a = 57 out of 90\n",
        "# proportion of group_b = 98 out of 120\n",
        "x = np.array([57,98])\n",
        "n = np.array([90,120])\n",
        "\n",
        "# Assumption:\n",
        "'''\n",
        "Ho : proportion of (group_a = group_b)\n",
        "Ha : proportion of (group_a <> group_b)\n",
        "'''\n",
        "\n",
        "# Calculate the test statistic (Z) and P-Value using Library:\n",
        "import statsmodels.api as sm\n",
        "z_stat, p_value = sm.stats.proportions_ztest(x, n, alternative='two-sided')"
      ]
    },
    {
      "cell_type": "markdown",
      "metadata": {
        "id": "vGKMS4FOKUxu"
      },
      "source": [
        "\n",
        "\n",
        "---\n",
        "\n",
        "\n",
        "# <font color=\"red\">**3) T - TEST**</font>\n",
        "\n"
      ]
    },
    {
      "cell_type": "markdown",
      "metadata": {
        "id": "y2pcpaw1XqRS"
      },
      "source": [
        "**Numerical Vs Catrgorical up to 2 samples**\n",
        "\n",
        "Senario complexity: Why T=Test?\n",
        "\n",
        "* Z-Test always requires the population std which is not always feasible.\n",
        "\n",
        "* Sample size of the Z-Test is >= 30.\n",
        "\n",
        "Note:\n",
        "\n",
        "* In **T Test if the sample size is large it automatically behave like Z Test** because if the sample size is large the sample std will be very close to populatio  std.\n",
        "\n",
        "* Distribution: Normal"
      ]
    },
    {
      "cell_type": "markdown",
      "metadata": {
        "id": "yXu2qVzbKl22"
      },
      "source": [
        "# <font color=\"orange\">**T-Test - One Sample**</font>"
      ]
    },
    {
      "cell_type": "code",
      "execution_count": null,
      "metadata": {
        "id": "_YEEBRG7GdNQ"
      },
      "outputs": [],
      "source": [
        "# Given data:\n",
        "data = np.array([14.3,12.6,13.7,10.9,13.7,12.0,11.4,12.0,12.6,13.1])\n",
        "pop_mean = 12.0\n",
        "\n",
        "# Assemptions:\n",
        "'''\n",
        "Ho: mu = 12\n",
        "Ha: mu <> 12 (TWO TAILED)\n",
        "Ha: mu > 12 (RIGHT TAILED)\n",
        "Ha: mu < 12 (LEFT TAILED)\n",
        "\n",
        "Distribution: Normal\n",
        "'''\n",
        "\n",
        "# Calculate the test statistic (T) and P-Value using Library:\n",
        "from scipy.stats import ttest_1samp\n",
        "t_stat, p_value = ttest_1samp(data, pop_mean, alternative = 'two-sided')"
      ]
    },
    {
      "cell_type": "markdown",
      "metadata": {
        "id": "Y7wnjvy3cJDO"
      },
      "source": [
        "# <font color=\"orange\">**T-Test - Two Sample - Independent**</font>"
      ]
    },
    {
      "cell_type": "code",
      "execution_count": null,
      "metadata": {
        "id": "pIaZHcHecI92"
      },
      "outputs": [],
      "source": [
        "# Given Data:\n",
        "group_1 = np.array([13.3, 6.0, 20.0, 8.0, 14.0, 19.0, 18.0, 25.0, 16.0, 24.0, 15.0, 1.0, 15.0])\n",
        "group_2 = np.array([22.0, 16.0, 21.7, 21.0, 30.0, 26.0, 12.0, 23.2, 28.0, 23.0])\n",
        "\n",
        "# Assumption:\n",
        "'''\n",
        "TWO TAILED:\n",
        "Ho: group_1(mean) = group_2(mean)\n",
        "Ha: group_1(mean) <> group_2(mean)\n",
        "\n",
        "RIGHT TAILED:\n",
        "Ho: group_1(mean) = group_2(mean)\n",
        "Ha: group_1(mean) > group_2(mean)\n",
        "\n",
        "LEFT TAILED:\n",
        "Ho: group_1(mean) = group_2(mean)\n",
        "Ha: group_1(mean) > group_2(mean)\n",
        "\n",
        "Distibution: Normal\n",
        "'''\n",
        "# Calculate the test statistic (T) and P-Value using Library:\n",
        "from scipy.stats import ttest_ind\n",
        "t_stat, p_value = ttest_ind(group_1, group_2, alternative ='two-sided') # greater, less"
      ]
    },
    {
      "cell_type": "markdown",
      "metadata": {
        "id": "6SQlGGPCg1ei"
      },
      "source": [
        "# <font color=\"orange\">**T-Test - Two Sample - Paired**</font>"
      ]
    },
    {
      "cell_type": "markdown",
      "metadata": {
        "id": "_NO48Mngi1aW"
      },
      "source": [
        "Note:\n",
        "\n",
        "* Test is applied on the same group before and after some improvement."
      ]
    },
    {
      "cell_type": "code",
      "execution_count": null,
      "metadata": {
        "id": "9_3S8aFog1aM"
      },
      "outputs": [],
      "source": [
        "# Given Data:\n",
        "before = np.array([2.45, 0.69, 1.80, 2.80, 0.07, 1.67, 2.93, 0.47, 1.45, 1.34])\n",
        "after = np.array([7.71, 2.17, 5.65, 8.79, 0.23, 5.23, 9.19, 1.49, 4.56, 4.20])\n",
        "\n",
        "# Assumption:\n",
        "'''\n",
        "TWO TAILED:\n",
        "Ho: before(mean) = after(mean)\n",
        "Ha: before(mean) <> after(mean)\n",
        "\n",
        "RIGHT TAILED:\n",
        "Ho: before(mean) = after(mean)\n",
        "Ha: before(mean) > after(mean)\n",
        "\n",
        "LEFT TAILED:\n",
        "Ho: before(mean) = after(mean)\n",
        "Ha: before(mean) < after(mean)\n",
        "\n",
        "Distibution: Normal\n",
        "'''\n",
        "# Calculate the test statistic (T) and P-Value using Library:\n",
        "from scipy.stats import ttest_rel\n",
        "t_stat, p_value = ttest_rel(before, after, alternative = 'two-sided') # greater, less"
      ]
    },
    {
      "cell_type": "markdown",
      "metadata": {
        "id": "xQwF346ckbbo"
      },
      "source": [
        "---\n",
        "\n",
        "\n",
        "# <font color=\"red\">**4) CHI SQUARED TEST**</font>"
      ]
    },
    {
      "cell_type": "markdown",
      "metadata": {
        "id": "1DugaDe9k9Y2"
      },
      "source": [
        "**Assumptions:**\n",
        "\n",
        "* Variables are categorical\n",
        "* Observations are independent (Politician example)\n",
        "* Each cell is mutually exclusive (Only one choise example: Ramesh should like either online or offline).\n",
        "* The expected value in each cell should be greater than 5."
      ]
    },
    {
      "cell_type": "markdown",
      "metadata": {
        "id": "PiX9ozvbkk2_"
      },
      "source": [
        "# <font color=\"orange\">**Chi Squared - Goodness of Fit**</font>"
      ]
    },
    {
      "cell_type": "markdown",
      "metadata": {
        "id": "2rPiEPuLWlhS"
      },
      "source": [
        "**Note:**\n",
        "\n",
        "* Example Coin toss 50 number of times.\n",
        "* When we **have both observed and expected** we go for this test.\n",
        "* **Always Chi-square goodness of fit test is RIGHT TAILED**\n",
        "* Distribution: Chi square distribution."
      ]
    },
    {
      "cell_type": "markdown",
      "metadata": {
        "id": "fhh06PYJeu0u"
      },
      "source": [
        "Library: Prefered"
      ]
    },
    {
      "cell_type": "code",
      "execution_count": null,
      "metadata": {
        "id": "SOB6pDe9kbWH"
      },
      "outputs": [],
      "source": [
        "# Calaim:\n",
        "'''\n",
        "Is the observation matches with the expectation or not?\n",
        "'''\n",
        "# Given Data type 1:\n",
        "observed = np.array([45,5])\n",
        "expected = np.array([25,25])\n",
        "alpha\n",
        "\n",
        "# Given Data type 2:\n",
        "observed = np.array([30,85,85])\n",
        "expected = np.array([0.20,0.50,0.30]) # Expected is in terms of %\n",
        "sample_size = 200\n",
        "expected = expected * sample_size\n",
        "alpha = 5/100\n",
        "\n",
        "# Assumption:\n",
        "'''\n",
        "# Ho: Coin is fair\n",
        "# Ha: Coin is biased\n",
        "\n",
        "Distribution: Chi square distribution\n",
        "Always RIGHT TAILED\n",
        "'''\n",
        "# Calculate Stastistics and p-value:\n",
        "from scipy.stats import chisquare\n",
        "chi_stat, p_value = chisquare(observed, expected)"
      ]
    },
    {
      "cell_type": "markdown",
      "metadata": {
        "id": "JKy-Bh8QexgP"
      },
      "source": [
        "Formulae:"
      ]
    },
    {
      "cell_type": "code",
      "execution_count": null,
      "metadata": {
        "id": "cpAEgefOViDt"
      },
      "outputs": [],
      "source": [
        "# Calculate Chistastictic:\n",
        "chi_stat = (observed_1 - expection_1)**2/expection_1 + (observed_2 - expection_1)**2 /expection_1\n",
        "\n",
        "# Calculate p_value:\n",
        "from scipy.stats import chi2\n",
        "p_value = 1 - chi2.cdf(chi_stat, df = 1) # Give the df based on the input\n",
        "# Note: Always chisq test is RIGHT TAILED"
      ]
    },
    {
      "cell_type": "markdown",
      "metadata": {
        "id": "xok9YvRnkyyn"
      },
      "source": [
        "# <font color=\"orange\">**Chi Squared - Test for Independance**</font>\n",
        "\n"
      ]
    },
    {
      "cell_type": "markdown",
      "metadata": {
        "id": "MKR2csXiWB3J"
      },
      "source": [
        "**Note:**\n",
        "\n",
        "* Example: Gender Vs Prederence, if Gender impacts online or offline.\n",
        "* Input will be in the form of Cross tab.\n",
        "* When we **only know the observed and we don't have expected** we go for this test.\n"
      ]
    },
    {
      "cell_type": "code",
      "execution_count": null,
      "metadata": {
        "id": "rFfvgdpEk5cI"
      },
      "outputs": [],
      "source": [
        "# Calaim:\n",
        "'''\n",
        "Is one category is having any relationship or associated with other or not?\n",
        "'''\n",
        "# Given Data type 1: Should be in the form of 2D array\n",
        "observed = [\n",
        "            [527, 72],\n",
        "            [206, 102]\n",
        "           ]\n",
        "\n",
        "# Given Data type 2:\n",
        "val = pd.crosstab(index=data[\"Income_bin\"], columns=data[\"Loan_Status\"]).values\n",
        "observed = val # Output will be in 2D matrix\n",
        "# (OR)\n",
        "vals = pd.crosstab(data[\"TotalIncome_bin\"], data[\"Loan_Status\"])\n",
        "observed = val # Output will be in 2D matrix\n",
        "\n",
        "# Assumption:\n",
        "'''\n",
        "Ho: Gender and preference are INDEPENDENT\n",
        "Ha: Gender and preference are NOT INDEPENDENT\n",
        "'''\n",
        "# Calculate Stastistics and p-value:\n",
        "from scipy.stats import chi2_contingency\n",
        "chi_stat, p_value, df, exp_freq = chi2_contingency(observed)"
      ]
    },
    {
      "cell_type": "markdown",
      "metadata": {
        "id": "owuHHiiIOG1t"
      },
      "source": [
        "---\n",
        "\n",
        "\n",
        "# <font color=\"red\">**5) NORMALITY TEST**</font>"
      ]
    },
    {
      "cell_type": "markdown",
      "metadata": {
        "id": "hI0lpti9OQqb"
      },
      "source": [
        "# <font color=\"orange\">**QQ Plot**</font>"
      ]
    },
    {
      "cell_type": "code",
      "execution_count": null,
      "metadata": {
        "id": "-C-WHBbGOEds"
      },
      "outputs": [],
      "source": [
        "import statsmodels.api as sm\n",
        "sm.qqplot(df_wt[\"time\"], line=\"s\")"
      ]
    },
    {
      "cell_type": "markdown",
      "metadata": {
        "id": "u1-9bMidOgJb"
      },
      "source": [
        "# <font color=\"orange\">**Shapiro-Wilk test**</font>"
      ]
    },
    {
      "cell_type": "markdown",
      "metadata": {
        "id": "xZbXP9tdOyrD"
      },
      "source": [
        "**Note:** Test Gaussian (50 to 200 samples). It will not work for large number of samples."
      ]
    },
    {
      "cell_type": "code",
      "execution_count": null,
      "metadata": {
        "id": "PjR3aqpVOgAM"
      },
      "outputs": [],
      "source": [
        "# Assumptions:\n",
        "'''\n",
        "H0: Data is Gaussian\n",
        "Ha: Data is not Gaussian\n",
        "'''\n",
        "# Calculate the Test stastistics and p_value:\n",
        "from scipy.stats import shapiro # Test Gaussian (50 to 200 samples)\n",
        "test_stat, p_value = shapiro(height_subset)"
      ]
    },
    {
      "cell_type": "markdown",
      "metadata": {
        "id": "MyvTxZ2vkhi5"
      },
      "source": [
        "---\n",
        "\n",
        "\n",
        "# <font color=\"red\">**6) ANOVA**</font>"
      ]
    },
    {
      "cell_type": "markdown",
      "metadata": {
        "id": "c0OLCH1huluV"
      },
      "source": [
        "# <font color=\"orange\">**One way ANOVA**</font>"
      ]
    },
    {
      "cell_type": "markdown",
      "metadata": {
        "id": "p6r7ffpDu3JA"
      },
      "source": [
        "Example: Aerofit --> Income Vs Product"
      ]
    },
    {
      "cell_type": "markdown",
      "metadata": {
        "id": "SXxB0J9mrka4"
      },
      "source": [
        "**Numerical Vs Catrgorical > 2 samples**\n",
        "\n",
        "**Assumptions of ANOVA:**\n",
        "* Data should be Normal/Gausian.\n",
        "  * If not normal --> Alternative to ANOVA is **Kruskal-Wallis test**\n",
        "* Data should be independent of each other (Income of one person is not dependent on each other.\n",
        "* Equal variance in difference groups --> **Levene Test**\n"
      ]
    },
    {
      "cell_type": "code",
      "execution_count": null,
      "metadata": {
        "id": "ztyPamyYkhag"
      },
      "outputs": [],
      "source": [
        "# Assumptions:\n",
        "'''\n",
        "Ho: States that the means of all groups are equal.\n",
        "Ha: States that at least one of the means is different.\n",
        "\n",
        "Distribution is Normal\n",
        "'''\n",
        "# Calculate the Test stastistics and p_value:\n",
        "from scipy.stats import f_oneway # Numeric Vs categorical for many categories\n",
        "f_stats, p_value = f_oneway(income_g1, income_g2, income_g3)"
      ]
    },
    {
      "cell_type": "markdown",
      "metadata": {
        "id": "EhGOBIOPM2jf"
      },
      "source": [
        "# <font color = \"orange\">**Kruskal-Wallis test**</font>\n",
        "\n"
      ]
    },
    {
      "cell_type": "markdown",
      "metadata": {
        "id": "WqxnkzpFNZwm"
      },
      "source": [
        "**Note:**\n",
        "\n",
        "Altarnate to ANOVA if the data do not follow the assumptions of ANOVA ie) the data DOES NOT have NORMAL DISTRIBUTION."
      ]
    },
    {
      "cell_type": "code",
      "execution_count": null,
      "metadata": {
        "id": "qzAf25tmM2bo"
      },
      "outputs": [],
      "source": [
        "# Assumptions:\n",
        "'''\n",
        "Ho: The populations of all groups have the same median.\n",
        "Ha: At least one of the populations has a different median.\n",
        "'''\n",
        "# Calculate the Test stastistics and p_value:\n",
        "from scipy.stats import kruskal\n",
        "stat, p_value = kruskal(income_g1, income_g2, income_g3)"
      ]
    },
    {
      "cell_type": "markdown",
      "metadata": {
        "id": "43mDWuJANOSI"
      },
      "source": [
        "# <font color = \"orange\">**Levene Test**</font>\n",
        "\n"
      ]
    },
    {
      "cell_type": "markdown",
      "metadata": {
        "id": "ldW_lhOgNcNu"
      },
      "source": [
        "**Note:**\n",
        "* Check for variablity between groups.\n",
        "* Levene’s Test assesses the homogeneity of variances for a set of independent samples.\n",
        "Commonly used before ANOVA to check the assumption of equal variances."
      ]
    },
    {
      "cell_type": "code",
      "execution_count": null,
      "metadata": {
        "id": "izC_mRrRNOJo"
      },
      "outputs": [],
      "source": [
        "# Assumptions:\n",
        "'''\n",
        "# H0: Variances are equal\n",
        "# Ha: Variances are not equal\n",
        "'''\n",
        "# Calculate the Test stastistics and p_value:\n",
        "from scipy.stats import levene # Test variance\n",
        "levene_stat, p_value = levene(height_men, height_women)"
      ]
    },
    {
      "cell_type": "markdown",
      "metadata": {
        "id": "Xrk41BsJaris"
      },
      "source": [
        "# <font color=\"red\">**7) ADVANCE HT**</font>"
      ]
    },
    {
      "cell_type": "markdown",
      "metadata": {
        "id": "0sFNNZr5RiF5"
      },
      "source": [
        "# <font color=\"orange\">**Two way ANOVA**</font>"
      ]
    },
    {
      "cell_type": "code",
      "execution_count": null,
      "metadata": {
        "id": "Cr81LbyjRiAh"
      },
      "outputs": [],
      "source": [
        "# Given Data:\n",
        "alpha = 5/100\n",
        "\n",
        "# Assumption:\n",
        "'''\n",
        "## MAIN EFFECT:\n",
        "# Education:\n",
        "Ho: No significant difference between Education and Test_Score\n",
        "Ha: There is significant difference between Education and Test_Score\n",
        "\n",
        "# Teaching_Method:\n",
        "Ho: No significant difference between Teaching_Method and Test_Score\n",
        "Ha: There is significant difference between Teaching_Method and Test_Score\n",
        "\n",
        "## INTERACTION EFFECT:\n",
        "Ho: No interaction between Education and Teaching_Method\n",
        "Ha: There is significant interaction between Education and Teaching_Method\n",
        "\n",
        "DISTRIBUTION: Noraml\n",
        "TWO WAY ANOVE\n",
        "'''\n",
        "# Calcuate the Test Stastictics and p_value:\n",
        "import statsmodels.api as sm\n",
        "from statsmodels.formula.api import ols\n",
        "from scipy import stats\n",
        "test = ols('Test_Score ~ C(Education) * C(Teaching_Method)', data = df).fit()  # ML Model\n",
        "table = sm.stats.anova_lm(test, typ = 2) # Library for ANOVA\n",
        "table = table.reset_index()\n",
        "table"
      ]
    },
    {
      "cell_type": "code",
      "execution_count": null,
      "metadata": {
        "id": "iVuyPCoVZU6P"
      },
      "outputs": [],
      "source": [
        "## MAIN EFFECT:\n",
        "# Conclusion for Education:\n",
        "print(\"MAIN EFFECT:\")\n",
        "print(\"Conclusion for Education:\")\n",
        "if table.loc[0,\"PR(>F)\"] < alpha:\n",
        "  print(\"Reject Ho\")\n",
        "  print(\"There is significant difference between Education and Test_Score\")\n",
        "else:\n",
        "  print(\"Fail to Reject Ho\")\n",
        "  print(\"No significant difference between Education and Test_Score\")\n",
        "print()\n",
        "\n",
        "# Conclusion for Teaching_Method:\n",
        "print(\"Conclusion for Teaching_Method:\")\n",
        "if table.loc[1,\"PR(>F)\"] < alpha:\n",
        "  print(\"Reject Ho\")\n",
        "  print(\"There is significant difference between Teaching_Method and Test_Score\")\n",
        "else:\n",
        "  print(\"Fail to Reject Ho\")\n",
        "  print(\"No significant difference between Teaching_Method and Test_Score\")\n",
        "print()\n",
        "\n",
        "## INTERACTION EFFECT:\n",
        "print(\"INTERACTION EFFECT:\")\n",
        "print(\"Conclusion:\")\n",
        "if table.loc[2,\"PR(>F)\"] < alpha:\n",
        "  print(\"Reject Ho\")\n",
        "  print(\"There is significant interaction between Education and Teaching_Method\")\n",
        "else:\n",
        "  print(\"Fail to Reject Ho\")\n",
        "  print(\"No interaction between Education and Teaching_Method\")"
      ]
    },
    {
      "cell_type": "markdown",
      "metadata": {
        "id": "Wk_p5mzzaV0V"
      },
      "source": [
        "# <font color=\"orange\">**KS Test**</font>\n",
        "\n",
        "\n"
      ]
    },
    {
      "cell_type": "markdown",
      "metadata": {
        "id": "SJ1xgWTabRAs"
      },
      "source": [
        "**Note:**\n",
        "* It is distribbution free test.\n",
        "* Always a RIGHT TAILED test."
      ]
    },
    {
      "cell_type": "code",
      "execution_count": null,
      "metadata": {
        "id": "8ucHgwZHZ22O"
      },
      "outputs": [],
      "source": [
        "# Given Data:\n",
        "sales_strategy_A = np.array([156, 153, 157, 154, 156, 159, 152, 156, 157, 154, 153, 157, 157,152, 155, 154, 151, 157, 155, 151])\n",
        "sales_strategy_B = np.array([135, 147, 126, 136, 158, 139, 163, 141, 156, 142, 130, 129, 161, 158, 117, 151, 121, 135, 123, 153])\n",
        "alpha = 0.05\n",
        "# Claim: If there is a significant difference in the sales distributions between Strategy A and Strategy B.\n",
        "'''\n",
        "Note: Since it is having distribution, need to perform KS test\n",
        "'''\n",
        "# Assumption:\n",
        "'''\n",
        "Ho: same (No significance difference in the distruibution)\n",
        "Ha: Difference (There is a significance difference in the distruibution)\n",
        "\n",
        "Distribution of Test statistic: KS distribution\n",
        "KS Test (Non Parametric Test)\n",
        "'''\n",
        "# Calcuate the Test Stastictics and p_value:\n",
        "from scipy import stats\n",
        "statistic, p_value =  stats.kstest(sales_strategy_A, sales_strategy_B)\n",
        "\n",
        "print(f\"Test Stastistics: {statistic}\")\n",
        "print(f\"P-Value: {p_value}\")\n",
        "print()\n",
        "print(\"CONCLUSION:\")\n",
        "\n",
        "# Conclusion:\n",
        "if p_value < alpha:\n",
        "  print(\"Reject Ho\")\n",
        "  print(\"There is a significance difference in the distruibution\")\n",
        "else:\n",
        "  print(\"Fail to reject Ho\")\n",
        "  print(\"No significance difference in the distruibution\")"
      ]
    },
    {
      "cell_type": "code",
      "execution_count": null,
      "metadata": {
        "id": "qcFeSarYacVX"
      },
      "outputs": [],
      "source": [
        "# To Test the CDF distribution:\n",
        "# Distribution:\n",
        "plt.grid()\n",
        "plt.hist(sales_strategy_A, bins=100, cumulative=True, label='CDF', density=True, histtype='step')\n",
        "plt.hist(sales_strategy_B, bins=100, cumulative=True, label='CDF', density=True, histtype='step')\n",
        "plt.show()"
      ]
    },
    {
      "cell_type": "markdown",
      "metadata": {
        "id": "U5Oc-8YLdtBY"
      },
      "source": [
        "# <font color=\"orange\">**AB Testing Framework**</font>\n",
        "\n",
        "\n"
      ]
    },
    {
      "cell_type": "markdown",
      "metadata": {
        "id": "leV42wU3ekbf"
      },
      "source": [
        "**Note:**\n",
        "* For TWO SAMPLE T-Test.\n",
        "* Treatment group - With new feature\n",
        "* Control group - With old feature"
      ]
    },
    {
      "cell_type": "markdown",
      "metadata": {
        "id": "HkqyaNySeWfo"
      },
      "source": [
        "TWO SAMPLE T-TEST: TWO TAILED TEST"
      ]
    },
    {
      "cell_type": "code",
      "execution_count": null,
      "metadata": {
        "id": "zRTMZZhcds8h"
      },
      "outputs": [],
      "source": [
        "# Lets perform TWO SAMPLE T-TEST:\n",
        "# Asssumption:\n",
        "'''\n",
        "Ho: mu_A = mu_B (There is no significant difference in adoption rates for Approach B compared to Approach A)\n",
        "Ha: mu_A <> mu_B (There is a significant difference in adoption rates for Approach B compared to Approach A)\n",
        "\n",
        "Distribution: Normal\n",
        "'''\n",
        "# Calculate the T-Stastistics and p_value:\n",
        "statistic, p_value = stats.ttest_ind(Group_A_Approach_A_Control, Group_B_Approach_B_Treatment)\n",
        "\n",
        "print(\"Test Statistic:\", statistic)\n",
        "print(\"P-value:\", p_value)\n",
        "print()\n",
        "\n",
        "print(\"CONCLUSION:\")\n",
        "\n",
        "# Conclusion:\n",
        "if p_value < alpha:\n",
        "  print(\"Reject Ho\")\n",
        "  print(\"There is a significant difference in adoption rates for Approach B compared to Approach A\")\n",
        "else:\n",
        "  print(\"Fail to reject Ho\")\n",
        "  print(\"There is no significant difference in adoption rates for Approach B compared to Approach A\")"
      ]
    },
    {
      "cell_type": "markdown",
      "metadata": {
        "id": "dcXsR7lSegSW"
      },
      "source": [
        "TWO SAMPLE T-TEST: RIGHT TAILED TEST"
      ]
    },
    {
      "cell_type": "code",
      "execution_count": null,
      "metadata": {
        "id": "2DExTmOLecjG"
      },
      "outputs": [],
      "source": [
        "# Lets perform TWO SAMPLE T-TEST:\n",
        "# Asssumption:\n",
        "'''\n",
        "Ho: mu_B <= mu_A (There is no significant difference in adoption rates for Approach B compared to Approach A.)\n",
        "Ha: mu_B > mu_A (There is a significant difference in adoption rates for Approach B compared to Approach A.)\n",
        "\n",
        "Distribution: Normal\n",
        "'''\n",
        "# Calculate the T-Stastistics and p_value:\n",
        "statistic, p_value = stats.ttest_ind(Group_B_Approach_B_Treatment, Group_A_Approach_A_Control, alternative='greater')\n",
        "\n",
        "print(\"Test Statistic:\", statistic)\n",
        "print(\"P-value:\", p_value)\n",
        "print()\n",
        "\n",
        "print(\"CONCLUSION:\")\n",
        "\n",
        "# Conclusion:\n",
        "if p_value < alpha:\n",
        "  print(\"Reject Ho\")\n",
        "  print(\"There is a significant difference in adoption rates for Approach B compared to Approach A.\")\n",
        "else:\n",
        "  print(\"Fail to reject Ho\")\n",
        "  print(\"There is no significant difference in adoption rates for Approach B compared to Approach A.\")"
      ]
    },
    {
      "cell_type": "markdown",
      "metadata": {
        "id": "Q11T1wH0gyBb"
      },
      "source": [
        "# <font color=\"red\">**7) CORRELATION**</font>"
      ]
    },
    {
      "cell_type": "markdown",
      "metadata": {
        "id": "SOHhmXsOaw_w"
      },
      "source": [
        "**Covariance:**\n",
        "* How each data points are related to each other.\n",
        "\n",
        "* Covariance captures the direction and strength of the relationship, but its units deponds on the variables.\n",
        "\n",
        "**Correlation:**\n",
        "\n",
        " * Correlation removes the unit and standardizes the relationship on a scale of -1 to 1, making it easier to compare relationships between variables."
      ]
    },
    {
      "cell_type": "markdown",
      "metadata": {
        "id": "U8RYe1TFXxQV"
      },
      "source": [
        "# <font color=\"orange\">Pearson corelation</font>\n",
        "\n",
        "For linear data"
      ]
    },
    {
      "cell_type": "code",
      "execution_count": null,
      "metadata": {
        "id": "yIi02tBLgx2j"
      },
      "outputs": [],
      "source": [
        "# Assumption:\n",
        "'''\n",
        "H0: No correlation\n",
        "Ha: There is correlation\n",
        "'''\n",
        "# Calculate Test Stastictic and P-Value:\n",
        "from scipy.stats import pearsonr\n",
        "pearsonr(df_hw[\"Height\"], df_hw[\"Weight\"])"
      ]
    },
    {
      "cell_type": "markdown",
      "metadata": {
        "id": "DoJk_7XGc43U"
      },
      "source": [
        "# <font color=\"orange\">Spearman corelation</font>\n",
        "\n",
        "For both linear and non linear data"
      ]
    },
    {
      "cell_type": "code",
      "execution_count": null,
      "metadata": {
        "id": "W0DKpZekc4p6"
      },
      "outputs": [],
      "source": [
        "# Assumption:\n",
        "'''\n",
        "H0: No correlation\n",
        "Ha: There is correlation\n",
        "'''\n",
        "# Calculate Test Stastictic and P-Value:\n",
        "from scipy.stats import spearmanr\n",
        "correlation_coefficient, p_value = spearmanr(df_hw[\"Height\"], df_hw[\"Weight\"])"
      ]
    }
  ],
  "metadata": {
    "colab": {
      "provenance": []
    },
    "kernelspec": {
      "display_name": "Python 3",
      "name": "python3"
    },
    "language_info": {
      "name": "python"
    }
  },
  "nbformat": 4,
  "nbformat_minor": 0
}
