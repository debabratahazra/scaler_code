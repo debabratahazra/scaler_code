{
  "nbformat": 4,
  "nbformat_minor": 0,
  "metadata": {
    "colab": {
      "provenance": [],
      "toc_visible": true
    },
    "kernelspec": {
      "name": "python3",
      "display_name": "Python 3"
    },
    "language_info": {
      "name": "python"
    }
  },
  "cells": [
    {
      "cell_type": "markdown",
      "source": [
        "<table align=\"center\" width=\"100%\">\n",
        "    <tr>\n",
        "        <td width=\"35%\">\n",
        "            <img src=\"https://www.investopedia.com/thmb/yc7LDieTkD3dl9GYFmvMsNHNfy0=/1500x0/filters:no_upscale():max_bytes(150000):strip_icc()/t-test_final2-d26bbb129cc441c192ccf8e784ae06a4.png\">\n",
        "        </td>\n",
        "        <td>\n",
        "            <div align=\"center\">\n",
        "                <font color=\"#7F0542\" size=\"6\">\n",
        "                    <b>T - test</b>\n",
        "                </font>\n",
        "            </div>\n",
        "        </td>\n",
        "    </tr>\n",
        "</table>"
      ],
      "metadata": {
        "id": "H3WBdK1S4a2A"
      }
    },
    {
      "cell_type": "markdown",
      "source": [
        "## <font color='red'>**Please note that any topics that are not covered in today's lecture will be covered in the next lecture.**</font>"
      ],
      "metadata": {
        "id": "mIfB_cwlaX1e"
      }
    },
    {
      "cell_type": "markdown",
      "source": [
        "## <font color='blue'>**Content**</font>\n",
        "\n",
        "\n",
        "1. Recap Framework\n",
        "3. T-Test using 1 sample\n",
        "4. T-Test using 2 samples\n",
        "5. Paired T-Test"
      ],
      "metadata": {
        "id": "e7VJdj4aATHE"
      }
    },
    {
      "cell_type": "markdown",
      "source": [
        "## <font color='blue'>Recap Framework for Hypothesis Testing</font>\n",
        "\n",
        "\n",
        "We start any Hypothesis Testing problem with 2 things:\n",
        "- Assumption\n",
        "- Data\n",
        "\n",
        "There is a framework to compute a quantifiable metric that helps decide if we should accept or reject our null hypothesis.\n",
        "\n",
        "\n",
        "<font color='purple'>**Let's summarise it into steps:-**</font>\n",
        "\n",
        "1. Setup Null and Alternate Hypothesis\n",
        "2. Choose the distribution (Gaussian, Binomial, etc), and hence the test statistic.\n",
        "3. Select the Left vs Right vs Two-Tailed test, as per the hypothesis\n",
        "4. Compute the P-Value\n",
        "5. Compare the P-Value to the Significance Level (α) and Fail to reject/reject the Null Hypothesis accordingly.\n",
        "\n",
        "---"
      ],
      "metadata": {
        "id": "F6rP7pushmsX"
      }
    },
    {
      "cell_type": "code",
      "execution_count": null,
      "metadata": {
        "id": "pz_QKECNVjtR"
      },
      "outputs": [],
      "source": [
        "import numpy as np\n",
        "import pandas as pd\n",
        "import seaborn as sns\n",
        "import matplotlib.pyplot as plt"
      ]
    },
    {
      "cell_type": "markdown",
      "source": [
        "<font color='purple'>Question</font>\n",
        "\n",
        "\n",
        "```\n",
        "A french cake shop claims that the average number of pastries they can produce in a day exceeds 500.\n",
        "The average number of pastries produced per day over a 70 day period was found to be 530.\n",
        "Assume that the population standard deviation for the pastries produced per day is 125.\n",
        "\n",
        "Test the claim using a z-test with the critical z-value = 1.64 at the alpha (significance level) = 0.05, and state your interpretation.\n",
        "```"
      ],
      "metadata": {
        "id": "ijDWaYC2pPxL"
      }
    },
    {
      "cell_type": "markdown",
      "source": [
        "##### <font color='green'>**STEP 1:**</font>\n",
        "\n",
        "> **What should be the null and alternate hypothesis?**\n",
        "\n",
        "- Null Hypothesis ($H_0$): $μ = 500$\n",
        "- Alternative Hypothesis ($H_a$): $μ > 500$\n",
        "\n",
        "Some people may also write the null hypothesis as: $μ <= 500$\n",
        "- But this would be wrong, due to a small technical issue\n",
        "- Essentially by doing so, we're saying that there is a distribution whose mean is `less than or equal to 500`. You won't be able to do anything with this information.\n",
        "- Clearly, that would be wrong.\n",
        "- Rather, if we say that it is specifically `μ = 500`, then that works.\n",
        "\n",
        "Also, note that the burden of proof lies on the Alternate hypothesis."
      ],
      "metadata": {
        "id": "QdAWZJWtqv1A"
      }
    },
    {
      "cell_type": "markdown",
      "source": [
        "##### <font color='green'>**STEP 2:**</font>\n",
        "\n",
        "> **Choosing the right test statistic and its distribution.**\n",
        "\n",
        "- We know that for 70 days, the average was 530.\n",
        "- If this was the sample mean, under the assumption of the Null hypothesis\n",
        "\n",
        "> **What would be the std dev for this sample?**\n",
        "\n",
        "$σ_m = \\frac{125}{\\sqrt{70}}$, Assuming the population mean to be 500 (as per our null hypothesis)\n",
        "\n",
        "<br>\n",
        "\n",
        "Also, for test statistic, we will choose the Z score."
      ],
      "metadata": {
        "id": "7hltTELEsA7U"
      }
    },
    {
      "cell_type": "markdown",
      "source": [
        "##### <font color='green'>**STEP 3:**</font>\n",
        "\n",
        "> **Left side or Right side or Two-tailed?**\n",
        "\n",
        "This can be answered by noticing the alternate hypothesis.\n",
        "\n",
        "Since it's asking to check for the right side (μ > 500), we will perform **Right Tailed Test**."
      ],
      "metadata": {
        "id": "Vbk91NLts_i5"
      }
    },
    {
      "cell_type": "markdown",
      "source": [
        "##### <font color='green'>**STEP 4:**</font>\n",
        "\n",
        "**Calculating P-value**\n",
        "\n",
        "Let's calculate the z-score for `x = 530`\n",
        "\n",
        "- $z = \\frac{530 - 500}{\\frac{125}{\\sqrt{70}}}$"
      ],
      "metadata": {
        "id": "5u09mqsOxgLb"
      }
    },
    {
      "cell_type": "code",
      "source": [
        "z_stat = (530 - 500) / (125/np.sqrt(70))\n",
        "z_stat"
      ],
      "metadata": {
        "colab": {
          "base_uri": "https://localhost:8080/"
        },
        "id": "YV2lPM26x0M5",
        "outputId": "46699247-81c1-4073-d7f4-34aa5ad37a78"
      },
      "execution_count": null,
      "outputs": [
        {
          "output_type": "execute_result",
          "data": {
            "text/plain": [
              "2.007984063681781"
            ]
          },
          "metadata": {},
          "execution_count": 2
        }
      ]
    },
    {
      "cell_type": "code",
      "source": [
        "from scipy.stats import norm\n",
        "\n",
        "pvalue = 1 - norm.cdf(z_stat)\n",
        "pvalue"
      ],
      "metadata": {
        "colab": {
          "base_uri": "https://localhost:8080/"
        },
        "id": "nKZ12B0JyC9n",
        "outputId": "622d7e99-3ef3-4894-a5f7-5069ee5435dc"
      },
      "execution_count": null,
      "outputs": [
        {
          "output_type": "execute_result",
          "data": {
            "text/plain": [
              "0.022322492581293485"
            ]
          },
          "metadata": {},
          "execution_count": 3
        }
      ]
    },
    {
      "cell_type": "markdown",
      "source": [
        "##### <font color='green'>**STEP 5:**</font>\n",
        "\n",
        "**Compare with significance level**"
      ],
      "metadata": {
        "id": "sFM2_aE0yKtl"
      }
    },
    {
      "cell_type": "code",
      "source": [
        "alpha = 0.05\n",
        "\n",
        "if pvalue < alpha:\n",
        "  print('Reject H0')\n",
        "else:\n",
        "  print ('Fail to Reject H0')"
      ],
      "metadata": {
        "colab": {
          "base_uri": "https://localhost:8080/"
        },
        "id": "W2Y7goYLyN9W",
        "outputId": "2a0579d7-8a32-4336-a07d-c6bb8aa8041b"
      },
      "execution_count": null,
      "outputs": [
        {
          "output_type": "stream",
          "name": "stdout",
          "text": [
            "Reject H0\n"
          ]
        }
      ]
    },
    {
      "cell_type": "markdown",
      "source": [
        "Therefore, we say that the average number of pastries that the bakery can produce in a day exceeds 500."
      ],
      "metadata": {
        "id": "hkcIIgSbyeGZ"
      }
    },
    {
      "cell_type": "markdown",
      "source": [
        "Let's also find\n",
        "\n",
        "#### <font color='purple'>Critical Point</font>\n",
        "\n",
        "First, find the corresponding z-score for 95% confidence\n",
        "\n",
        "This is also given in the question."
      ],
      "metadata": {
        "id": "CoHQ4SjhzE1v"
      }
    },
    {
      "cell_type": "code",
      "source": [
        "z = norm.ppf(0.95)\n",
        "z"
      ],
      "metadata": {
        "colab": {
          "base_uri": "https://localhost:8080/"
        },
        "id": "aHx3S6nWzI2_",
        "outputId": "ffc2ef5b-c380-4251-f000-08c744faaf09"
      },
      "execution_count": null,
      "outputs": [
        {
          "output_type": "execute_result",
          "data": {
            "text/plain": [
              "1.6448536269514722"
            ]
          },
          "metadata": {},
          "execution_count": 5
        }
      ]
    },
    {
      "cell_type": "markdown",
      "source": [
        "Since, $z = \\frac{x - μ_m}{σ_m}$\n",
        "\n",
        "- $x = z*σ_m + μ_m = 1.64 * \\frac{125}{\\sqrt{70}} + 500$"
      ],
      "metadata": {
        "id": "ibb0lz-HzdN1"
      }
    },
    {
      "cell_type": "code",
      "source": [
        "x = 500 + (z*(125/np.sqrt(70)))\n",
        "x"
      ],
      "metadata": {
        "colab": {
          "base_uri": "https://localhost:8080/"
        },
        "id": "4RBMl514zNgF",
        "outputId": "888c03b1-0764-42b6-e42c-d8c82d032a40"
      },
      "execution_count": null,
      "outputs": [
        {
          "output_type": "execute_result",
          "data": {
            "text/plain": [
              "524.574701413748"
            ]
          },
          "metadata": {},
          "execution_count": 6
        }
      ]
    },
    {
      "cell_type": "markdown",
      "source": [
        "This means that if the bakery produces a daily average of at least 524.57 pastries for 70 days, we will reject the null hypothesis, and accept their claim of producing $> 500$ pastries every day, with a 95% confidence."
      ],
      "metadata": {
        "id": "6uC5UfSw0Hck"
      }
    },
    {
      "cell_type": "markdown",
      "source": [
        "> <font color='purple'>**What will be the p-value when observed sales average value is 540?**</font>"
      ],
      "metadata": {
        "id": "MKA2FyyC170e"
      }
    },
    {
      "cell_type": "code",
      "source": [
        "z = (540 - 500) / (125/np.sqrt(70))\n",
        "1 - norm.cdf(z)"
      ],
      "metadata": {
        "colab": {
          "base_uri": "https://localhost:8080/"
        },
        "id": "wws_7Hio2Ic7",
        "outputId": "ec23f179-1471-4f05-e0af-b5c62db70531"
      },
      "execution_count": null,
      "outputs": [
        {
          "output_type": "execute_result",
          "data": {
            "text/plain": [
              "0.0037107735265998754"
            ]
          },
          "metadata": {},
          "execution_count": 7
        }
      ]
    },
    {
      "cell_type": "markdown",
      "source": [
        "---\n",
        "\n",
        "## <font color='blue'>One sample T-test</font>"
      ],
      "metadata": {
        "id": "SRpBNeIq2XOz"
      }
    },
    {
      "cell_type": "markdown",
      "source": [
        "\n",
        "\n",
        "<font color='purple'>**Let's say you are a Research Scientist working on a new cognitive enhancement pill**</font>\n",
        "\n",
        "- The goal is to develop a pill that can significantly improve IQ scores in individuals.\n",
        "\n",
        "- You believe that the new pill will lead to a significant increase in average IQ scores for the population.\n",
        "\n",
        "<font color='purple'>**Testing the Pill's Effectiveness:**</font>\n",
        "\n",
        "**Case 1:** The new pill may increase the average IQ scores.\n",
        "\n",
        "- By enhancing cognitive functions, individuals taking the pill may show improved performance in IQ tests.\n",
        "\n",
        "**Case 2:** The new pill may have no significant effect on IQ scores.\n",
        "\n",
        "- The researchers need to verify whether the pill is effective or not before widespread use.\n",
        "\n",
        "<font color='purple'>**Testing the Hypothesis:**</font>\n",
        "\n",
        "- Researchers need a way to test whether the new pill has a significant impact on IQ scores.\n",
        "- This involves comparing the average IQ scores of a group taking the pill with those of a control group not taking the pill.\n",
        "\n",
        "<br>\n",
        "\n",
        "<font color='purple'>**Why Not Z-test:**</font>\n",
        "\n",
        "**Scenario Complexity:**\n",
        "\n",
        "- In the real world, the standard deviation of IQ scores in the population is often unknown.\n",
        "\n",
        "- The Z-test requires knowledge of the population standard deviation, which may not be practical or feasible to obtain.\n",
        "\n",
        "**Sample Size:**\n",
        "\n",
        "- When dealing with small sample sizes, the use of the t-test is more appropriate as it accounts for the increased uncertainty associated with smaller samples.\n",
        "\n",
        "<font color='purple'>**Enter T-test:**</font>\n",
        "\n",
        "The T-test for Samples can help assess whether there is a statistically significant difference in mean IQ scores between the group taking the new pill and the control group.\n",
        "\n",
        "- This test allows researchers to evaluate the effectiveness of the cognitive enhancement pill before making it available to the wider population.\n",
        "- It ensures that decisions about the pill are based on sound statistical evidence rather than assumptions.\n",
        "\n",
        "The motivation for the T-test in this scenario is to rigorously test whether the new cognitive enhancement pill has the desired impact on IQ scores, providing a reliable basis for decision-making before its widespread application.\n",
        "\n",
        "The choice of the t-test over the z-test is driven by the complexities of the real-world scenario and the practical considerations associated with sample size and population standard deviation."
      ],
      "metadata": {
        "id": "VEfWKjiDA5L_"
      }
    },
    {
      "cell_type": "markdown",
      "source": [
        "### <font color='purple'>Use Case: Improve IQ with Pill</font>"
      ],
      "metadata": {
        "id": "t5IuX6UC8I8m"
      }
    },
    {
      "cell_type": "markdown",
      "source": [
        "\n",
        "Suppose that the average IQ of the population is 100\n",
        "\n",
        "A researcher claims that his pill will improve IQ\n",
        "\n",
        "> <font color='purple'>**What is the first thing that you will do?**</font>\n",
        "\n",
        "Collect data/evidence, and then try to test if his hypothesis is correct."
      ],
      "metadata": {
        "id": "bUAbLUScMT7u"
      }
    },
    {
      "cell_type": "code",
      "source": [
        "# The pill is given to a few people and their IQ is tested with following results:\n",
        "iq_scores = [110, 105, 98, 102, 99, 104, 115, 95]"
      ],
      "metadata": {
        "id": "s-Et9kMFMxhH"
      },
      "execution_count": null,
      "outputs": []
    },
    {
      "cell_type": "markdown",
      "source": [
        "Let's see the mean IQ of this sample"
      ],
      "metadata": {
        "id": "l0_08QUkNC9W"
      }
    },
    {
      "cell_type": "code",
      "source": [
        "np.mean(iq_scores)"
      ],
      "metadata": {
        "colab": {
          "base_uri": "https://localhost:8080/"
        },
        "id": "xkGCc2l1NGBP",
        "outputId": "71f6ff07-0ec4-4791-a4ba-b2f1cf7b7af6"
      },
      "execution_count": null,
      "outputs": [
        {
          "output_type": "execute_result",
          "data": {
            "text/plain": [
              "103.5"
            ]
          },
          "metadata": {},
          "execution_count": 9
        }
      ]
    },
    {
      "cell_type": "markdown",
      "source": [
        "> <font color='purple'>The mean seems to be $> 100$, can we directly say that okay this pill is effective?</font>\n",
        "\n",
        "- No.\n",
        "- The sample size is small. Data is not enough.\n",
        "\n",
        "<br>\n",
        "\n",
        "Before making any such claim, we'd want to be 99% confident ($α = 0.01$)\n",
        "\n",
        "In this context when\n",
        "- We have very little data\n",
        "- We do not know that the standard deviation\n",
        "\n",
        "We will use a test called **T Test**.\n",
        "\n",
        "<br>\n",
        "\n",
        "There are 3 types of T-tests:-\n",
        "- With 1 sample\n",
        " - Here, You have a bunch of samples that you are comparing with a single number\n",
        "- With 2 samples where samples are independent\n",
        "- With 2 samples where samples are dependent"
      ],
      "metadata": {
        "id": "IF9wcfC4NK82"
      }
    },
    {
      "cell_type": "markdown",
      "source": [
        "In our problem, we are only given\n",
        "- Population mean: 100 (a single number)\n",
        "- One set of sample IQ values: `[110, 105, 98, 102, 99, 104, 115, 95]`\n",
        "\n",
        "Such a case is called **One Sample T Test**\n",
        "\n",
        "<br>\n",
        "\n",
        "\n",
        "Alternately, suppose 2 schools are competing, and we have avg IQs from both schools A and B.\n",
        "\n",
        "In that context, we'd have used **Two Sample T Test**."
      ],
      "metadata": {
        "id": "-ZzHYlb1PQrr"
      }
    },
    {
      "cell_type": "markdown",
      "source": [
        "> <font color='purple'>**What are the null and alternate hypothesis?**</font>\n",
        "\n",
        "- $H_0: μ = 100$ (pill has no effect)\n",
        "- $H_a: μ > 100$ (pill has positive effect)"
      ],
      "metadata": {
        "id": "wToOb2pXQH6Q"
      }
    },
    {
      "cell_type": "markdown",
      "source": [
        "> <font color='purple'>**Can we plot the distribution?**</font>\n",
        "\n",
        "- No.\n",
        "- We know that the sample mean is 100\n",
        "- But we do not know the sample standard deviation (std error) or population standard deviation.\n",
        "\n",
        "<br>\n",
        "\n",
        "Moreover, if we had that, we would've easily computed the z-score corresponding to $x = 103.5$ and then the pvalue\n",
        "\n",
        "But this is not possible here. We **cannot use z-score / z-statistic**"
      ],
      "metadata": {
        "id": "a9zU9Uc0z9CT"
      }
    },
    {
      "cell_type": "markdown",
      "source": [
        "> <font color='purple'>**What to do now?**</font>\n",
        "\n",
        "We do not have a population standard deviation, so we cannot evaluate it for the sample, as per CLT.\n",
        "\n",
        "However, we are given the sample, so we can compute the **sample standard deviation ($s$).**\n",
        "\n",
        "When we do that, we will get: $\\frac{x - μ}{\\frac{s}{\\sqrt{n}}}$\n",
        "\n",
        "- $n$: sample size\n",
        "- $s$: sample standard deviation\n",
        "\n",
        "This is **NOT the z-score anymore**, in fact, it is known as the **T-Statistic** that yields **T Distribution**\n",
        "\n",
        "This modified framework is called **T Test**."
      ],
      "metadata": {
        "id": "BdPPBZWQ1gEB"
      }
    },
    {
      "cell_type": "markdown",
      "source": [
        "In this framework of T-test, we no longer need to use `.cdf(), .pdf(), etc`.\n",
        "\n",
        "We will use a one-line code, where we directly use the existing function from scipy.\n",
        "\n",
        "We need to call it: `ttest_1samp(sample, 100)`\n",
        "- Here, 100 is the number we want to compare, as per the null hypothesis.\n",
        "\n",
        "As a result, it will give us:\n",
        "- T statistic value\n",
        "- p-value"
      ],
      "metadata": {
        "id": "BUevmIF83ll8"
      }
    },
    {
      "cell_type": "code",
      "source": [
        "from scipy.stats import ttest_1samp"
      ],
      "metadata": {
        "id": "Wc_HhYEj4DFz"
      },
      "execution_count": null,
      "outputs": []
    },
    {
      "cell_type": "code",
      "source": [
        "t_stat, pvalue = ttest_1samp(iq_scores, 100)\n",
        "t_stat, pvalue"
      ],
      "metadata": {
        "colab": {
          "base_uri": "https://localhost:8080/"
        },
        "id": "8ZynuxmE4HpR",
        "outputId": "a8ee9c94-c143-4701-a564-1713af127fc3"
      },
      "execution_count": null,
      "outputs": [
        {
          "output_type": "execute_result",
          "data": {
            "text/plain": [
              "(1.5071573172061195, 0.1754994493585011)"
            ]
          },
          "metadata": {},
          "execution_count": 3
        }
      ]
    },
    {
      "cell_type": "code",
      "source": [
        "alpha = 0.01 # 99% confidence\n",
        "\n",
        "if pvalue < alpha:\n",
        "  print('Reject H0; Pill has effect')\n",
        "else:\n",
        "  print ('Fail to Reject H0; Pill has NO effect')"
      ],
      "metadata": {
        "colab": {
          "base_uri": "https://localhost:8080/"
        },
        "id": "LQX4G60N5KlR",
        "outputId": "94f61be6-3224-48ba-ed0b-458a80ac2bed"
      },
      "execution_count": null,
      "outputs": [
        {
          "output_type": "stream",
          "name": "stdout",
          "text": [
            "Fail to Reject H0; Pill has NO effect\n"
          ]
        }
      ]
    },
    {
      "cell_type": "markdown",
      "source": [
        "---\n",
        "\n",
        "## <font color='blue'>Two sample T-test</font>\n",
        "\n",
        "<font color='purple'>Suppose we have IQ data samples across 2 schools, and we want to compare and see which school's students have better IQ</font>\n",
        "- Use α = 0.05\n",
        "\n",
        "<br>\n"
      ],
      "metadata": {
        "id": "m5LAHeY85hj2"
      }
    },
    {
      "cell_type": "code",
      "source": [
        "!wget --no-check-certificate https://drive.google.com/uc?id=1qSiKRk_9fNmTWsEDWqOygwcGrU-XuINw -O iq_two_schools.csv"
      ],
      "metadata": {
        "colab": {
          "base_uri": "https://localhost:8080/"
        },
        "id": "zByzJJcJAHK7",
        "outputId": "005ee5dd-4dd1-4bcf-8a00-a56b820c2a47"
      },
      "execution_count": null,
      "outputs": [
        {
          "output_type": "stream",
          "name": "stdout",
          "text": [
            "--2024-01-18 09:25:02--  https://drive.google.com/uc?id=1qSiKRk_9fNmTWsEDWqOygwcGrU-XuINw\n",
            "Resolving drive.google.com (drive.google.com)... 74.125.137.100, 74.125.137.139, 74.125.137.102, ...\n",
            "Connecting to drive.google.com (drive.google.com)|74.125.137.100|:443... connected.\n",
            "HTTP request sent, awaiting response... 303 See Other\n",
            "Location: https://drive.usercontent.google.com/download?id=1qSiKRk_9fNmTWsEDWqOygwcGrU-XuINw [following]\n",
            "--2024-01-18 09:25:02--  https://drive.usercontent.google.com/download?id=1qSiKRk_9fNmTWsEDWqOygwcGrU-XuINw\n",
            "Resolving drive.usercontent.google.com (drive.usercontent.google.com)... 142.251.2.132, 2607:f8b0:4023:c0b::84\n",
            "Connecting to drive.usercontent.google.com (drive.usercontent.google.com)|142.251.2.132|:443... connected.\n",
            "HTTP request sent, awaiting response... 200 OK\n",
            "Length: 639 [application/octet-stream]\n",
            "Saving to: ‘iq_two_schools.csv’\n",
            "\n",
            "iq_two_schools.csv  100%[===================>]     639  --.-KB/s    in 0s      \n",
            "\n",
            "2024-01-18 09:25:03 (24.6 MB/s) - ‘iq_two_schools.csv’ saved [639/639]\n",
            "\n"
          ]
        }
      ]
    },
    {
      "cell_type": "code",
      "source": [
        "import pandas as pd\n",
        "\n",
        "df_iq = pd.read_csv('/content/iq_two_schools.csv')\n",
        "df_iq.head()"
      ],
      "metadata": {
        "colab": {
          "base_uri": "https://localhost:8080/",
          "height": 206
        },
        "id": "6RwG9tWCAPC9",
        "outputId": "ee63196b-863a-43bd-cff8-52ad85395f87"
      },
      "execution_count": null,
      "outputs": [
        {
          "output_type": "execute_result",
          "data": {
            "text/plain": [
              "     School   iq\n",
              "0  school_1   91\n",
              "1  school_1   95\n",
              "2  school_1  110\n",
              "3  school_1  112\n",
              "4  school_1  115"
            ],
            "text/html": [
              "\n",
              "  <div id=\"df-28fd57e3-fd5d-4e59-92a1-2e3a7b331a91\" class=\"colab-df-container\">\n",
              "    <div>\n",
              "<style scoped>\n",
              "    .dataframe tbody tr th:only-of-type {\n",
              "        vertical-align: middle;\n",
              "    }\n",
              "\n",
              "    .dataframe tbody tr th {\n",
              "        vertical-align: top;\n",
              "    }\n",
              "\n",
              "    .dataframe thead th {\n",
              "        text-align: right;\n",
              "    }\n",
              "</style>\n",
              "<table border=\"1\" class=\"dataframe\">\n",
              "  <thead>\n",
              "    <tr style=\"text-align: right;\">\n",
              "      <th></th>\n",
              "      <th>School</th>\n",
              "      <th>iq</th>\n",
              "    </tr>\n",
              "  </thead>\n",
              "  <tbody>\n",
              "    <tr>\n",
              "      <th>0</th>\n",
              "      <td>school_1</td>\n",
              "      <td>91</td>\n",
              "    </tr>\n",
              "    <tr>\n",
              "      <th>1</th>\n",
              "      <td>school_1</td>\n",
              "      <td>95</td>\n",
              "    </tr>\n",
              "    <tr>\n",
              "      <th>2</th>\n",
              "      <td>school_1</td>\n",
              "      <td>110</td>\n",
              "    </tr>\n",
              "    <tr>\n",
              "      <th>3</th>\n",
              "      <td>school_1</td>\n",
              "      <td>112</td>\n",
              "    </tr>\n",
              "    <tr>\n",
              "      <th>4</th>\n",
              "      <td>school_1</td>\n",
              "      <td>115</td>\n",
              "    </tr>\n",
              "  </tbody>\n",
              "</table>\n",
              "</div>\n",
              "    <div class=\"colab-df-buttons\">\n",
              "\n",
              "  <div class=\"colab-df-container\">\n",
              "    <button class=\"colab-df-convert\" onclick=\"convertToInteractive('df-28fd57e3-fd5d-4e59-92a1-2e3a7b331a91')\"\n",
              "            title=\"Convert this dataframe to an interactive table.\"\n",
              "            style=\"display:none;\">\n",
              "\n",
              "  <svg xmlns=\"http://www.w3.org/2000/svg\" height=\"24px\" viewBox=\"0 -960 960 960\">\n",
              "    <path d=\"M120-120v-720h720v720H120Zm60-500h600v-160H180v160Zm220 220h160v-160H400v160Zm0 220h160v-160H400v160ZM180-400h160v-160H180v160Zm440 0h160v-160H620v160ZM180-180h160v-160H180v160Zm440 0h160v-160H620v160Z\"/>\n",
              "  </svg>\n",
              "    </button>\n",
              "\n",
              "  <style>\n",
              "    .colab-df-container {\n",
              "      display:flex;\n",
              "      gap: 12px;\n",
              "    }\n",
              "\n",
              "    .colab-df-convert {\n",
              "      background-color: #E8F0FE;\n",
              "      border: none;\n",
              "      border-radius: 50%;\n",
              "      cursor: pointer;\n",
              "      display: none;\n",
              "      fill: #1967D2;\n",
              "      height: 32px;\n",
              "      padding: 0 0 0 0;\n",
              "      width: 32px;\n",
              "    }\n",
              "\n",
              "    .colab-df-convert:hover {\n",
              "      background-color: #E2EBFA;\n",
              "      box-shadow: 0px 1px 2px rgba(60, 64, 67, 0.3), 0px 1px 3px 1px rgba(60, 64, 67, 0.15);\n",
              "      fill: #174EA6;\n",
              "    }\n",
              "\n",
              "    .colab-df-buttons div {\n",
              "      margin-bottom: 4px;\n",
              "    }\n",
              "\n",
              "    [theme=dark] .colab-df-convert {\n",
              "      background-color: #3B4455;\n",
              "      fill: #D2E3FC;\n",
              "    }\n",
              "\n",
              "    [theme=dark] .colab-df-convert:hover {\n",
              "      background-color: #434B5C;\n",
              "      box-shadow: 0px 1px 3px 1px rgba(0, 0, 0, 0.15);\n",
              "      filter: drop-shadow(0px 1px 2px rgba(0, 0, 0, 0.3));\n",
              "      fill: #FFFFFF;\n",
              "    }\n",
              "  </style>\n",
              "\n",
              "    <script>\n",
              "      const buttonEl =\n",
              "        document.querySelector('#df-28fd57e3-fd5d-4e59-92a1-2e3a7b331a91 button.colab-df-convert');\n",
              "      buttonEl.style.display =\n",
              "        google.colab.kernel.accessAllowed ? 'block' : 'none';\n",
              "\n",
              "      async function convertToInteractive(key) {\n",
              "        const element = document.querySelector('#df-28fd57e3-fd5d-4e59-92a1-2e3a7b331a91');\n",
              "        const dataTable =\n",
              "          await google.colab.kernel.invokeFunction('convertToInteractive',\n",
              "                                                    [key], {});\n",
              "        if (!dataTable) return;\n",
              "\n",
              "        const docLinkHtml = 'Like what you see? Visit the ' +\n",
              "          '<a target=\"_blank\" href=https://colab.research.google.com/notebooks/data_table.ipynb>data table notebook</a>'\n",
              "          + ' to learn more about interactive tables.';\n",
              "        element.innerHTML = '';\n",
              "        dataTable['output_type'] = 'display_data';\n",
              "        await google.colab.output.renderOutput(dataTable, element);\n",
              "        const docLink = document.createElement('div');\n",
              "        docLink.innerHTML = docLinkHtml;\n",
              "        element.appendChild(docLink);\n",
              "      }\n",
              "    </script>\n",
              "  </div>\n",
              "\n",
              "\n",
              "<div id=\"df-b839ea62-ee5d-4ac2-bf3a-43e7603d755f\">\n",
              "  <button class=\"colab-df-quickchart\" onclick=\"quickchart('df-b839ea62-ee5d-4ac2-bf3a-43e7603d755f')\"\n",
              "            title=\"Suggest charts\"\n",
              "            style=\"display:none;\">\n",
              "\n",
              "<svg xmlns=\"http://www.w3.org/2000/svg\" height=\"24px\"viewBox=\"0 0 24 24\"\n",
              "     width=\"24px\">\n",
              "    <g>\n",
              "        <path d=\"M19 3H5c-1.1 0-2 .9-2 2v14c0 1.1.9 2 2 2h14c1.1 0 2-.9 2-2V5c0-1.1-.9-2-2-2zM9 17H7v-7h2v7zm4 0h-2V7h2v10zm4 0h-2v-4h2v4z\"/>\n",
              "    </g>\n",
              "</svg>\n",
              "  </button>\n",
              "\n",
              "<style>\n",
              "  .colab-df-quickchart {\n",
              "      --bg-color: #E8F0FE;\n",
              "      --fill-color: #1967D2;\n",
              "      --hover-bg-color: #E2EBFA;\n",
              "      --hover-fill-color: #174EA6;\n",
              "      --disabled-fill-color: #AAA;\n",
              "      --disabled-bg-color: #DDD;\n",
              "  }\n",
              "\n",
              "  [theme=dark] .colab-df-quickchart {\n",
              "      --bg-color: #3B4455;\n",
              "      --fill-color: #D2E3FC;\n",
              "      --hover-bg-color: #434B5C;\n",
              "      --hover-fill-color: #FFFFFF;\n",
              "      --disabled-bg-color: #3B4455;\n",
              "      --disabled-fill-color: #666;\n",
              "  }\n",
              "\n",
              "  .colab-df-quickchart {\n",
              "    background-color: var(--bg-color);\n",
              "    border: none;\n",
              "    border-radius: 50%;\n",
              "    cursor: pointer;\n",
              "    display: none;\n",
              "    fill: var(--fill-color);\n",
              "    height: 32px;\n",
              "    padding: 0;\n",
              "    width: 32px;\n",
              "  }\n",
              "\n",
              "  .colab-df-quickchart:hover {\n",
              "    background-color: var(--hover-bg-color);\n",
              "    box-shadow: 0 1px 2px rgba(60, 64, 67, 0.3), 0 1px 3px 1px rgba(60, 64, 67, 0.15);\n",
              "    fill: var(--button-hover-fill-color);\n",
              "  }\n",
              "\n",
              "  .colab-df-quickchart-complete:disabled,\n",
              "  .colab-df-quickchart-complete:disabled:hover {\n",
              "    background-color: var(--disabled-bg-color);\n",
              "    fill: var(--disabled-fill-color);\n",
              "    box-shadow: none;\n",
              "  }\n",
              "\n",
              "  .colab-df-spinner {\n",
              "    border: 2px solid var(--fill-color);\n",
              "    border-color: transparent;\n",
              "    border-bottom-color: var(--fill-color);\n",
              "    animation:\n",
              "      spin 1s steps(1) infinite;\n",
              "  }\n",
              "\n",
              "  @keyframes spin {\n",
              "    0% {\n",
              "      border-color: transparent;\n",
              "      border-bottom-color: var(--fill-color);\n",
              "      border-left-color: var(--fill-color);\n",
              "    }\n",
              "    20% {\n",
              "      border-color: transparent;\n",
              "      border-left-color: var(--fill-color);\n",
              "      border-top-color: var(--fill-color);\n",
              "    }\n",
              "    30% {\n",
              "      border-color: transparent;\n",
              "      border-left-color: var(--fill-color);\n",
              "      border-top-color: var(--fill-color);\n",
              "      border-right-color: var(--fill-color);\n",
              "    }\n",
              "    40% {\n",
              "      border-color: transparent;\n",
              "      border-right-color: var(--fill-color);\n",
              "      border-top-color: var(--fill-color);\n",
              "    }\n",
              "    60% {\n",
              "      border-color: transparent;\n",
              "      border-right-color: var(--fill-color);\n",
              "    }\n",
              "    80% {\n",
              "      border-color: transparent;\n",
              "      border-right-color: var(--fill-color);\n",
              "      border-bottom-color: var(--fill-color);\n",
              "    }\n",
              "    90% {\n",
              "      border-color: transparent;\n",
              "      border-bottom-color: var(--fill-color);\n",
              "    }\n",
              "  }\n",
              "</style>\n",
              "\n",
              "  <script>\n",
              "    async function quickchart(key) {\n",
              "      const quickchartButtonEl =\n",
              "        document.querySelector('#' + key + ' button');\n",
              "      quickchartButtonEl.disabled = true;  // To prevent multiple clicks.\n",
              "      quickchartButtonEl.classList.add('colab-df-spinner');\n",
              "      try {\n",
              "        const charts = await google.colab.kernel.invokeFunction(\n",
              "            'suggestCharts', [key], {});\n",
              "      } catch (error) {\n",
              "        console.error('Error during call to suggestCharts:', error);\n",
              "      }\n",
              "      quickchartButtonEl.classList.remove('colab-df-spinner');\n",
              "      quickchartButtonEl.classList.add('colab-df-quickchart-complete');\n",
              "    }\n",
              "    (() => {\n",
              "      let quickchartButtonEl =\n",
              "        document.querySelector('#df-b839ea62-ee5d-4ac2-bf3a-43e7603d755f button');\n",
              "      quickchartButtonEl.style.display =\n",
              "        google.colab.kernel.accessAllowed ? 'block' : 'none';\n",
              "    })();\n",
              "  </script>\n",
              "</div>\n",
              "    </div>\n",
              "  </div>\n"
            ]
          },
          "metadata": {},
          "execution_count": 2
        }
      ]
    },
    {
      "cell_type": "markdown",
      "source": [
        "Let's see the mean IQs of these schools"
      ],
      "metadata": {
        "id": "Dq7ZToZmB__-"
      }
    },
    {
      "cell_type": "code",
      "source": [
        "df_iq.groupby('School')['iq'].mean()"
      ],
      "metadata": {
        "colab": {
          "base_uri": "https://localhost:8080/"
        },
        "id": "qRBfj74XAWnJ",
        "outputId": "b5fecd37-2e2a-44f5-b1a8-c28470d842d0"
      },
      "execution_count": null,
      "outputs": [
        {
          "output_type": "execute_result",
          "data": {
            "text/plain": [
              "School\n",
              "school_1    101.153846\n",
              "school_2    109.416667\n",
              "Name: iq, dtype: float64"
            ]
          },
          "metadata": {},
          "execution_count": 22
        }
      ]
    },
    {
      "cell_type": "markdown",
      "source": [
        "> <font color='purple'>**What are the null and alternate hypothesis?**</font>\n",
        "\n",
        "There are 3 ways in which we can set them:\n",
        "\n",
        "<font color='purple'>1. Option 1</font>\n",
        " - $H_0$: Both school's students have the same IQ $\\mu_1 = \\mu_2$\n",
        " - $H_a$: Both school's students DO NOT have the same IQ $\\mu_1 \\neq \\mu_2$\n",
        "\n",
        "<font color='purple'>2. Option 2</font>\n",
        " - $H_0$: Both school's students have the same IQ $\\mu_1 = \\mu_2$\n",
        " - $H_a$: School A has higher IQ than School B $\\mu_1 > \\mu_2$\n",
        "\n",
        "<font color='purple'>3. Option 3:</font>\n",
        " - $H_0$: Both school's students have the same IQ $\\mu_1 = \\mu_2$\n",
        " - $H_a$: School B has a higher IQ than school A $\\mu_1 < \\mu_2$\n",
        "\n",
        "Note that here, options 1 and 3 are still viable, but option 2 cannot be true as we saw\n",
        "- $μ_1 = 101$\n",
        "- $μ_2 = 109$\n",
        "\n",
        "<br>\n",
        "\n",
        "Let's explore all these cases."
      ],
      "metadata": {
        "id": "kEbx5LDoG8B7"
      }
    },
    {
      "cell_type": "markdown",
      "source": [
        "### <font color='purple'>Option 1:</font> $H_a: \\mu_1 \\neq \\mu_2$"
      ],
      "metadata": {
        "id": "e6cKrcbYIjeE"
      }
    },
    {
      "cell_type": "markdown",
      "source": [
        "Earlier, we had a single sample to be compared with a single value (100).\n",
        "\n",
        "Now, we are comparing 2 sets of samples with each other.\n",
        "\n",
        "This is known as the **Two Sample T-Test**."
      ],
      "metadata": {
        "id": "oogx35PuCodJ"
      }
    },
    {
      "cell_type": "markdown",
      "source": [
        "So, we will import it from `scipy` as:"
      ],
      "metadata": {
        "id": "Ifrs2aZ6DmTx"
      }
    },
    {
      "cell_type": "code",
      "source": [
        "from scipy.stats import ttest_ind"
      ],
      "metadata": {
        "id": "IC7z8Na8EAMn"
      },
      "execution_count": null,
      "outputs": []
    },
    {
      "cell_type": "markdown",
      "source": [
        "`ind` stands for **independent**, meaning that the 2 sets of samples are independent.\n",
        "\n"
      ],
      "metadata": {
        "id": "J9w85enaEEQJ"
      }
    },
    {
      "cell_type": "markdown",
      "source": [
        "First, let's store the IQs of 2 schools in separate variables.\n"
      ],
      "metadata": {
        "id": "D1U5EutKEQTe"
      }
    },
    {
      "cell_type": "code",
      "source": [
        "iq_1 = df_iq[df_iq['School'] == 'school_1']['iq']\n",
        "iq_2 = df_iq[df_iq['School'] == 'school_2']['iq']\n",
        "\n",
        "iq_1"
      ],
      "metadata": {
        "colab": {
          "base_uri": "https://localhost:8080/"
        },
        "id": "8uDcjbvxEbIJ",
        "outputId": "f022e72f-3228-43e6-842b-0089a952ae5c"
      },
      "execution_count": null,
      "outputs": [
        {
          "output_type": "execute_result",
          "data": {
            "text/plain": [
              "0      91\n",
              "1      95\n",
              "2     110\n",
              "3     112\n",
              "4     115\n",
              "5      94\n",
              "6      82\n",
              "7      84\n",
              "8      85\n",
              "9      89\n",
              "10     91\n",
              "11     91\n",
              "12     92\n",
              "13     94\n",
              "14     99\n",
              "15     99\n",
              "16    105\n",
              "17    109\n",
              "18    109\n",
              "19    109\n",
              "20    110\n",
              "21    112\n",
              "22    112\n",
              "23    113\n",
              "24    114\n",
              "25    114\n",
              "Name: iq, dtype: int64"
            ]
          },
          "metadata": {},
          "execution_count": 32
        }
      ]
    },
    {
      "cell_type": "markdown",
      "source": [
        "Performing the 2 sample T-test"
      ],
      "metadata": {
        "id": "lRratGyMFMca"
      }
    },
    {
      "cell_type": "code",
      "source": [
        "t_stat, pvalue = ttest_ind(iq_1, iq_2)\n",
        "t_stat, pvalue"
      ],
      "metadata": {
        "colab": {
          "base_uri": "https://localhost:8080/"
        },
        "id": "U9XlHyq5FO8K",
        "outputId": "4e20e175-5681-48d4-d895-2ca696535dde"
      },
      "execution_count": null,
      "outputs": [
        {
          "output_type": "execute_result",
          "data": {
            "text/plain": [
              "(-2.4056474861512704, 0.02004552710936217)"
            ]
          },
          "metadata": {},
          "execution_count": 40
        }
      ]
    },
    {
      "cell_type": "code",
      "source": [
        "alpha = 0.05 # 95% confidence\n",
        "\n",
        "if pvalue < alpha:\n",
        "  print('Reject H0')\n",
        "else:\n",
        "  print ('Fail to Reject H0')"
      ],
      "metadata": {
        "colab": {
          "base_uri": "https://localhost:8080/"
        },
        "id": "MX4PimGaFfsT",
        "outputId": "48a2cdfe-7d04-4ab9-d570-6f8a085732b6"
      },
      "execution_count": null,
      "outputs": [
        {
          "output_type": "stream",
          "name": "stdout",
          "text": [
            "Reject H0\n"
          ]
        }
      ]
    },
    {
      "cell_type": "markdown",
      "source": [
        "### <font color='purple'>Option 2:</font> $H_a: \\mu_1 > \\mu_2$\n",
        "\n",
        "> **In this case should the p-value be high or low?**\n",
        "\n",
        "A lower p-value means getting closer to rejecting the null hypothesis.\n",
        "\n",
        "In this case, the p-value should be higher.\n",
        "\n",
        "<Br>\n",
        "\n",
        "> **What changes will we make to the code to incorporate this alternate hypothesis?**\n",
        "\n",
        "Since $H_a: \\mu_1 > \\mu_2$, we will add parameter `alternative = \"greater\"` to the `ttest_ind`"
      ],
      "metadata": {
        "id": "rgag-rL6FfWo"
      }
    },
    {
      "cell_type": "code",
      "source": [
        "t_stat, pvalue = ttest_ind(iq_1, iq_2, alternative = \"greater\")\n",
        "t_stat, pvalue"
      ],
      "metadata": {
        "colab": {
          "base_uri": "https://localhost:8080/"
        },
        "id": "qpb3box3JesL",
        "outputId": "b32fac8e-4a6f-4ea3-bd4e-9be6b0e6caae"
      },
      "execution_count": null,
      "outputs": [
        {
          "output_type": "execute_result",
          "data": {
            "text/plain": [
              "(-2.4056474861512704, 0.9899772364453189)"
            ]
          },
          "metadata": {},
          "execution_count": 42
        }
      ]
    },
    {
      "cell_type": "code",
      "source": [
        "alpha = 0.05 # 95% confidence\n",
        "\n",
        "if pvalue < alpha:\n",
        "  print('Reject H0')\n",
        "else:\n",
        "  print ('Fail to Reject H0')"
      ],
      "metadata": {
        "colab": {
          "base_uri": "https://localhost:8080/"
        },
        "id": "QRwYhpsAJjEG",
        "outputId": "f6bacfdd-e113-46e8-b3fd-ab8225454d5e"
      },
      "execution_count": null,
      "outputs": [
        {
          "output_type": "stream",
          "name": "stdout",
          "text": [
            "Fail to Reject H0\n"
          ]
        }
      ]
    },
    {
      "cell_type": "markdown",
      "source": [
        "<font color='red'>Note:</font> The p-value is very close to 1, as expected."
      ],
      "metadata": {
        "id": "10LcK-MaJpRO"
      }
    },
    {
      "cell_type": "markdown",
      "source": [
        "### <font color='purple'>Option 3:</font> $H_a: \\mu_1 < \\mu_2$\n",
        "\n",
        "Here we will put `alternative = \"less\"`"
      ],
      "metadata": {
        "id": "6jmTOs3TJu0N"
      }
    },
    {
      "cell_type": "code",
      "source": [
        "t_stat, pvalue = ttest_ind(iq_1, iq_2, alternative = \"less\")\n",
        "t_stat, pvalue"
      ],
      "metadata": {
        "colab": {
          "base_uri": "https://localhost:8080/"
        },
        "outputId": "287a0ca1-b6e0-49c3-f8c6-af56a54eea78",
        "id": "m3NaVlgyJ5zO"
      },
      "execution_count": null,
      "outputs": [
        {
          "output_type": "execute_result",
          "data": {
            "text/plain": [
              "(-2.4056474861512704, 0.010022763554681085)"
            ]
          },
          "metadata": {},
          "execution_count": 44
        }
      ]
    },
    {
      "cell_type": "code",
      "source": [
        "alpha = 0.05 # 95% confidence\n",
        "\n",
        "if pvalue < alpha:\n",
        "  print('Reject H0')\n",
        "else:\n",
        "  print ('Fail to Reject H0')"
      ],
      "metadata": {
        "colab": {
          "base_uri": "https://localhost:8080/"
        },
        "outputId": "8b3e4a52-8953-4a9a-a845-545d4dfd59d7",
        "id": "UL970ePOJ5zP"
      },
      "execution_count": null,
      "outputs": [
        {
          "output_type": "stream",
          "name": "stdout",
          "text": [
            "Reject H0\n"
          ]
        }
      ]
    },
    {
      "cell_type": "markdown",
      "source": [
        "> <font color='purple'>**What does changing the** `alternative` **parameter achieve?**</font>\n",
        "\n",
        "It determines which tailed test is to be performed, thereby changing the computation of the p-value.\n",
        "\n",
        "- `greater`: Right-tailed test (Option2)\n",
        "- `less`: Left-tailed test (Option3)\n",
        "- `two-sided`: Two-tailed test (Option1)"
      ],
      "metadata": {
        "id": "Hm3z7TkVKX50"
      }
    },
    {
      "cell_type": "markdown",
      "source": [
        "---\n",
        "\n",
        "\n",
        "### <font color='purple'>Cricket Example</font>"
      ],
      "metadata": {
        "id": "-fmLH59Tb4Gt"
      }
    },
    {
      "cell_type": "code",
      "source": [
        "!wget --no-check-certificate https://drive.google.com/uc?id=1bvVVbWUu6JKQDol0xwj3pqsTs4Qxm_oj -O Sachin_ODI.csv"
      ],
      "metadata": {
        "colab": {
          "base_uri": "https://localhost:8080/"
        },
        "id": "C0XHJLV3cLor",
        "outputId": "8de8d4ca-aff3-4b1c-ba32-3ab83ffeeb02"
      },
      "execution_count": null,
      "outputs": [
        {
          "output_type": "stream",
          "name": "stdout",
          "text": [
            "--2024-01-18 09:25:43--  https://drive.google.com/uc?id=1bvVVbWUu6JKQDol0xwj3pqsTs4Qxm_oj\n",
            "Resolving drive.google.com (drive.google.com)... 142.251.2.101, 142.251.2.100, 142.251.2.139, ...\n",
            "Connecting to drive.google.com (drive.google.com)|142.251.2.101|:443... connected.\n",
            "HTTP request sent, awaiting response... 303 See Other\n",
            "Location: https://drive.usercontent.google.com/download?id=1bvVVbWUu6JKQDol0xwj3pqsTs4Qxm_oj [following]\n",
            "--2024-01-18 09:25:44--  https://drive.usercontent.google.com/download?id=1bvVVbWUu6JKQDol0xwj3pqsTs4Qxm_oj\n",
            "Resolving drive.usercontent.google.com (drive.usercontent.google.com)... 142.250.141.132, 2607:f8b0:4023:c0b::84\n",
            "Connecting to drive.usercontent.google.com (drive.usercontent.google.com)|142.250.141.132|:443... connected.\n",
            "HTTP request sent, awaiting response... 200 OK\n",
            "Length: 26440 (26K) [application/octet-stream]\n",
            "Saving to: ‘Sachin_ODI.csv’\n",
            "\n",
            "Sachin_ODI.csv      100%[===================>]  25.82K  --.-KB/s    in 0.001s  \n",
            "\n",
            "2024-01-18 09:25:45 (21.0 MB/s) - ‘Sachin_ODI.csv’ saved [26440/26440]\n",
            "\n"
          ]
        }
      ]
    },
    {
      "cell_type": "code",
      "source": [
        "df = pd.read_csv('/content/Sachin_ODI.csv')\n",
        "df"
      ],
      "metadata": {
        "colab": {
          "base_uri": "https://localhost:8080/",
          "height": 423
        },
        "id": "R5jeafjycOSE",
        "outputId": "71ce44ca-fdd1-4eb5-ea7f-0f459bb5c882"
      },
      "execution_count": null,
      "outputs": [
        {
          "output_type": "execute_result",
          "data": {
            "text/plain": [
              "     runs  NotOut mins   bf  fours  sixes      sr  Inns           Opp  \\\n",
              "0      13       0   30   15      3      0   86.66     1   New Zealand   \n",
              "1      37       0   75   51      3      1   72.54     2  South Africa   \n",
              "2      47       0   65   40      7      0  117.50     2     Australia   \n",
              "3      48       0   37   30      9      1  160.00     2    Bangladesh   \n",
              "4       4       0   13    9      1      0   44.44     2      Pakistan   \n",
              "..    ...     ...  ...  ...    ...    ...     ...   ...           ...   \n",
              "355    14       0   34   15      2      0   93.33     2     Australia   \n",
              "356    39       0   45   30      5      0  130.00     2     Sri Lanka   \n",
              "357     6       0   25   19      1      0   31.57     1     Sri Lanka   \n",
              "358   114       0  205  147     12      1   77.55     1    Bangladesh   \n",
              "359    52       0   93   48      5      1  108.33     2      Pakistan   \n",
              "\n",
              "       Ground        Date        Winner    Won  century  \n",
              "0      Napier  1995-02-16   New Zealand  False    False  \n",
              "1    Hamilton  1995-02-18  South Africa  False    False  \n",
              "2     Dunedin  1995-02-22         India   True    False  \n",
              "3     Sharjah  1995-04-05         India   True    False  \n",
              "4     Sharjah  1995-04-07      Pakistan  False    False  \n",
              "..        ...         ...           ...    ...      ...  \n",
              "355    Sydney  2012-02-26     Australia  False    False  \n",
              "356    Hobart  2012-02-28         India   True    False  \n",
              "357     Dhaka  2012-03-13         India   True    False  \n",
              "358     Dhaka  2012-03-16    Bangladesh  False     True  \n",
              "359     Dhaka  2012-03-18         India   True    False  \n",
              "\n",
              "[360 rows x 14 columns]"
            ],
            "text/html": [
              "\n",
              "  <div id=\"df-df0a37c6-fb9b-4031-9ef8-e3f7ec5bc24f\" class=\"colab-df-container\">\n",
              "    <div>\n",
              "<style scoped>\n",
              "    .dataframe tbody tr th:only-of-type {\n",
              "        vertical-align: middle;\n",
              "    }\n",
              "\n",
              "    .dataframe tbody tr th {\n",
              "        vertical-align: top;\n",
              "    }\n",
              "\n",
              "    .dataframe thead th {\n",
              "        text-align: right;\n",
              "    }\n",
              "</style>\n",
              "<table border=\"1\" class=\"dataframe\">\n",
              "  <thead>\n",
              "    <tr style=\"text-align: right;\">\n",
              "      <th></th>\n",
              "      <th>runs</th>\n",
              "      <th>NotOut</th>\n",
              "      <th>mins</th>\n",
              "      <th>bf</th>\n",
              "      <th>fours</th>\n",
              "      <th>sixes</th>\n",
              "      <th>sr</th>\n",
              "      <th>Inns</th>\n",
              "      <th>Opp</th>\n",
              "      <th>Ground</th>\n",
              "      <th>Date</th>\n",
              "      <th>Winner</th>\n",
              "      <th>Won</th>\n",
              "      <th>century</th>\n",
              "    </tr>\n",
              "  </thead>\n",
              "  <tbody>\n",
              "    <tr>\n",
              "      <th>0</th>\n",
              "      <td>13</td>\n",
              "      <td>0</td>\n",
              "      <td>30</td>\n",
              "      <td>15</td>\n",
              "      <td>3</td>\n",
              "      <td>0</td>\n",
              "      <td>86.66</td>\n",
              "      <td>1</td>\n",
              "      <td>New Zealand</td>\n",
              "      <td>Napier</td>\n",
              "      <td>1995-02-16</td>\n",
              "      <td>New Zealand</td>\n",
              "      <td>False</td>\n",
              "      <td>False</td>\n",
              "    </tr>\n",
              "    <tr>\n",
              "      <th>1</th>\n",
              "      <td>37</td>\n",
              "      <td>0</td>\n",
              "      <td>75</td>\n",
              "      <td>51</td>\n",
              "      <td>3</td>\n",
              "      <td>1</td>\n",
              "      <td>72.54</td>\n",
              "      <td>2</td>\n",
              "      <td>South Africa</td>\n",
              "      <td>Hamilton</td>\n",
              "      <td>1995-02-18</td>\n",
              "      <td>South Africa</td>\n",
              "      <td>False</td>\n",
              "      <td>False</td>\n",
              "    </tr>\n",
              "    <tr>\n",
              "      <th>2</th>\n",
              "      <td>47</td>\n",
              "      <td>0</td>\n",
              "      <td>65</td>\n",
              "      <td>40</td>\n",
              "      <td>7</td>\n",
              "      <td>0</td>\n",
              "      <td>117.50</td>\n",
              "      <td>2</td>\n",
              "      <td>Australia</td>\n",
              "      <td>Dunedin</td>\n",
              "      <td>1995-02-22</td>\n",
              "      <td>India</td>\n",
              "      <td>True</td>\n",
              "      <td>False</td>\n",
              "    </tr>\n",
              "    <tr>\n",
              "      <th>3</th>\n",
              "      <td>48</td>\n",
              "      <td>0</td>\n",
              "      <td>37</td>\n",
              "      <td>30</td>\n",
              "      <td>9</td>\n",
              "      <td>1</td>\n",
              "      <td>160.00</td>\n",
              "      <td>2</td>\n",
              "      <td>Bangladesh</td>\n",
              "      <td>Sharjah</td>\n",
              "      <td>1995-04-05</td>\n",
              "      <td>India</td>\n",
              "      <td>True</td>\n",
              "      <td>False</td>\n",
              "    </tr>\n",
              "    <tr>\n",
              "      <th>4</th>\n",
              "      <td>4</td>\n",
              "      <td>0</td>\n",
              "      <td>13</td>\n",
              "      <td>9</td>\n",
              "      <td>1</td>\n",
              "      <td>0</td>\n",
              "      <td>44.44</td>\n",
              "      <td>2</td>\n",
              "      <td>Pakistan</td>\n",
              "      <td>Sharjah</td>\n",
              "      <td>1995-04-07</td>\n",
              "      <td>Pakistan</td>\n",
              "      <td>False</td>\n",
              "      <td>False</td>\n",
              "    </tr>\n",
              "    <tr>\n",
              "      <th>...</th>\n",
              "      <td>...</td>\n",
              "      <td>...</td>\n",
              "      <td>...</td>\n",
              "      <td>...</td>\n",
              "      <td>...</td>\n",
              "      <td>...</td>\n",
              "      <td>...</td>\n",
              "      <td>...</td>\n",
              "      <td>...</td>\n",
              "      <td>...</td>\n",
              "      <td>...</td>\n",
              "      <td>...</td>\n",
              "      <td>...</td>\n",
              "      <td>...</td>\n",
              "    </tr>\n",
              "    <tr>\n",
              "      <th>355</th>\n",
              "      <td>14</td>\n",
              "      <td>0</td>\n",
              "      <td>34</td>\n",
              "      <td>15</td>\n",
              "      <td>2</td>\n",
              "      <td>0</td>\n",
              "      <td>93.33</td>\n",
              "      <td>2</td>\n",
              "      <td>Australia</td>\n",
              "      <td>Sydney</td>\n",
              "      <td>2012-02-26</td>\n",
              "      <td>Australia</td>\n",
              "      <td>False</td>\n",
              "      <td>False</td>\n",
              "    </tr>\n",
              "    <tr>\n",
              "      <th>356</th>\n",
              "      <td>39</td>\n",
              "      <td>0</td>\n",
              "      <td>45</td>\n",
              "      <td>30</td>\n",
              "      <td>5</td>\n",
              "      <td>0</td>\n",
              "      <td>130.00</td>\n",
              "      <td>2</td>\n",
              "      <td>Sri Lanka</td>\n",
              "      <td>Hobart</td>\n",
              "      <td>2012-02-28</td>\n",
              "      <td>India</td>\n",
              "      <td>True</td>\n",
              "      <td>False</td>\n",
              "    </tr>\n",
              "    <tr>\n",
              "      <th>357</th>\n",
              "      <td>6</td>\n",
              "      <td>0</td>\n",
              "      <td>25</td>\n",
              "      <td>19</td>\n",
              "      <td>1</td>\n",
              "      <td>0</td>\n",
              "      <td>31.57</td>\n",
              "      <td>1</td>\n",
              "      <td>Sri Lanka</td>\n",
              "      <td>Dhaka</td>\n",
              "      <td>2012-03-13</td>\n",
              "      <td>India</td>\n",
              "      <td>True</td>\n",
              "      <td>False</td>\n",
              "    </tr>\n",
              "    <tr>\n",
              "      <th>358</th>\n",
              "      <td>114</td>\n",
              "      <td>0</td>\n",
              "      <td>205</td>\n",
              "      <td>147</td>\n",
              "      <td>12</td>\n",
              "      <td>1</td>\n",
              "      <td>77.55</td>\n",
              "      <td>1</td>\n",
              "      <td>Bangladesh</td>\n",
              "      <td>Dhaka</td>\n",
              "      <td>2012-03-16</td>\n",
              "      <td>Bangladesh</td>\n",
              "      <td>False</td>\n",
              "      <td>True</td>\n",
              "    </tr>\n",
              "    <tr>\n",
              "      <th>359</th>\n",
              "      <td>52</td>\n",
              "      <td>0</td>\n",
              "      <td>93</td>\n",
              "      <td>48</td>\n",
              "      <td>5</td>\n",
              "      <td>1</td>\n",
              "      <td>108.33</td>\n",
              "      <td>2</td>\n",
              "      <td>Pakistan</td>\n",
              "      <td>Dhaka</td>\n",
              "      <td>2012-03-18</td>\n",
              "      <td>India</td>\n",
              "      <td>True</td>\n",
              "      <td>False</td>\n",
              "    </tr>\n",
              "  </tbody>\n",
              "</table>\n",
              "<p>360 rows × 14 columns</p>\n",
              "</div>\n",
              "    <div class=\"colab-df-buttons\">\n",
              "\n",
              "  <div class=\"colab-df-container\">\n",
              "    <button class=\"colab-df-convert\" onclick=\"convertToInteractive('df-df0a37c6-fb9b-4031-9ef8-e3f7ec5bc24f')\"\n",
              "            title=\"Convert this dataframe to an interactive table.\"\n",
              "            style=\"display:none;\">\n",
              "\n",
              "  <svg xmlns=\"http://www.w3.org/2000/svg\" height=\"24px\" viewBox=\"0 -960 960 960\">\n",
              "    <path d=\"M120-120v-720h720v720H120Zm60-500h600v-160H180v160Zm220 220h160v-160H400v160Zm0 220h160v-160H400v160ZM180-400h160v-160H180v160Zm440 0h160v-160H620v160ZM180-180h160v-160H180v160Zm440 0h160v-160H620v160Z\"/>\n",
              "  </svg>\n",
              "    </button>\n",
              "\n",
              "  <style>\n",
              "    .colab-df-container {\n",
              "      display:flex;\n",
              "      gap: 12px;\n",
              "    }\n",
              "\n",
              "    .colab-df-convert {\n",
              "      background-color: #E8F0FE;\n",
              "      border: none;\n",
              "      border-radius: 50%;\n",
              "      cursor: pointer;\n",
              "      display: none;\n",
              "      fill: #1967D2;\n",
              "      height: 32px;\n",
              "      padding: 0 0 0 0;\n",
              "      width: 32px;\n",
              "    }\n",
              "\n",
              "    .colab-df-convert:hover {\n",
              "      background-color: #E2EBFA;\n",
              "      box-shadow: 0px 1px 2px rgba(60, 64, 67, 0.3), 0px 1px 3px 1px rgba(60, 64, 67, 0.15);\n",
              "      fill: #174EA6;\n",
              "    }\n",
              "\n",
              "    .colab-df-buttons div {\n",
              "      margin-bottom: 4px;\n",
              "    }\n",
              "\n",
              "    [theme=dark] .colab-df-convert {\n",
              "      background-color: #3B4455;\n",
              "      fill: #D2E3FC;\n",
              "    }\n",
              "\n",
              "    [theme=dark] .colab-df-convert:hover {\n",
              "      background-color: #434B5C;\n",
              "      box-shadow: 0px 1px 3px 1px rgba(0, 0, 0, 0.15);\n",
              "      filter: drop-shadow(0px 1px 2px rgba(0, 0, 0, 0.3));\n",
              "      fill: #FFFFFF;\n",
              "    }\n",
              "  </style>\n",
              "\n",
              "    <script>\n",
              "      const buttonEl =\n",
              "        document.querySelector('#df-df0a37c6-fb9b-4031-9ef8-e3f7ec5bc24f button.colab-df-convert');\n",
              "      buttonEl.style.display =\n",
              "        google.colab.kernel.accessAllowed ? 'block' : 'none';\n",
              "\n",
              "      async function convertToInteractive(key) {\n",
              "        const element = document.querySelector('#df-df0a37c6-fb9b-4031-9ef8-e3f7ec5bc24f');\n",
              "        const dataTable =\n",
              "          await google.colab.kernel.invokeFunction('convertToInteractive',\n",
              "                                                    [key], {});\n",
              "        if (!dataTable) return;\n",
              "\n",
              "        const docLinkHtml = 'Like what you see? Visit the ' +\n",
              "          '<a target=\"_blank\" href=https://colab.research.google.com/notebooks/data_table.ipynb>data table notebook</a>'\n",
              "          + ' to learn more about interactive tables.';\n",
              "        element.innerHTML = '';\n",
              "        dataTable['output_type'] = 'display_data';\n",
              "        await google.colab.output.renderOutput(dataTable, element);\n",
              "        const docLink = document.createElement('div');\n",
              "        docLink.innerHTML = docLinkHtml;\n",
              "        element.appendChild(docLink);\n",
              "      }\n",
              "    </script>\n",
              "  </div>\n",
              "\n",
              "\n",
              "<div id=\"df-ea2ef861-26c7-42b6-92e6-376b646bde8d\">\n",
              "  <button class=\"colab-df-quickchart\" onclick=\"quickchart('df-ea2ef861-26c7-42b6-92e6-376b646bde8d')\"\n",
              "            title=\"Suggest charts\"\n",
              "            style=\"display:none;\">\n",
              "\n",
              "<svg xmlns=\"http://www.w3.org/2000/svg\" height=\"24px\"viewBox=\"0 0 24 24\"\n",
              "     width=\"24px\">\n",
              "    <g>\n",
              "        <path d=\"M19 3H5c-1.1 0-2 .9-2 2v14c0 1.1.9 2 2 2h14c1.1 0 2-.9 2-2V5c0-1.1-.9-2-2-2zM9 17H7v-7h2v7zm4 0h-2V7h2v10zm4 0h-2v-4h2v4z\"/>\n",
              "    </g>\n",
              "</svg>\n",
              "  </button>\n",
              "\n",
              "<style>\n",
              "  .colab-df-quickchart {\n",
              "      --bg-color: #E8F0FE;\n",
              "      --fill-color: #1967D2;\n",
              "      --hover-bg-color: #E2EBFA;\n",
              "      --hover-fill-color: #174EA6;\n",
              "      --disabled-fill-color: #AAA;\n",
              "      --disabled-bg-color: #DDD;\n",
              "  }\n",
              "\n",
              "  [theme=dark] .colab-df-quickchart {\n",
              "      --bg-color: #3B4455;\n",
              "      --fill-color: #D2E3FC;\n",
              "      --hover-bg-color: #434B5C;\n",
              "      --hover-fill-color: #FFFFFF;\n",
              "      --disabled-bg-color: #3B4455;\n",
              "      --disabled-fill-color: #666;\n",
              "  }\n",
              "\n",
              "  .colab-df-quickchart {\n",
              "    background-color: var(--bg-color);\n",
              "    border: none;\n",
              "    border-radius: 50%;\n",
              "    cursor: pointer;\n",
              "    display: none;\n",
              "    fill: var(--fill-color);\n",
              "    height: 32px;\n",
              "    padding: 0;\n",
              "    width: 32px;\n",
              "  }\n",
              "\n",
              "  .colab-df-quickchart:hover {\n",
              "    background-color: var(--hover-bg-color);\n",
              "    box-shadow: 0 1px 2px rgba(60, 64, 67, 0.3), 0 1px 3px 1px rgba(60, 64, 67, 0.15);\n",
              "    fill: var(--button-hover-fill-color);\n",
              "  }\n",
              "\n",
              "  .colab-df-quickchart-complete:disabled,\n",
              "  .colab-df-quickchart-complete:disabled:hover {\n",
              "    background-color: var(--disabled-bg-color);\n",
              "    fill: var(--disabled-fill-color);\n",
              "    box-shadow: none;\n",
              "  }\n",
              "\n",
              "  .colab-df-spinner {\n",
              "    border: 2px solid var(--fill-color);\n",
              "    border-color: transparent;\n",
              "    border-bottom-color: var(--fill-color);\n",
              "    animation:\n",
              "      spin 1s steps(1) infinite;\n",
              "  }\n",
              "\n",
              "  @keyframes spin {\n",
              "    0% {\n",
              "      border-color: transparent;\n",
              "      border-bottom-color: var(--fill-color);\n",
              "      border-left-color: var(--fill-color);\n",
              "    }\n",
              "    20% {\n",
              "      border-color: transparent;\n",
              "      border-left-color: var(--fill-color);\n",
              "      border-top-color: var(--fill-color);\n",
              "    }\n",
              "    30% {\n",
              "      border-color: transparent;\n",
              "      border-left-color: var(--fill-color);\n",
              "      border-top-color: var(--fill-color);\n",
              "      border-right-color: var(--fill-color);\n",
              "    }\n",
              "    40% {\n",
              "      border-color: transparent;\n",
              "      border-right-color: var(--fill-color);\n",
              "      border-top-color: var(--fill-color);\n",
              "    }\n",
              "    60% {\n",
              "      border-color: transparent;\n",
              "      border-right-color: var(--fill-color);\n",
              "    }\n",
              "    80% {\n",
              "      border-color: transparent;\n",
              "      border-right-color: var(--fill-color);\n",
              "      border-bottom-color: var(--fill-color);\n",
              "    }\n",
              "    90% {\n",
              "      border-color: transparent;\n",
              "      border-bottom-color: var(--fill-color);\n",
              "    }\n",
              "  }\n",
              "</style>\n",
              "\n",
              "  <script>\n",
              "    async function quickchart(key) {\n",
              "      const quickchartButtonEl =\n",
              "        document.querySelector('#' + key + ' button');\n",
              "      quickchartButtonEl.disabled = true;  // To prevent multiple clicks.\n",
              "      quickchartButtonEl.classList.add('colab-df-spinner');\n",
              "      try {\n",
              "        const charts = await google.colab.kernel.invokeFunction(\n",
              "            'suggestCharts', [key], {});\n",
              "      } catch (error) {\n",
              "        console.error('Error during call to suggestCharts:', error);\n",
              "      }\n",
              "      quickchartButtonEl.classList.remove('colab-df-spinner');\n",
              "      quickchartButtonEl.classList.add('colab-df-quickchart-complete');\n",
              "    }\n",
              "    (() => {\n",
              "      let quickchartButtonEl =\n",
              "        document.querySelector('#df-ea2ef861-26c7-42b6-92e6-376b646bde8d button');\n",
              "      quickchartButtonEl.style.display =\n",
              "        google.colab.kernel.accessAllowed ? 'block' : 'none';\n",
              "    })();\n",
              "  </script>\n",
              "</div>\n",
              "    </div>\n",
              "  </div>\n"
            ]
          },
          "metadata": {},
          "execution_count": 4
        }
      ]
    },
    {
      "cell_type": "markdown",
      "source": [
        "Now based on this dataset, we will analyze and answer a few questions using our statistical tools."
      ],
      "metadata": {
        "id": "QCXXIucEcgk7"
      }
    },
    {
      "cell_type": "markdown",
      "source": [
        "#### <font color='purple'>Batting pattern in first and second Innings</font>"
      ],
      "metadata": {
        "id": "g3O-WUU6cmRn"
      }
    },
    {
      "cell_type": "markdown",
      "source": [
        "First, let's look at the respective means."
      ],
      "metadata": {
        "id": "eCO3GSBHctuj"
      }
    },
    {
      "cell_type": "code",
      "source": [
        "df.groupby('Inns')['runs'].mean()"
      ],
      "metadata": {
        "colab": {
          "base_uri": "https://localhost:8080/"
        },
        "id": "-IJVM6eWcw6D",
        "outputId": "5f423206-bfaa-4b94-c607-65c6a239ec3b"
      },
      "execution_count": null,
      "outputs": [
        {
          "output_type": "execute_result",
          "data": {
            "text/plain": [
              "Inns\n",
              "1    46.670588\n",
              "2    40.173684\n",
              "Name: runs, dtype: float64"
            ]
          },
          "metadata": {},
          "execution_count": 49
        }
      ]
    },
    {
      "cell_type": "markdown",
      "source": [
        "\n",
        "\n",
        "This is a typical example of the T-test.\n",
        "\n",
        "Let's find out if it is a coincidence or is it significant difference.\n",
        "\n",
        "<br>\n",
        "\n",
        "> <font color='purple'>**What will be the null and alternate hypothesis?**</font>\n",
        "\n",
        "Let the average runs scored in the first and second innings be $μ_1$ and $μ_2$ respectively.\n",
        "\n",
        "- $H_0: μ_1 = μ_2$\n",
        "\n",
        "For the alternate hypothesis, we have a sense that maybe the runs scored in the first innings are greater than in the second innings.\n",
        "\n",
        "So we can set it like:\n",
        "- $H_a: μ_1 > μ_2$"
      ],
      "metadata": {
        "id": "OuOWzimvc8Ex"
      }
    },
    {
      "cell_type": "code",
      "source": [
        "df_first_innings = df[df['Inns'] == 1]\n",
        "df_second_innings = df[df['Inns'] == 2]"
      ],
      "metadata": {
        "id": "iKImvTUAeViX"
      },
      "execution_count": null,
      "outputs": []
    },
    {
      "cell_type": "markdown",
      "source": [
        "<font color='purple'>Performing T-test</font>"
      ],
      "metadata": {
        "id": "dG7p-B8Sevv6"
      }
    },
    {
      "cell_type": "code",
      "source": [
        "t_stat, pvalue = ttest_ind(df_first_innings['runs'], df_second_innings['runs'], alternative = \"greater\")\n",
        "t_stat, pvalue"
      ],
      "metadata": {
        "colab": {
          "base_uri": "https://localhost:8080/"
        },
        "outputId": "df269939-d1e3-44a1-c122-d53ba562affa",
        "id": "Mk7ZpyreexiV"
      },
      "execution_count": null,
      "outputs": [
        {
          "output_type": "execute_result",
          "data": {
            "text/plain": [
              "(1.4612016295532178, 0.07241862097379981)"
            ]
          },
          "metadata": {},
          "execution_count": 52
        }
      ]
    },
    {
      "cell_type": "code",
      "source": [
        "alpha = 0.05 # 95% confidence\n",
        "\n",
        "if pvalue < alpha:\n",
        "  print('Reject H0')\n",
        "  print('First innings is better')\n",
        "else:\n",
        "  print ('Fail to Reject H0')\n",
        "  print('Difference we observe is just chance')"
      ],
      "metadata": {
        "colab": {
          "base_uri": "https://localhost:8080/"
        },
        "outputId": "9c245fb2-3715-4cbf-be01-3e112ab2bcbe",
        "id": "fmrB0z-dexiW"
      },
      "execution_count": null,
      "outputs": [
        {
          "output_type": "stream",
          "name": "stdout",
          "text": [
            "Fail to Reject H0\n",
            "Difference we observe is just chance\n"
          ]
        }
      ]
    },
    {
      "cell_type": "markdown",
      "source": [
        "\n",
        "#### Batting pattern when the team won vs lost"
      ],
      "metadata": {
        "id": "tvTqpB_OfTCG"
      }
    },
    {
      "cell_type": "code",
      "source": [
        "df.groupby('Won')['runs'].mean()"
      ],
      "metadata": {
        "colab": {
          "base_uri": "https://localhost:8080/"
        },
        "id": "M60yR4vxfiup",
        "outputId": "f6fb52e6-11aa-4462-e77f-848270b92a66"
      },
      "execution_count": null,
      "outputs": [
        {
          "output_type": "execute_result",
          "data": {
            "text/plain": [
              "Won\n",
              "False    35.130682\n",
              "True     51.000000\n",
              "Name: runs, dtype: float64"
            ]
          },
          "metadata": {},
          "execution_count": 56
        }
      ]
    },
    {
      "cell_type": "markdown",
      "source": [
        "This seems to be a significant difference.\n",
        "\n",
        "Let's check using T-test"
      ],
      "metadata": {
        "id": "Ku7hw8OKfuZS"
      }
    },
    {
      "cell_type": "code",
      "source": [
        "df_won = df[df['Won'] == True]\n",
        "df_lost = df[df['Won'] == False]"
      ],
      "metadata": {
        "id": "OA4rK85SfgJo"
      },
      "execution_count": null,
      "outputs": []
    },
    {
      "cell_type": "markdown",
      "source": [
        "> <font color='purple'>**What are null and alternate hypothesis?**</font>\n",
        "\n",
        "- $H_0: μ_1 = μ_2$, i.e. No difference in batting, irrespective of win or loss\n",
        "- $H_a: μ_1 > μ_2$, i.e. better batting when match is won\n",
        "\n",
        "<br>\n",
        "\n",
        "Performing the test."
      ],
      "metadata": {
        "id": "2UiB-nZ5gEzq"
      }
    },
    {
      "cell_type": "code",
      "source": [
        "t_stat, pvalue = ttest_ind(df_won['runs'], df_lost['runs'], alternative = \"greater\")\n",
        "t_stat, pvalue"
      ],
      "metadata": {
        "colab": {
          "base_uri": "https://localhost:8080/"
        },
        "outputId": "2e10bcec-433f-4936-d7e9-5f6f126c9549",
        "id": "pUWG4cBFggqp"
      },
      "execution_count": null,
      "outputs": [
        {
          "output_type": "execute_result",
          "data": {
            "text/plain": [
              "(3.628068563969343, 0.00016353077486826558)"
            ]
          },
          "metadata": {},
          "execution_count": 58
        }
      ]
    },
    {
      "cell_type": "code",
      "source": [
        "alpha = 0.05 # 95% confidence\n",
        "\n",
        "if pvalue < alpha:\n",
        "  print('Reject H0')\n",
        "  print('Better scores when team won the match')\n",
        "else:\n",
        "  print ('Fail to Reject H0')\n",
        "  print('Difference we observe is just chance')"
      ],
      "metadata": {
        "colab": {
          "base_uri": "https://localhost:8080/"
        },
        "outputId": "ea18ee7f-1c32-4daa-8c44-0fd9325460fb",
        "id": "USlHrX2oggqs"
      },
      "execution_count": null,
      "outputs": [
        {
          "output_type": "stream",
          "name": "stdout",
          "text": [
            "Reject H0\n",
            "First innings is better\n"
          ]
        }
      ]
    },
    {
      "cell_type": "markdown",
      "source": [
        "The obtained pvalue was very small, making it highly unlikely for the difference to be a coincidence.\n",
        "\n",
        "Therefore we conclude that the columns\n",
        "- `runs` and `Won` have a good relationship between them.\n",
        "- Whereas, `runs` and `Inns`  did not."
      ],
      "metadata": {
        "id": "lPASrHyjg99m"
      }
    },
    {
      "cell_type": "markdown",
      "source": [
        "---\n",
        "\n",
        "Another context in which people often use T-tests is\n",
        "\n",
        "### <font color='purple'>Drug Recovery Time Example</font>\n",
        "\n",
        "Suppose there are 2 competing companies that have created a drug for tackling the same disease.\n",
        "\n",
        "A test was conducted using these 2 drugs on a group of people and you are given the same in the following data.\n",
        "\n",
        "<font color='purple'>Which drug is more effective?</font>"
      ],
      "metadata": {
        "id": "stDhF_5sh4za"
      }
    },
    {
      "cell_type": "code",
      "source": [
        "!wget --no-check-certificate https://drive.google.com/uc?id=1aTrYo2_PIeYcg8Fvpr5m2GYAXiPvvOmz -O drug_1_recovery.csv"
      ],
      "metadata": {
        "colab": {
          "base_uri": "https://localhost:8080/"
        },
        "id": "SziOouiVf_6J",
        "outputId": "f3ea78f6-7b76-4c4c-9ee9-77e3d7835c18"
      },
      "execution_count": null,
      "outputs": [
        {
          "output_type": "stream",
          "name": "stdout",
          "text": [
            "--2024-01-18 09:26:16--  https://drive.google.com/uc?id=1aTrYo2_PIeYcg8Fvpr5m2GYAXiPvvOmz\n",
            "Resolving drive.google.com (drive.google.com)... 142.251.2.113, 142.251.2.100, 142.251.2.102, ...\n",
            "Connecting to drive.google.com (drive.google.com)|142.251.2.113|:443... connected.\n",
            "HTTP request sent, awaiting response... 303 See Other\n",
            "Location: https://drive.usercontent.google.com/download?id=1aTrYo2_PIeYcg8Fvpr5m2GYAXiPvvOmz [following]\n",
            "--2024-01-18 09:26:16--  https://drive.usercontent.google.com/download?id=1aTrYo2_PIeYcg8Fvpr5m2GYAXiPvvOmz\n",
            "Resolving drive.usercontent.google.com (drive.usercontent.google.com)... 142.251.2.132, 2607:f8b0:4023:c0b::84\n",
            "Connecting to drive.usercontent.google.com (drive.usercontent.google.com)|142.251.2.132|:443... connected.\n",
            "HTTP request sent, awaiting response... 200 OK\n",
            "Length: 1102 (1.1K) [application/octet-stream]\n",
            "Saving to: ‘drug_1_recovery.csv’\n",
            "\n",
            "drug_1_recovery.csv 100%[===================>]   1.08K  --.-KB/s    in 0s      \n",
            "\n",
            "2024-01-18 09:26:17 (36.8 MB/s) - ‘drug_1_recovery.csv’ saved [1102/1102]\n",
            "\n"
          ]
        }
      ]
    },
    {
      "cell_type": "code",
      "source": [
        "d1 = pd.read_csv('/content/drug_1_recovery.csv')\n",
        "d1"
      ],
      "metadata": {
        "colab": {
          "base_uri": "https://localhost:8080/",
          "height": 423
        },
        "id": "noy59WQ4iugg",
        "outputId": "fcf2553c-b96f-474b-817b-2316ea4aedda"
      },
      "execution_count": null,
      "outputs": [
        {
          "output_type": "execute_result",
          "data": {
            "text/plain": [
              "      drug_1\n",
              "0   8.824208\n",
              "1   7.477745\n",
              "2   7.557121\n",
              "3   7.981314\n",
              "4   6.827716\n",
              "..       ...\n",
              "95  6.890506\n",
              "96  7.725759\n",
              "97  6.848016\n",
              "98  7.969997\n",
              "99  7.104209\n",
              "\n",
              "[100 rows x 1 columns]"
            ],
            "text/html": [
              "\n",
              "  <div id=\"df-20359e32-8e94-44f0-b443-2a77a09e7e07\" class=\"colab-df-container\">\n",
              "    <div>\n",
              "<style scoped>\n",
              "    .dataframe tbody tr th:only-of-type {\n",
              "        vertical-align: middle;\n",
              "    }\n",
              "\n",
              "    .dataframe tbody tr th {\n",
              "        vertical-align: top;\n",
              "    }\n",
              "\n",
              "    .dataframe thead th {\n",
              "        text-align: right;\n",
              "    }\n",
              "</style>\n",
              "<table border=\"1\" class=\"dataframe\">\n",
              "  <thead>\n",
              "    <tr style=\"text-align: right;\">\n",
              "      <th></th>\n",
              "      <th>drug_1</th>\n",
              "    </tr>\n",
              "  </thead>\n",
              "  <tbody>\n",
              "    <tr>\n",
              "      <th>0</th>\n",
              "      <td>8.824208</td>\n",
              "    </tr>\n",
              "    <tr>\n",
              "      <th>1</th>\n",
              "      <td>7.477745</td>\n",
              "    </tr>\n",
              "    <tr>\n",
              "      <th>2</th>\n",
              "      <td>7.557121</td>\n",
              "    </tr>\n",
              "    <tr>\n",
              "      <th>3</th>\n",
              "      <td>7.981314</td>\n",
              "    </tr>\n",
              "    <tr>\n",
              "      <th>4</th>\n",
              "      <td>6.827716</td>\n",
              "    </tr>\n",
              "    <tr>\n",
              "      <th>...</th>\n",
              "      <td>...</td>\n",
              "    </tr>\n",
              "    <tr>\n",
              "      <th>95</th>\n",
              "      <td>6.890506</td>\n",
              "    </tr>\n",
              "    <tr>\n",
              "      <th>96</th>\n",
              "      <td>7.725759</td>\n",
              "    </tr>\n",
              "    <tr>\n",
              "      <th>97</th>\n",
              "      <td>6.848016</td>\n",
              "    </tr>\n",
              "    <tr>\n",
              "      <th>98</th>\n",
              "      <td>7.969997</td>\n",
              "    </tr>\n",
              "    <tr>\n",
              "      <th>99</th>\n",
              "      <td>7.104209</td>\n",
              "    </tr>\n",
              "  </tbody>\n",
              "</table>\n",
              "<p>100 rows × 1 columns</p>\n",
              "</div>\n",
              "    <div class=\"colab-df-buttons\">\n",
              "\n",
              "  <div class=\"colab-df-container\">\n",
              "    <button class=\"colab-df-convert\" onclick=\"convertToInteractive('df-20359e32-8e94-44f0-b443-2a77a09e7e07')\"\n",
              "            title=\"Convert this dataframe to an interactive table.\"\n",
              "            style=\"display:none;\">\n",
              "\n",
              "  <svg xmlns=\"http://www.w3.org/2000/svg\" height=\"24px\" viewBox=\"0 -960 960 960\">\n",
              "    <path d=\"M120-120v-720h720v720H120Zm60-500h600v-160H180v160Zm220 220h160v-160H400v160Zm0 220h160v-160H400v160ZM180-400h160v-160H180v160Zm440 0h160v-160H620v160ZM180-180h160v-160H180v160Zm440 0h160v-160H620v160Z\"/>\n",
              "  </svg>\n",
              "    </button>\n",
              "\n",
              "  <style>\n",
              "    .colab-df-container {\n",
              "      display:flex;\n",
              "      gap: 12px;\n",
              "    }\n",
              "\n",
              "    .colab-df-convert {\n",
              "      background-color: #E8F0FE;\n",
              "      border: none;\n",
              "      border-radius: 50%;\n",
              "      cursor: pointer;\n",
              "      display: none;\n",
              "      fill: #1967D2;\n",
              "      height: 32px;\n",
              "      padding: 0 0 0 0;\n",
              "      width: 32px;\n",
              "    }\n",
              "\n",
              "    .colab-df-convert:hover {\n",
              "      background-color: #E2EBFA;\n",
              "      box-shadow: 0px 1px 2px rgba(60, 64, 67, 0.3), 0px 1px 3px 1px rgba(60, 64, 67, 0.15);\n",
              "      fill: #174EA6;\n",
              "    }\n",
              "\n",
              "    .colab-df-buttons div {\n",
              "      margin-bottom: 4px;\n",
              "    }\n",
              "\n",
              "    [theme=dark] .colab-df-convert {\n",
              "      background-color: #3B4455;\n",
              "      fill: #D2E3FC;\n",
              "    }\n",
              "\n",
              "    [theme=dark] .colab-df-convert:hover {\n",
              "      background-color: #434B5C;\n",
              "      box-shadow: 0px 1px 3px 1px rgba(0, 0, 0, 0.15);\n",
              "      filter: drop-shadow(0px 1px 2px rgba(0, 0, 0, 0.3));\n",
              "      fill: #FFFFFF;\n",
              "    }\n",
              "  </style>\n",
              "\n",
              "    <script>\n",
              "      const buttonEl =\n",
              "        document.querySelector('#df-20359e32-8e94-44f0-b443-2a77a09e7e07 button.colab-df-convert');\n",
              "      buttonEl.style.display =\n",
              "        google.colab.kernel.accessAllowed ? 'block' : 'none';\n",
              "\n",
              "      async function convertToInteractive(key) {\n",
              "        const element = document.querySelector('#df-20359e32-8e94-44f0-b443-2a77a09e7e07');\n",
              "        const dataTable =\n",
              "          await google.colab.kernel.invokeFunction('convertToInteractive',\n",
              "                                                    [key], {});\n",
              "        if (!dataTable) return;\n",
              "\n",
              "        const docLinkHtml = 'Like what you see? Visit the ' +\n",
              "          '<a target=\"_blank\" href=https://colab.research.google.com/notebooks/data_table.ipynb>data table notebook</a>'\n",
              "          + ' to learn more about interactive tables.';\n",
              "        element.innerHTML = '';\n",
              "        dataTable['output_type'] = 'display_data';\n",
              "        await google.colab.output.renderOutput(dataTable, element);\n",
              "        const docLink = document.createElement('div');\n",
              "        docLink.innerHTML = docLinkHtml;\n",
              "        element.appendChild(docLink);\n",
              "      }\n",
              "    </script>\n",
              "  </div>\n",
              "\n",
              "\n",
              "<div id=\"df-508ae0fa-84ac-4941-9968-1e98ebfd740e\">\n",
              "  <button class=\"colab-df-quickchart\" onclick=\"quickchart('df-508ae0fa-84ac-4941-9968-1e98ebfd740e')\"\n",
              "            title=\"Suggest charts\"\n",
              "            style=\"display:none;\">\n",
              "\n",
              "<svg xmlns=\"http://www.w3.org/2000/svg\" height=\"24px\"viewBox=\"0 0 24 24\"\n",
              "     width=\"24px\">\n",
              "    <g>\n",
              "        <path d=\"M19 3H5c-1.1 0-2 .9-2 2v14c0 1.1.9 2 2 2h14c1.1 0 2-.9 2-2V5c0-1.1-.9-2-2-2zM9 17H7v-7h2v7zm4 0h-2V7h2v10zm4 0h-2v-4h2v4z\"/>\n",
              "    </g>\n",
              "</svg>\n",
              "  </button>\n",
              "\n",
              "<style>\n",
              "  .colab-df-quickchart {\n",
              "      --bg-color: #E8F0FE;\n",
              "      --fill-color: #1967D2;\n",
              "      --hover-bg-color: #E2EBFA;\n",
              "      --hover-fill-color: #174EA6;\n",
              "      --disabled-fill-color: #AAA;\n",
              "      --disabled-bg-color: #DDD;\n",
              "  }\n",
              "\n",
              "  [theme=dark] .colab-df-quickchart {\n",
              "      --bg-color: #3B4455;\n",
              "      --fill-color: #D2E3FC;\n",
              "      --hover-bg-color: #434B5C;\n",
              "      --hover-fill-color: #FFFFFF;\n",
              "      --disabled-bg-color: #3B4455;\n",
              "      --disabled-fill-color: #666;\n",
              "  }\n",
              "\n",
              "  .colab-df-quickchart {\n",
              "    background-color: var(--bg-color);\n",
              "    border: none;\n",
              "    border-radius: 50%;\n",
              "    cursor: pointer;\n",
              "    display: none;\n",
              "    fill: var(--fill-color);\n",
              "    height: 32px;\n",
              "    padding: 0;\n",
              "    width: 32px;\n",
              "  }\n",
              "\n",
              "  .colab-df-quickchart:hover {\n",
              "    background-color: var(--hover-bg-color);\n",
              "    box-shadow: 0 1px 2px rgba(60, 64, 67, 0.3), 0 1px 3px 1px rgba(60, 64, 67, 0.15);\n",
              "    fill: var(--button-hover-fill-color);\n",
              "  }\n",
              "\n",
              "  .colab-df-quickchart-complete:disabled,\n",
              "  .colab-df-quickchart-complete:disabled:hover {\n",
              "    background-color: var(--disabled-bg-color);\n",
              "    fill: var(--disabled-fill-color);\n",
              "    box-shadow: none;\n",
              "  }\n",
              "\n",
              "  .colab-df-spinner {\n",
              "    border: 2px solid var(--fill-color);\n",
              "    border-color: transparent;\n",
              "    border-bottom-color: var(--fill-color);\n",
              "    animation:\n",
              "      spin 1s steps(1) infinite;\n",
              "  }\n",
              "\n",
              "  @keyframes spin {\n",
              "    0% {\n",
              "      border-color: transparent;\n",
              "      border-bottom-color: var(--fill-color);\n",
              "      border-left-color: var(--fill-color);\n",
              "    }\n",
              "    20% {\n",
              "      border-color: transparent;\n",
              "      border-left-color: var(--fill-color);\n",
              "      border-top-color: var(--fill-color);\n",
              "    }\n",
              "    30% {\n",
              "      border-color: transparent;\n",
              "      border-left-color: var(--fill-color);\n",
              "      border-top-color: var(--fill-color);\n",
              "      border-right-color: var(--fill-color);\n",
              "    }\n",
              "    40% {\n",
              "      border-color: transparent;\n",
              "      border-right-color: var(--fill-color);\n",
              "      border-top-color: var(--fill-color);\n",
              "    }\n",
              "    60% {\n",
              "      border-color: transparent;\n",
              "      border-right-color: var(--fill-color);\n",
              "    }\n",
              "    80% {\n",
              "      border-color: transparent;\n",
              "      border-right-color: var(--fill-color);\n",
              "      border-bottom-color: var(--fill-color);\n",
              "    }\n",
              "    90% {\n",
              "      border-color: transparent;\n",
              "      border-bottom-color: var(--fill-color);\n",
              "    }\n",
              "  }\n",
              "</style>\n",
              "\n",
              "  <script>\n",
              "    async function quickchart(key) {\n",
              "      const quickchartButtonEl =\n",
              "        document.querySelector('#' + key + ' button');\n",
              "      quickchartButtonEl.disabled = true;  // To prevent multiple clicks.\n",
              "      quickchartButtonEl.classList.add('colab-df-spinner');\n",
              "      try {\n",
              "        const charts = await google.colab.kernel.invokeFunction(\n",
              "            'suggestCharts', [key], {});\n",
              "      } catch (error) {\n",
              "        console.error('Error during call to suggestCharts:', error);\n",
              "      }\n",
              "      quickchartButtonEl.classList.remove('colab-df-spinner');\n",
              "      quickchartButtonEl.classList.add('colab-df-quickchart-complete');\n",
              "    }\n",
              "    (() => {\n",
              "      let quickchartButtonEl =\n",
              "        document.querySelector('#df-508ae0fa-84ac-4941-9968-1e98ebfd740e button');\n",
              "      quickchartButtonEl.style.display =\n",
              "        google.colab.kernel.accessAllowed ? 'block' : 'none';\n",
              "    })();\n",
              "  </script>\n",
              "</div>\n",
              "    </div>\n",
              "  </div>\n"
            ]
          },
          "metadata": {},
          "execution_count": 6
        }
      ]
    },
    {
      "cell_type": "code",
      "source": [
        "d1.mean()"
      ],
      "metadata": {
        "colab": {
          "base_uri": "https://localhost:8080/"
        },
        "id": "OGqlh4pki8A7",
        "outputId": "b7ed820d-a838-4e27-8006-fa7be903df23"
      },
      "execution_count": null,
      "outputs": [
        {
          "output_type": "execute_result",
          "data": {
            "text/plain": [
              "drug_1    7.104917\n",
              "dtype: float64"
            ]
          },
          "metadata": {},
          "execution_count": 63
        }
      ]
    },
    {
      "cell_type": "markdown",
      "source": [
        "Now, for Drug 2"
      ],
      "metadata": {
        "id": "To4GsNiTi9-0"
      }
    },
    {
      "cell_type": "code",
      "source": [
        "!wget --no-check-certificate https://drive.google.com/uc?id=1YgAgnzkfiCFz_kSO6BPPLCYAB2K5VwXG -O drug_2_recovery.csv"
      ],
      "metadata": {
        "colab": {
          "base_uri": "https://localhost:8080/"
        },
        "id": "UBthb89ii_0Y",
        "outputId": "699baf6b-3290-45dd-8c65-fe8aff220b47"
      },
      "execution_count": null,
      "outputs": [
        {
          "output_type": "stream",
          "name": "stdout",
          "text": [
            "--2024-01-18 09:26:41--  https://drive.google.com/uc?id=1YgAgnzkfiCFz_kSO6BPPLCYAB2K5VwXG\n",
            "Resolving drive.google.com (drive.google.com)... 142.251.2.113, 142.251.2.100, 142.251.2.102, ...\n",
            "Connecting to drive.google.com (drive.google.com)|142.251.2.113|:443... connected.\n",
            "HTTP request sent, awaiting response... 303 See Other\n",
            "Location: https://drive.usercontent.google.com/download?id=1YgAgnzkfiCFz_kSO6BPPLCYAB2K5VwXG [following]\n",
            "--2024-01-18 09:26:41--  https://drive.usercontent.google.com/download?id=1YgAgnzkfiCFz_kSO6BPPLCYAB2K5VwXG\n",
            "Resolving drive.usercontent.google.com (drive.usercontent.google.com)... 142.251.2.132, 2607:f8b0:4023:c0b::84\n",
            "Connecting to drive.usercontent.google.com (drive.usercontent.google.com)|142.251.2.132|:443... connected.\n",
            "HTTP request sent, awaiting response... 200 OK\n",
            "Length: 1328 (1.3K) [application/octet-stream]\n",
            "Saving to: ‘drug_2_recovery.csv’\n",
            "\n",
            "drug_2_recovery.csv 100%[===================>]   1.30K  --.-KB/s    in 0s      \n",
            "\n",
            "2024-01-18 09:26:42 (55.3 MB/s) - ‘drug_2_recovery.csv’ saved [1328/1328]\n",
            "\n"
          ]
        }
      ]
    },
    {
      "cell_type": "code",
      "source": [
        "d2 = pd.read_csv('/content/drug_2_recovery.csv')\n",
        "d2"
      ],
      "metadata": {
        "colab": {
          "base_uri": "https://localhost:8080/",
          "height": 423
        },
        "outputId": "7497d74a-d73d-49f4-9025-de12e1317814",
        "id": "7QEwmc59jNL_"
      },
      "execution_count": null,
      "outputs": [
        {
          "output_type": "execute_result",
          "data": {
            "text/plain": [
              "       drug_2\n",
              "0    9.565974\n",
              "1    7.492915\n",
              "2    8.738418\n",
              "3    7.635235\n",
              "4    4.125593\n",
              "..        ...\n",
              "115  7.861993\n",
              "116  8.233510\n",
              "117  5.876257\n",
              "118  7.789454\n",
              "119  8.836125\n",
              "\n",
              "[120 rows x 1 columns]"
            ],
            "text/html": [
              "\n",
              "  <div id=\"df-da395806-649d-458c-9464-667139882c40\" class=\"colab-df-container\">\n",
              "    <div>\n",
              "<style scoped>\n",
              "    .dataframe tbody tr th:only-of-type {\n",
              "        vertical-align: middle;\n",
              "    }\n",
              "\n",
              "    .dataframe tbody tr th {\n",
              "        vertical-align: top;\n",
              "    }\n",
              "\n",
              "    .dataframe thead th {\n",
              "        text-align: right;\n",
              "    }\n",
              "</style>\n",
              "<table border=\"1\" class=\"dataframe\">\n",
              "  <thead>\n",
              "    <tr style=\"text-align: right;\">\n",
              "      <th></th>\n",
              "      <th>drug_2</th>\n",
              "    </tr>\n",
              "  </thead>\n",
              "  <tbody>\n",
              "    <tr>\n",
              "      <th>0</th>\n",
              "      <td>9.565974</td>\n",
              "    </tr>\n",
              "    <tr>\n",
              "      <th>1</th>\n",
              "      <td>7.492915</td>\n",
              "    </tr>\n",
              "    <tr>\n",
              "      <th>2</th>\n",
              "      <td>8.738418</td>\n",
              "    </tr>\n",
              "    <tr>\n",
              "      <th>3</th>\n",
              "      <td>7.635235</td>\n",
              "    </tr>\n",
              "    <tr>\n",
              "      <th>4</th>\n",
              "      <td>4.125593</td>\n",
              "    </tr>\n",
              "    <tr>\n",
              "      <th>...</th>\n",
              "      <td>...</td>\n",
              "    </tr>\n",
              "    <tr>\n",
              "      <th>115</th>\n",
              "      <td>7.861993</td>\n",
              "    </tr>\n",
              "    <tr>\n",
              "      <th>116</th>\n",
              "      <td>8.233510</td>\n",
              "    </tr>\n",
              "    <tr>\n",
              "      <th>117</th>\n",
              "      <td>5.876257</td>\n",
              "    </tr>\n",
              "    <tr>\n",
              "      <th>118</th>\n",
              "      <td>7.789454</td>\n",
              "    </tr>\n",
              "    <tr>\n",
              "      <th>119</th>\n",
              "      <td>8.836125</td>\n",
              "    </tr>\n",
              "  </tbody>\n",
              "</table>\n",
              "<p>120 rows × 1 columns</p>\n",
              "</div>\n",
              "    <div class=\"colab-df-buttons\">\n",
              "\n",
              "  <div class=\"colab-df-container\">\n",
              "    <button class=\"colab-df-convert\" onclick=\"convertToInteractive('df-da395806-649d-458c-9464-667139882c40')\"\n",
              "            title=\"Convert this dataframe to an interactive table.\"\n",
              "            style=\"display:none;\">\n",
              "\n",
              "  <svg xmlns=\"http://www.w3.org/2000/svg\" height=\"24px\" viewBox=\"0 -960 960 960\">\n",
              "    <path d=\"M120-120v-720h720v720H120Zm60-500h600v-160H180v160Zm220 220h160v-160H400v160Zm0 220h160v-160H400v160ZM180-400h160v-160H180v160Zm440 0h160v-160H620v160ZM180-180h160v-160H180v160Zm440 0h160v-160H620v160Z\"/>\n",
              "  </svg>\n",
              "    </button>\n",
              "\n",
              "  <style>\n",
              "    .colab-df-container {\n",
              "      display:flex;\n",
              "      gap: 12px;\n",
              "    }\n",
              "\n",
              "    .colab-df-convert {\n",
              "      background-color: #E8F0FE;\n",
              "      border: none;\n",
              "      border-radius: 50%;\n",
              "      cursor: pointer;\n",
              "      display: none;\n",
              "      fill: #1967D2;\n",
              "      height: 32px;\n",
              "      padding: 0 0 0 0;\n",
              "      width: 32px;\n",
              "    }\n",
              "\n",
              "    .colab-df-convert:hover {\n",
              "      background-color: #E2EBFA;\n",
              "      box-shadow: 0px 1px 2px rgba(60, 64, 67, 0.3), 0px 1px 3px 1px rgba(60, 64, 67, 0.15);\n",
              "      fill: #174EA6;\n",
              "    }\n",
              "\n",
              "    .colab-df-buttons div {\n",
              "      margin-bottom: 4px;\n",
              "    }\n",
              "\n",
              "    [theme=dark] .colab-df-convert {\n",
              "      background-color: #3B4455;\n",
              "      fill: #D2E3FC;\n",
              "    }\n",
              "\n",
              "    [theme=dark] .colab-df-convert:hover {\n",
              "      background-color: #434B5C;\n",
              "      box-shadow: 0px 1px 3px 1px rgba(0, 0, 0, 0.15);\n",
              "      filter: drop-shadow(0px 1px 2px rgba(0, 0, 0, 0.3));\n",
              "      fill: #FFFFFF;\n",
              "    }\n",
              "  </style>\n",
              "\n",
              "    <script>\n",
              "      const buttonEl =\n",
              "        document.querySelector('#df-da395806-649d-458c-9464-667139882c40 button.colab-df-convert');\n",
              "      buttonEl.style.display =\n",
              "        google.colab.kernel.accessAllowed ? 'block' : 'none';\n",
              "\n",
              "      async function convertToInteractive(key) {\n",
              "        const element = document.querySelector('#df-da395806-649d-458c-9464-667139882c40');\n",
              "        const dataTable =\n",
              "          await google.colab.kernel.invokeFunction('convertToInteractive',\n",
              "                                                    [key], {});\n",
              "        if (!dataTable) return;\n",
              "\n",
              "        const docLinkHtml = 'Like what you see? Visit the ' +\n",
              "          '<a target=\"_blank\" href=https://colab.research.google.com/notebooks/data_table.ipynb>data table notebook</a>'\n",
              "          + ' to learn more about interactive tables.';\n",
              "        element.innerHTML = '';\n",
              "        dataTable['output_type'] = 'display_data';\n",
              "        await google.colab.output.renderOutput(dataTable, element);\n",
              "        const docLink = document.createElement('div');\n",
              "        docLink.innerHTML = docLinkHtml;\n",
              "        element.appendChild(docLink);\n",
              "      }\n",
              "    </script>\n",
              "  </div>\n",
              "\n",
              "\n",
              "<div id=\"df-fb6a6b4f-dcf8-41e2-b4f9-1e4a69fd846a\">\n",
              "  <button class=\"colab-df-quickchart\" onclick=\"quickchart('df-fb6a6b4f-dcf8-41e2-b4f9-1e4a69fd846a')\"\n",
              "            title=\"Suggest charts\"\n",
              "            style=\"display:none;\">\n",
              "\n",
              "<svg xmlns=\"http://www.w3.org/2000/svg\" height=\"24px\"viewBox=\"0 0 24 24\"\n",
              "     width=\"24px\">\n",
              "    <g>\n",
              "        <path d=\"M19 3H5c-1.1 0-2 .9-2 2v14c0 1.1.9 2 2 2h14c1.1 0 2-.9 2-2V5c0-1.1-.9-2-2-2zM9 17H7v-7h2v7zm4 0h-2V7h2v10zm4 0h-2v-4h2v4z\"/>\n",
              "    </g>\n",
              "</svg>\n",
              "  </button>\n",
              "\n",
              "<style>\n",
              "  .colab-df-quickchart {\n",
              "      --bg-color: #E8F0FE;\n",
              "      --fill-color: #1967D2;\n",
              "      --hover-bg-color: #E2EBFA;\n",
              "      --hover-fill-color: #174EA6;\n",
              "      --disabled-fill-color: #AAA;\n",
              "      --disabled-bg-color: #DDD;\n",
              "  }\n",
              "\n",
              "  [theme=dark] .colab-df-quickchart {\n",
              "      --bg-color: #3B4455;\n",
              "      --fill-color: #D2E3FC;\n",
              "      --hover-bg-color: #434B5C;\n",
              "      --hover-fill-color: #FFFFFF;\n",
              "      --disabled-bg-color: #3B4455;\n",
              "      --disabled-fill-color: #666;\n",
              "  }\n",
              "\n",
              "  .colab-df-quickchart {\n",
              "    background-color: var(--bg-color);\n",
              "    border: none;\n",
              "    border-radius: 50%;\n",
              "    cursor: pointer;\n",
              "    display: none;\n",
              "    fill: var(--fill-color);\n",
              "    height: 32px;\n",
              "    padding: 0;\n",
              "    width: 32px;\n",
              "  }\n",
              "\n",
              "  .colab-df-quickchart:hover {\n",
              "    background-color: var(--hover-bg-color);\n",
              "    box-shadow: 0 1px 2px rgba(60, 64, 67, 0.3), 0 1px 3px 1px rgba(60, 64, 67, 0.15);\n",
              "    fill: var(--button-hover-fill-color);\n",
              "  }\n",
              "\n",
              "  .colab-df-quickchart-complete:disabled,\n",
              "  .colab-df-quickchart-complete:disabled:hover {\n",
              "    background-color: var(--disabled-bg-color);\n",
              "    fill: var(--disabled-fill-color);\n",
              "    box-shadow: none;\n",
              "  }\n",
              "\n",
              "  .colab-df-spinner {\n",
              "    border: 2px solid var(--fill-color);\n",
              "    border-color: transparent;\n",
              "    border-bottom-color: var(--fill-color);\n",
              "    animation:\n",
              "      spin 1s steps(1) infinite;\n",
              "  }\n",
              "\n",
              "  @keyframes spin {\n",
              "    0% {\n",
              "      border-color: transparent;\n",
              "      border-bottom-color: var(--fill-color);\n",
              "      border-left-color: var(--fill-color);\n",
              "    }\n",
              "    20% {\n",
              "      border-color: transparent;\n",
              "      border-left-color: var(--fill-color);\n",
              "      border-top-color: var(--fill-color);\n",
              "    }\n",
              "    30% {\n",
              "      border-color: transparent;\n",
              "      border-left-color: var(--fill-color);\n",
              "      border-top-color: var(--fill-color);\n",
              "      border-right-color: var(--fill-color);\n",
              "    }\n",
              "    40% {\n",
              "      border-color: transparent;\n",
              "      border-right-color: var(--fill-color);\n",
              "      border-top-color: var(--fill-color);\n",
              "    }\n",
              "    60% {\n",
              "      border-color: transparent;\n",
              "      border-right-color: var(--fill-color);\n",
              "    }\n",
              "    80% {\n",
              "      border-color: transparent;\n",
              "      border-right-color: var(--fill-color);\n",
              "      border-bottom-color: var(--fill-color);\n",
              "    }\n",
              "    90% {\n",
              "      border-color: transparent;\n",
              "      border-bottom-color: var(--fill-color);\n",
              "    }\n",
              "  }\n",
              "</style>\n",
              "\n",
              "  <script>\n",
              "    async function quickchart(key) {\n",
              "      const quickchartButtonEl =\n",
              "        document.querySelector('#' + key + ' button');\n",
              "      quickchartButtonEl.disabled = true;  // To prevent multiple clicks.\n",
              "      quickchartButtonEl.classList.add('colab-df-spinner');\n",
              "      try {\n",
              "        const charts = await google.colab.kernel.invokeFunction(\n",
              "            'suggestCharts', [key], {});\n",
              "      } catch (error) {\n",
              "        console.error('Error during call to suggestCharts:', error);\n",
              "      }\n",
              "      quickchartButtonEl.classList.remove('colab-df-spinner');\n",
              "      quickchartButtonEl.classList.add('colab-df-quickchart-complete');\n",
              "    }\n",
              "    (() => {\n",
              "      let quickchartButtonEl =\n",
              "        document.querySelector('#df-fb6a6b4f-dcf8-41e2-b4f9-1e4a69fd846a button');\n",
              "      quickchartButtonEl.style.display =\n",
              "        google.colab.kernel.accessAllowed ? 'block' : 'none';\n",
              "    })();\n",
              "  </script>\n",
              "</div>\n",
              "    </div>\n",
              "  </div>\n"
            ]
          },
          "metadata": {},
          "execution_count": 8
        }
      ]
    },
    {
      "cell_type": "code",
      "source": [
        "d2.mean()"
      ],
      "metadata": {
        "colab": {
          "base_uri": "https://localhost:8080/"
        },
        "outputId": "5ef8a608-4a66-4131-fed2-ed85a8fad0f8",
        "id": "I0CaOQf5jNL_"
      },
      "execution_count": null,
      "outputs": [
        {
          "output_type": "execute_result",
          "data": {
            "text/plain": [
              "drug_2    8.073423\n",
              "dtype: float64"
            ]
          },
          "metadata": {},
          "execution_count": 66
        }
      ]
    },
    {
      "cell_type": "markdown",
      "source": [
        "This presents a similar problem to what we've seen till now."
      ],
      "metadata": {
        "id": "wvd3KuHPjT3H"
      }
    },
    {
      "cell_type": "markdown",
      "source": [
        "> <font color='purple'>**What will be the Null and Alternate Hypothesis?**</font>\n",
        "\n",
        "We observe that the recovery time of drug 1 seems better (less no of days).\n",
        "\n",
        "So we define a hypothesis as:\n",
        "- $H_0: μ_1 = μ_2$\n",
        "- $H_a: μ_1 < μ_2$"
      ],
      "metadata": {
        "id": "Jnt5_SlLjdN5"
      }
    },
    {
      "cell_type": "markdown",
      "source": [
        "Based on this we can perform Two sample T-test."
      ],
      "metadata": {
        "id": "qd1XhamNkFME"
      }
    },
    {
      "cell_type": "code",
      "source": [
        "t_stat, pvalue = ttest_ind(d1, d2, alternative = \"less\")\n",
        "t_stat, pvalue"
      ],
      "metadata": {
        "colab": {
          "base_uri": "https://localhost:8080/"
        },
        "outputId": "00d9ffb4-d230-456a-e276-b3b61dff84ac",
        "id": "B3Ck7KEWj_dD"
      },
      "execution_count": null,
      "outputs": [
        {
          "output_type": "execute_result",
          "data": {
            "text/plain": [
              "(array([-5.32112438]), array([1.27713574e-07]))"
            ]
          },
          "metadata": {},
          "execution_count": 67
        }
      ]
    },
    {
      "cell_type": "code",
      "source": [
        "alpha = 0.05 # 95% confidence\n",
        "\n",
        "if pvalue < alpha:\n",
        "  print('Reject H0')\n",
        "  print('First drug has less recovery time.')\n",
        "else:\n",
        "  print ('Fail to Reject H0')\n",
        "  print('Both have same recovery time')"
      ],
      "metadata": {
        "colab": {
          "base_uri": "https://localhost:8080/"
        },
        "outputId": "44fb2356-2cc7-4c6c-d8fe-0eb53a3e4986",
        "id": "3ullkECtj_dE"
      },
      "execution_count": null,
      "outputs": [
        {
          "output_type": "stream",
          "name": "stdout",
          "text": [
            "Reject H0\n",
            "Better scores when team won the match\n"
          ]
        }
      ]
    },
    {
      "cell_type": "markdown",
      "source": [
        "---\n",
        "\n",
        "Let's take a look at the Aerofit Case Study, that you'd have already seen.\n",
        "\n",
        "### <font color='purple'>Aerofit Case Study</font>"
      ],
      "metadata": {
        "id": "kGwtph25n92v"
      }
    },
    {
      "cell_type": "code",
      "source": [
        "!wget --no-check-certificate https://drive.google.com/uc?id=1fSKOoZcIfLTFMvyQ37RvGH168g5nVMDD -O aerofit.csv"
      ],
      "metadata": {
        "colab": {
          "base_uri": "https://localhost:8080/"
        },
        "id": "Y6-npKCKoPKV",
        "outputId": "168a545b-7b95-4b7d-a702-7154fe3eda21"
      },
      "execution_count": null,
      "outputs": [
        {
          "output_type": "stream",
          "name": "stdout",
          "text": [
            "--2024-01-18 09:27:12--  https://drive.google.com/uc?id=1fSKOoZcIfLTFMvyQ37RvGH168g5nVMDD\n",
            "Resolving drive.google.com (drive.google.com)... 142.251.2.100, 142.251.2.102, 142.251.2.138, ...\n",
            "Connecting to drive.google.com (drive.google.com)|142.251.2.100|:443... connected.\n",
            "HTTP request sent, awaiting response... 303 See Other\n",
            "Location: https://drive.usercontent.google.com/download?id=1fSKOoZcIfLTFMvyQ37RvGH168g5nVMDD [following]\n",
            "--2024-01-18 09:27:12--  https://drive.usercontent.google.com/download?id=1fSKOoZcIfLTFMvyQ37RvGH168g5nVMDD\n",
            "Resolving drive.usercontent.google.com (drive.usercontent.google.com)... 142.250.141.132, 2607:f8b0:4023:c0b::84\n",
            "Connecting to drive.usercontent.google.com (drive.usercontent.google.com)|142.250.141.132|:443... connected.\n",
            "HTTP request sent, awaiting response... 200 OK\n",
            "Length: 7461 (7.3K) [application/octet-stream]\n",
            "Saving to: ‘aerofit.csv’\n",
            "\n",
            "aerofit.csv         100%[===================>]   7.29K  --.-KB/s    in 0s      \n",
            "\n",
            "2024-01-18 09:27:13 (50.6 MB/s) - ‘aerofit.csv’ saved [7461/7461]\n",
            "\n"
          ]
        }
      ]
    },
    {
      "cell_type": "code",
      "source": [
        "df = pd.read_csv('/content/aerofit.csv')\n",
        "df"
      ],
      "metadata": {
        "colab": {
          "base_uri": "https://localhost:8080/",
          "height": 423
        },
        "id": "fe80Q1NVoS4Z",
        "outputId": "234214f7-039a-472d-aaac-a04f509b07e7"
      },
      "execution_count": null,
      "outputs": [
        {
          "output_type": "execute_result",
          "data": {
            "text/plain": [
              "    Product  Age  Gender  Education MaritalStatus  Usage  Fitness  Income  \\\n",
              "0     KP281   18    Male         14        Single      3        4   29562   \n",
              "1     KP281   19    Male         15        Single      2        3   31836   \n",
              "2     KP281   19  Female         14     Partnered      4        3   30699   \n",
              "3     KP281   19    Male         12        Single      3        3   32973   \n",
              "4     KP281   20    Male         13     Partnered      4        2   35247   \n",
              "..      ...  ...     ...        ...           ...    ...      ...     ...   \n",
              "175   KP781   40    Male         21        Single      6        5   83416   \n",
              "176   KP781   42    Male         18        Single      5        4   89641   \n",
              "177   KP781   45    Male         16        Single      5        5   90886   \n",
              "178   KP781   47    Male         18     Partnered      4        5  104581   \n",
              "179   KP781   48    Male         18     Partnered      4        5   95508   \n",
              "\n",
              "     Miles  \n",
              "0      112  \n",
              "1       75  \n",
              "2       66  \n",
              "3       85  \n",
              "4       47  \n",
              "..     ...  \n",
              "175    200  \n",
              "176    200  \n",
              "177    160  \n",
              "178    120  \n",
              "179    180  \n",
              "\n",
              "[180 rows x 9 columns]"
            ],
            "text/html": [
              "\n",
              "  <div id=\"df-94ff8d8b-3aac-408a-8c17-cda507c2d1ae\" class=\"colab-df-container\">\n",
              "    <div>\n",
              "<style scoped>\n",
              "    .dataframe tbody tr th:only-of-type {\n",
              "        vertical-align: middle;\n",
              "    }\n",
              "\n",
              "    .dataframe tbody tr th {\n",
              "        vertical-align: top;\n",
              "    }\n",
              "\n",
              "    .dataframe thead th {\n",
              "        text-align: right;\n",
              "    }\n",
              "</style>\n",
              "<table border=\"1\" class=\"dataframe\">\n",
              "  <thead>\n",
              "    <tr style=\"text-align: right;\">\n",
              "      <th></th>\n",
              "      <th>Product</th>\n",
              "      <th>Age</th>\n",
              "      <th>Gender</th>\n",
              "      <th>Education</th>\n",
              "      <th>MaritalStatus</th>\n",
              "      <th>Usage</th>\n",
              "      <th>Fitness</th>\n",
              "      <th>Income</th>\n",
              "      <th>Miles</th>\n",
              "    </tr>\n",
              "  </thead>\n",
              "  <tbody>\n",
              "    <tr>\n",
              "      <th>0</th>\n",
              "      <td>KP281</td>\n",
              "      <td>18</td>\n",
              "      <td>Male</td>\n",
              "      <td>14</td>\n",
              "      <td>Single</td>\n",
              "      <td>3</td>\n",
              "      <td>4</td>\n",
              "      <td>29562</td>\n",
              "      <td>112</td>\n",
              "    </tr>\n",
              "    <tr>\n",
              "      <th>1</th>\n",
              "      <td>KP281</td>\n",
              "      <td>19</td>\n",
              "      <td>Male</td>\n",
              "      <td>15</td>\n",
              "      <td>Single</td>\n",
              "      <td>2</td>\n",
              "      <td>3</td>\n",
              "      <td>31836</td>\n",
              "      <td>75</td>\n",
              "    </tr>\n",
              "    <tr>\n",
              "      <th>2</th>\n",
              "      <td>KP281</td>\n",
              "      <td>19</td>\n",
              "      <td>Female</td>\n",
              "      <td>14</td>\n",
              "      <td>Partnered</td>\n",
              "      <td>4</td>\n",
              "      <td>3</td>\n",
              "      <td>30699</td>\n",
              "      <td>66</td>\n",
              "    </tr>\n",
              "    <tr>\n",
              "      <th>3</th>\n",
              "      <td>KP281</td>\n",
              "      <td>19</td>\n",
              "      <td>Male</td>\n",
              "      <td>12</td>\n",
              "      <td>Single</td>\n",
              "      <td>3</td>\n",
              "      <td>3</td>\n",
              "      <td>32973</td>\n",
              "      <td>85</td>\n",
              "    </tr>\n",
              "    <tr>\n",
              "      <th>4</th>\n",
              "      <td>KP281</td>\n",
              "      <td>20</td>\n",
              "      <td>Male</td>\n",
              "      <td>13</td>\n",
              "      <td>Partnered</td>\n",
              "      <td>4</td>\n",
              "      <td>2</td>\n",
              "      <td>35247</td>\n",
              "      <td>47</td>\n",
              "    </tr>\n",
              "    <tr>\n",
              "      <th>...</th>\n",
              "      <td>...</td>\n",
              "      <td>...</td>\n",
              "      <td>...</td>\n",
              "      <td>...</td>\n",
              "      <td>...</td>\n",
              "      <td>...</td>\n",
              "      <td>...</td>\n",
              "      <td>...</td>\n",
              "      <td>...</td>\n",
              "    </tr>\n",
              "    <tr>\n",
              "      <th>175</th>\n",
              "      <td>KP781</td>\n",
              "      <td>40</td>\n",
              "      <td>Male</td>\n",
              "      <td>21</td>\n",
              "      <td>Single</td>\n",
              "      <td>6</td>\n",
              "      <td>5</td>\n",
              "      <td>83416</td>\n",
              "      <td>200</td>\n",
              "    </tr>\n",
              "    <tr>\n",
              "      <th>176</th>\n",
              "      <td>KP781</td>\n",
              "      <td>42</td>\n",
              "      <td>Male</td>\n",
              "      <td>18</td>\n",
              "      <td>Single</td>\n",
              "      <td>5</td>\n",
              "      <td>4</td>\n",
              "      <td>89641</td>\n",
              "      <td>200</td>\n",
              "    </tr>\n",
              "    <tr>\n",
              "      <th>177</th>\n",
              "      <td>KP781</td>\n",
              "      <td>45</td>\n",
              "      <td>Male</td>\n",
              "      <td>16</td>\n",
              "      <td>Single</td>\n",
              "      <td>5</td>\n",
              "      <td>5</td>\n",
              "      <td>90886</td>\n",
              "      <td>160</td>\n",
              "    </tr>\n",
              "    <tr>\n",
              "      <th>178</th>\n",
              "      <td>KP781</td>\n",
              "      <td>47</td>\n",
              "      <td>Male</td>\n",
              "      <td>18</td>\n",
              "      <td>Partnered</td>\n",
              "      <td>4</td>\n",
              "      <td>5</td>\n",
              "      <td>104581</td>\n",
              "      <td>120</td>\n",
              "    </tr>\n",
              "    <tr>\n",
              "      <th>179</th>\n",
              "      <td>KP781</td>\n",
              "      <td>48</td>\n",
              "      <td>Male</td>\n",
              "      <td>18</td>\n",
              "      <td>Partnered</td>\n",
              "      <td>4</td>\n",
              "      <td>5</td>\n",
              "      <td>95508</td>\n",
              "      <td>180</td>\n",
              "    </tr>\n",
              "  </tbody>\n",
              "</table>\n",
              "<p>180 rows × 9 columns</p>\n",
              "</div>\n",
              "    <div class=\"colab-df-buttons\">\n",
              "\n",
              "  <div class=\"colab-df-container\">\n",
              "    <button class=\"colab-df-convert\" onclick=\"convertToInteractive('df-94ff8d8b-3aac-408a-8c17-cda507c2d1ae')\"\n",
              "            title=\"Convert this dataframe to an interactive table.\"\n",
              "            style=\"display:none;\">\n",
              "\n",
              "  <svg xmlns=\"http://www.w3.org/2000/svg\" height=\"24px\" viewBox=\"0 -960 960 960\">\n",
              "    <path d=\"M120-120v-720h720v720H120Zm60-500h600v-160H180v160Zm220 220h160v-160H400v160Zm0 220h160v-160H400v160ZM180-400h160v-160H180v160Zm440 0h160v-160H620v160ZM180-180h160v-160H180v160Zm440 0h160v-160H620v160Z\"/>\n",
              "  </svg>\n",
              "    </button>\n",
              "\n",
              "  <style>\n",
              "    .colab-df-container {\n",
              "      display:flex;\n",
              "      gap: 12px;\n",
              "    }\n",
              "\n",
              "    .colab-df-convert {\n",
              "      background-color: #E8F0FE;\n",
              "      border: none;\n",
              "      border-radius: 50%;\n",
              "      cursor: pointer;\n",
              "      display: none;\n",
              "      fill: #1967D2;\n",
              "      height: 32px;\n",
              "      padding: 0 0 0 0;\n",
              "      width: 32px;\n",
              "    }\n",
              "\n",
              "    .colab-df-convert:hover {\n",
              "      background-color: #E2EBFA;\n",
              "      box-shadow: 0px 1px 2px rgba(60, 64, 67, 0.3), 0px 1px 3px 1px rgba(60, 64, 67, 0.15);\n",
              "      fill: #174EA6;\n",
              "    }\n",
              "\n",
              "    .colab-df-buttons div {\n",
              "      margin-bottom: 4px;\n",
              "    }\n",
              "\n",
              "    [theme=dark] .colab-df-convert {\n",
              "      background-color: #3B4455;\n",
              "      fill: #D2E3FC;\n",
              "    }\n",
              "\n",
              "    [theme=dark] .colab-df-convert:hover {\n",
              "      background-color: #434B5C;\n",
              "      box-shadow: 0px 1px 3px 1px rgba(0, 0, 0, 0.15);\n",
              "      filter: drop-shadow(0px 1px 2px rgba(0, 0, 0, 0.3));\n",
              "      fill: #FFFFFF;\n",
              "    }\n",
              "  </style>\n",
              "\n",
              "    <script>\n",
              "      const buttonEl =\n",
              "        document.querySelector('#df-94ff8d8b-3aac-408a-8c17-cda507c2d1ae button.colab-df-convert');\n",
              "      buttonEl.style.display =\n",
              "        google.colab.kernel.accessAllowed ? 'block' : 'none';\n",
              "\n",
              "      async function convertToInteractive(key) {\n",
              "        const element = document.querySelector('#df-94ff8d8b-3aac-408a-8c17-cda507c2d1ae');\n",
              "        const dataTable =\n",
              "          await google.colab.kernel.invokeFunction('convertToInteractive',\n",
              "                                                    [key], {});\n",
              "        if (!dataTable) return;\n",
              "\n",
              "        const docLinkHtml = 'Like what you see? Visit the ' +\n",
              "          '<a target=\"_blank\" href=https://colab.research.google.com/notebooks/data_table.ipynb>data table notebook</a>'\n",
              "          + ' to learn more about interactive tables.';\n",
              "        element.innerHTML = '';\n",
              "        dataTable['output_type'] = 'display_data';\n",
              "        await google.colab.output.renderOutput(dataTable, element);\n",
              "        const docLink = document.createElement('div');\n",
              "        docLink.innerHTML = docLinkHtml;\n",
              "        element.appendChild(docLink);\n",
              "      }\n",
              "    </script>\n",
              "  </div>\n",
              "\n",
              "\n",
              "<div id=\"df-ba2d0347-bad2-4b0c-b5b0-f54634ae11a2\">\n",
              "  <button class=\"colab-df-quickchart\" onclick=\"quickchart('df-ba2d0347-bad2-4b0c-b5b0-f54634ae11a2')\"\n",
              "            title=\"Suggest charts\"\n",
              "            style=\"display:none;\">\n",
              "\n",
              "<svg xmlns=\"http://www.w3.org/2000/svg\" height=\"24px\"viewBox=\"0 0 24 24\"\n",
              "     width=\"24px\">\n",
              "    <g>\n",
              "        <path d=\"M19 3H5c-1.1 0-2 .9-2 2v14c0 1.1.9 2 2 2h14c1.1 0 2-.9 2-2V5c0-1.1-.9-2-2-2zM9 17H7v-7h2v7zm4 0h-2V7h2v10zm4 0h-2v-4h2v4z\"/>\n",
              "    </g>\n",
              "</svg>\n",
              "  </button>\n",
              "\n",
              "<style>\n",
              "  .colab-df-quickchart {\n",
              "      --bg-color: #E8F0FE;\n",
              "      --fill-color: #1967D2;\n",
              "      --hover-bg-color: #E2EBFA;\n",
              "      --hover-fill-color: #174EA6;\n",
              "      --disabled-fill-color: #AAA;\n",
              "      --disabled-bg-color: #DDD;\n",
              "  }\n",
              "\n",
              "  [theme=dark] .colab-df-quickchart {\n",
              "      --bg-color: #3B4455;\n",
              "      --fill-color: #D2E3FC;\n",
              "      --hover-bg-color: #434B5C;\n",
              "      --hover-fill-color: #FFFFFF;\n",
              "      --disabled-bg-color: #3B4455;\n",
              "      --disabled-fill-color: #666;\n",
              "  }\n",
              "\n",
              "  .colab-df-quickchart {\n",
              "    background-color: var(--bg-color);\n",
              "    border: none;\n",
              "    border-radius: 50%;\n",
              "    cursor: pointer;\n",
              "    display: none;\n",
              "    fill: var(--fill-color);\n",
              "    height: 32px;\n",
              "    padding: 0;\n",
              "    width: 32px;\n",
              "  }\n",
              "\n",
              "  .colab-df-quickchart:hover {\n",
              "    background-color: var(--hover-bg-color);\n",
              "    box-shadow: 0 1px 2px rgba(60, 64, 67, 0.3), 0 1px 3px 1px rgba(60, 64, 67, 0.15);\n",
              "    fill: var(--button-hover-fill-color);\n",
              "  }\n",
              "\n",
              "  .colab-df-quickchart-complete:disabled,\n",
              "  .colab-df-quickchart-complete:disabled:hover {\n",
              "    background-color: var(--disabled-bg-color);\n",
              "    fill: var(--disabled-fill-color);\n",
              "    box-shadow: none;\n",
              "  }\n",
              "\n",
              "  .colab-df-spinner {\n",
              "    border: 2px solid var(--fill-color);\n",
              "    border-color: transparent;\n",
              "    border-bottom-color: var(--fill-color);\n",
              "    animation:\n",
              "      spin 1s steps(1) infinite;\n",
              "  }\n",
              "\n",
              "  @keyframes spin {\n",
              "    0% {\n",
              "      border-color: transparent;\n",
              "      border-bottom-color: var(--fill-color);\n",
              "      border-left-color: var(--fill-color);\n",
              "    }\n",
              "    20% {\n",
              "      border-color: transparent;\n",
              "      border-left-color: var(--fill-color);\n",
              "      border-top-color: var(--fill-color);\n",
              "    }\n",
              "    30% {\n",
              "      border-color: transparent;\n",
              "      border-left-color: var(--fill-color);\n",
              "      border-top-color: var(--fill-color);\n",
              "      border-right-color: var(--fill-color);\n",
              "    }\n",
              "    40% {\n",
              "      border-color: transparent;\n",
              "      border-right-color: var(--fill-color);\n",
              "      border-top-color: var(--fill-color);\n",
              "    }\n",
              "    60% {\n",
              "      border-color: transparent;\n",
              "      border-right-color: var(--fill-color);\n",
              "    }\n",
              "    80% {\n",
              "      border-color: transparent;\n",
              "      border-right-color: var(--fill-color);\n",
              "      border-bottom-color: var(--fill-color);\n",
              "    }\n",
              "    90% {\n",
              "      border-color: transparent;\n",
              "      border-bottom-color: var(--fill-color);\n",
              "    }\n",
              "  }\n",
              "</style>\n",
              "\n",
              "  <script>\n",
              "    async function quickchart(key) {\n",
              "      const quickchartButtonEl =\n",
              "        document.querySelector('#' + key + ' button');\n",
              "      quickchartButtonEl.disabled = true;  // To prevent multiple clicks.\n",
              "      quickchartButtonEl.classList.add('colab-df-spinner');\n",
              "      try {\n",
              "        const charts = await google.colab.kernel.invokeFunction(\n",
              "            'suggestCharts', [key], {});\n",
              "      } catch (error) {\n",
              "        console.error('Error during call to suggestCharts:', error);\n",
              "      }\n",
              "      quickchartButtonEl.classList.remove('colab-df-spinner');\n",
              "      quickchartButtonEl.classList.add('colab-df-quickchart-complete');\n",
              "    }\n",
              "    (() => {\n",
              "      let quickchartButtonEl =\n",
              "        document.querySelector('#df-ba2d0347-bad2-4b0c-b5b0-f54634ae11a2 button');\n",
              "      quickchartButtonEl.style.display =\n",
              "        google.colab.kernel.accessAllowed ? 'block' : 'none';\n",
              "    })();\n",
              "  </script>\n",
              "</div>\n",
              "    </div>\n",
              "  </div>\n"
            ]
          },
          "metadata": {},
          "execution_count": 10
        }
      ]
    },
    {
      "cell_type": "markdown",
      "source": [
        "**Objective:**\n",
        "- Come up with insights based on this data.\n",
        "- Find relations between different variables."
      ],
      "metadata": {
        "id": "SzT5CptvobMi"
      }
    },
    {
      "cell_type": "markdown",
      "source": [
        "> <font color='purple'>**Did you notice?**</font>\n",
        "\n",
        "In all the examples we've solved while performing the T-test, we've done a **numeric variable vs. a categorical variable (having 2 categories only).**\n",
        "\n",
        "For e.g.,:\n",
        " - Runs (num.) for 1st and 2nd innings (cat.)\n",
        " - Runs (num.) for when the match is won/lost (cat.)\n",
        " - Recovery time (num.) of Drug 1 vs Drug 2 (cat.)\n",
        "\n",
        "T-test can only be used in this situation only, i.e. when analysing between one numerical and one categorical (having 2 categories) features.\n",
        "\n"
      ],
      "metadata": {
        "id": "mkeKdfyiuh0_"
      }
    },
    {
      "cell_type": "markdown",
      "source": [
        "So, in the Aerofit data, such scenarios can be compared using T-test.\n",
        "\n",
        "For e.g.,:\n",
        "- Income vs Gender\n",
        " - To analyze the difference in average salaries of men and women"
      ],
      "metadata": {
        "id": "fjj_kF-Rv2uY"
      }
    },
    {
      "cell_type": "markdown",
      "source": [
        "#### <font color='purple'>Gender vs Income</font>\n",
        "\n",
        "Let's visualize using boxplot"
      ],
      "metadata": {
        "id": "XqijJggiwhrr"
      }
    },
    {
      "cell_type": "code",
      "source": [
        "sns.boxplot(x='Gender', y='Income', data=df)"
      ],
      "metadata": {
        "colab": {
          "base_uri": "https://localhost:8080/",
          "height": 467
        },
        "id": "5B2lb4EgwqKa",
        "outputId": "740ed3db-d9af-430b-d1e2-fea6cf79ed64"
      },
      "execution_count": null,
      "outputs": [
        {
          "output_type": "execute_result",
          "data": {
            "text/plain": [
              "<Axes: xlabel='Gender', ylabel='Income'>"
            ]
          },
          "metadata": {},
          "execution_count": 75
        },
        {
          "output_type": "display_data",
          "data": {
            "text/plain": [
              "<Figure size 640x480 with 1 Axes>"
            ],
            "image/png": "[encoded data removed]"
          },
          "metadata": {}
        }
      ]
    },
    {
      "cell_type": "markdown",
      "source": [
        "From this plot, it seems that the salaries of men are more than that of women on average.\n",
        "\n",
        "Let's test the same using the T-test.\n",
        "\n",
        "> <font color='purple'>**Null and Alternate hypothesis**</font>\n",
        "\n",
        "If $μ_1$ is average income of men, and $μ_2$ is of women,\n",
        "\n",
        "- $H_0: μ_1 = μ_2$\n",
        "- $H_a: μ_1 > μ_2$"
      ],
      "metadata": {
        "id": "P39ALhdQxDc8"
      }
    },
    {
      "cell_type": "code",
      "source": [
        "income_male = df[df['Gender'] == 'Male']['Income']\n",
        "income_female = df[df['Gender'] == 'Female']['Income']"
      ],
      "metadata": {
        "id": "5eoiAxytxgQF"
      },
      "execution_count": null,
      "outputs": []
    },
    {
      "cell_type": "code",
      "source": [
        "income_male.mean()"
      ],
      "metadata": {
        "colab": {
          "base_uri": "https://localhost:8080/"
        },
        "id": "lqah1_HS55FI",
        "outputId": "c644fcbf-03a7-4bb2-84e0-ffb1e08cec43"
      },
      "execution_count": null,
      "outputs": [
        {
          "output_type": "execute_result",
          "data": {
            "text/plain": [
              "56562.75961538462"
            ]
          },
          "metadata": {},
          "execution_count": 85
        }
      ]
    },
    {
      "cell_type": "code",
      "source": [
        "income_female.mean()"
      ],
      "metadata": {
        "colab": {
          "base_uri": "https://localhost:8080/"
        },
        "id": "9q0bggUY57WP",
        "outputId": "6fe3ee5b-80f2-4e17-9863-b7f1063164fd"
      },
      "execution_count": null,
      "outputs": [
        {
          "output_type": "execute_result",
          "data": {
            "text/plain": [
              "49828.90789473684"
            ]
          },
          "metadata": {},
          "execution_count": 86
        }
      ]
    },
    {
      "cell_type": "markdown",
      "source": [
        "<font color='purple'>Performing T-test</font>"
      ],
      "metadata": {
        "id": "rsHKiGdI6Frw"
      }
    },
    {
      "cell_type": "code",
      "source": [
        "t_stat, pvalue = ttest_ind(income_male, income_female, alternative=\"greater\")\n",
        "pvalue"
      ],
      "metadata": {
        "colab": {
          "base_uri": "https://localhost:8080/"
        },
        "id": "mvbM78oD6G_4",
        "outputId": "2669abda-5cd5-4ef8-d170-2c579446bf94"
      },
      "execution_count": null,
      "outputs": [
        {
          "output_type": "execute_result",
          "data": {
            "text/plain": [
              "0.003263631548607129"
            ]
          },
          "metadata": {},
          "execution_count": 87
        }
      ]
    },
    {
      "cell_type": "code",
      "source": [
        "alpha = 0.05 # 95% confidence\n",
        "\n",
        "if pvalue < alpha:\n",
        "  print('Reject H0')\n",
        "  print('Men earn more than females.')\n",
        "else:\n",
        "  print ('Fail to Reject H0')"
      ],
      "metadata": {
        "colab": {
          "base_uri": "https://localhost:8080/"
        },
        "id": "pqHpoiwP6RaK",
        "outputId": "f78c7269-dbee-41dc-a2cc-e3932be9405e"
      },
      "execution_count": null,
      "outputs": [
        {
          "output_type": "stream",
          "name": "stdout",
          "text": [
            "Reject H0\n",
            "Men earn more than females.\n"
          ]
        }
      ]
    },
    {
      "cell_type": "markdown",
      "source": [
        "---\n",
        "\n",
        "<font color='purple'>**Note about T-test:**</font>\n",
        "\n",
        "- If sample size $n > 30$, then the sample standard deviation will be very close to the value of standard error, i.e. $\\frac{x - μ}{\\frac{s}{\\sqrt{n}}} \\approx \\frac{x - μ}{\\frac{σ}{\\sqrt{n}}}$\n",
        " - i.e. T-test and Z-test become essentially the same.\n",
        "- If the number of samples is low, you go for a T-test\n",
        "- If it is high, you can use either T test or Z test\n",
        "- That's why, **`scipy` does not even have an implementation for Z-test.**"
      ],
      "metadata": {
        "id": "apT1xlcv8yZV"
      }
    },
    {
      "cell_type": "markdown",
      "source": [
        "---\n"
      ],
      "metadata": {
        "id": "Oyhn_oW56opu"
      }
    },
    {
      "cell_type": "markdown",
      "source": [
        "## <font color='blue'>Paired T-test</font>"
      ],
      "metadata": {
        "id": "v4fJqtQyVROy"
      }
    },
    {
      "cell_type": "markdown",
      "source": [
        "<font color='purple'>**Recap Independent t-test**</font>\n",
        "\n",
        "In the independent t-test, the comparison was between two separate and independent samples.\n",
        "\n",
        "In this test, there are two sets of data, each representing a different group.\n",
        "\n",
        "For example, it could be\n",
        "- Two groups of individuals undergoing different treatments,\n",
        "- Two employee groups with varying salaries, or\n",
        "- Two groups of students with different IQ scores.\n",
        "\n",
        "<br>\n",
        "\n",
        "The t-test assesses whether the means of these two groups are significantly different from each other.\n",
        "\n",
        "- In essence, the independent t-test helps you determine if the observed differences between the means of the two groups are likely due to actual differences in the populations they represent or if they could have occurred by chance."
      ],
      "metadata": {
        "id": "QnCFqjQVGjPc"
      }
    },
    {
      "cell_type": "markdown",
      "source": [
        "<font color='purple'>**Paired T-test setup:**</font>\n",
        "\n",
        "- A paired t-test is used when you have a situation where two sets of data points are not independent of each other, but rather they're **related in pairs.**\n",
        "\n",
        "- This typically occurs when you're studying the impact of a treatment, intervention, or change within the same subjects over time or in some paired way.\n",
        "\n",
        "- In your case, you're comparing \"Before\" and \"After\" measurements on an individual basis. For each person, you have two measurements:\n",
        "\n",
        "  - **Person 1: Before and After**\n",
        "  - **Person 2: Before and After**\n",
        "\n",
        "- This setup allows you to directly analyze the difference between the paired measurements for each person, such as the change from \"Before\" to \"After\" for Person 1, and the change for Person 2, and so on.\n",
        "\n",
        "- The paired t-test takes into account the paired nature of the data.\n",
        "\n",
        "- It calculates the mean difference of the paired measurements and then assesses whether this mean difference is statistically significant from zero.\n",
        "\n",
        "- This helps determine if there's a significant change between the \"Before\" and \"After\" measurements within each pair."
      ],
      "metadata": {
        "id": "wIPxzPS9GvdR"
      }
    },
    {
      "cell_type": "markdown",
      "source": [
        "In contrast to the **Independent T-test** (one and two sample), that we saw, this is known as **Dependent T-test**"
      ],
      "metadata": {
        "id": "evrlsfw1MaxR"
      }
    },
    {
      "cell_type": "markdown",
      "source": [
        "Let's solve an example"
      ],
      "metadata": {
        "id": "0NO5x_ssDQny"
      }
    },
    {
      "cell_type": "markdown",
      "source": [
        "<font color='purple'>Will problem-solving sessions help students?</font>\n",
        "\n",
        "Test 1: Before the session\n",
        "\n",
        "Test 2: After the session"
      ],
      "metadata": {
        "id": "2BqvMsgVHSnZ"
      }
    },
    {
      "cell_type": "code",
      "source": [
        "from scipy.stats import ttest_rel\n",
        "import pandas as pd"
      ],
      "metadata": {
        "id": "JhzBZEgmHwMe"
      },
      "execution_count": null,
      "outputs": []
    },
    {
      "cell_type": "code",
      "source": [
        "!wget --no-check-certificate https://drive.google.com/uc?id=1PZ1cC8nBZEtvnOYjfrg4xyErI-5i_-ae -O problem_solving.csv"
      ],
      "metadata": {
        "colab": {
          "base_uri": "https://localhost:8080/"
        },
        "id": "iOLdgYgBTYx5",
        "outputId": "f340fa14-343b-492a-ee02-e5614c629ee3"
      },
      "execution_count": null,
      "outputs": [
        {
          "output_type": "stream",
          "name": "stdout",
          "text": [
            "--2024-01-18 09:28:05--  https://drive.google.com/uc?id=1PZ1cC8nBZEtvnOYjfrg4xyErI-5i_-ae\n",
            "Resolving drive.google.com (drive.google.com)... 142.251.2.102, 142.251.2.139, 142.251.2.100, ...\n",
            "Connecting to drive.google.com (drive.google.com)|142.251.2.102|:443... connected.\n",
            "HTTP request sent, awaiting response... 303 See Other\n",
            "Location: https://drive.usercontent.google.com/download?id=1PZ1cC8nBZEtvnOYjfrg4xyErI-5i_-ae [following]\n",
            "--2024-01-18 09:28:05--  https://drive.usercontent.google.com/download?id=1PZ1cC8nBZEtvnOYjfrg4xyErI-5i_-ae\n",
            "Resolving drive.usercontent.google.com (drive.usercontent.google.com)... 142.250.141.132, 2607:f8b0:4023:c0b::84\n",
            "Connecting to drive.usercontent.google.com (drive.usercontent.google.com)|142.250.141.132|:443... connected.\n",
            "HTTP request sent, awaiting response... 200 OK\n",
            "Length: 1277 (1.2K) [application/octet-stream]\n",
            "Saving to: ‘problem_solving.csv’\n",
            "\n",
            "problem_solving.csv 100%[===================>]   1.25K  --.-KB/s    in 0s      \n",
            "\n",
            "2024-01-18 09:28:05 (52.4 MB/s) - ‘problem_solving.csv’ saved [1277/1277]\n",
            "\n"
          ]
        }
      ]
    },
    {
      "cell_type": "code",
      "source": [
        "Path= '/content/problem_solving.csv'\n",
        "df_ps = pd.read_csv(Path)"
      ],
      "metadata": {
        "id": "oxTLrUlXEYFY"
      },
      "execution_count": null,
      "outputs": []
    },
    {
      "cell_type": "code",
      "source": [
        "len(df_ps)"
      ],
      "metadata": {
        "colab": {
          "base_uri": "https://localhost:8080/"
        },
        "id": "Xmfsf2gYHhpR",
        "outputId": "ef3afdc5-39da-41dd-9844-4a4a057e53dd"
      },
      "execution_count": null,
      "outputs": [
        {
          "output_type": "execute_result",
          "data": {
            "text/plain": [
              "137"
            ]
          },
          "metadata": {},
          "execution_count": 13
        }
      ]
    },
    {
      "cell_type": "code",
      "source": [
        "df_ps.head()"
      ],
      "metadata": {
        "colab": {
          "base_uri": "https://localhost:8080/",
          "height": 206
        },
        "id": "a5ND96niHkKY",
        "outputId": "01ad97b3-2b6b-4809-845d-042b0910576f"
      },
      "execution_count": null,
      "outputs": [
        {
          "output_type": "execute_result",
          "data": {
            "text/plain": [
              "   id  test_1  test_2\n",
              "0   0      40      38\n",
              "1   1      49      44\n",
              "2   2      65      69\n",
              "3   3      59      63\n",
              "4   4      44      43"
            ],
            "text/html": [
              "\n",
              "  <div id=\"df-fbf27d2e-420c-4818-8b6e-1113ae1f3e62\" class=\"colab-df-container\">\n",
              "    <div>\n",
              "<style scoped>\n",
              "    .dataframe tbody tr th:only-of-type {\n",
              "        vertical-align: middle;\n",
              "    }\n",
              "\n",
              "    .dataframe tbody tr th {\n",
              "        vertical-align: top;\n",
              "    }\n",
              "\n",
              "    .dataframe thead th {\n",
              "        text-align: right;\n",
              "    }\n",
              "</style>\n",
              "<table border=\"1\" class=\"dataframe\">\n",
              "  <thead>\n",
              "    <tr style=\"text-align: right;\">\n",
              "      <th></th>\n",
              "      <th>id</th>\n",
              "      <th>test_1</th>\n",
              "      <th>test_2</th>\n",
              "    </tr>\n",
              "  </thead>\n",
              "  <tbody>\n",
              "    <tr>\n",
              "      <th>0</th>\n",
              "      <td>0</td>\n",
              "      <td>40</td>\n",
              "      <td>38</td>\n",
              "    </tr>\n",
              "    <tr>\n",
              "      <th>1</th>\n",
              "      <td>1</td>\n",
              "      <td>49</td>\n",
              "      <td>44</td>\n",
              "    </tr>\n",
              "    <tr>\n",
              "      <th>2</th>\n",
              "      <td>2</td>\n",
              "      <td>65</td>\n",
              "      <td>69</td>\n",
              "    </tr>\n",
              "    <tr>\n",
              "      <th>3</th>\n",
              "      <td>3</td>\n",
              "      <td>59</td>\n",
              "      <td>63</td>\n",
              "    </tr>\n",
              "    <tr>\n",
              "      <th>4</th>\n",
              "      <td>4</td>\n",
              "      <td>44</td>\n",
              "      <td>43</td>\n",
              "    </tr>\n",
              "  </tbody>\n",
              "</table>\n",
              "</div>\n",
              "    <div class=\"colab-df-buttons\">\n",
              "\n",
              "  <div class=\"colab-df-container\">\n",
              "    <button class=\"colab-df-convert\" onclick=\"convertToInteractive('df-fbf27d2e-420c-4818-8b6e-1113ae1f3e62')\"\n",
              "            title=\"Convert this dataframe to an interactive table.\"\n",
              "            style=\"display:none;\">\n",
              "\n",
              "  <svg xmlns=\"http://www.w3.org/2000/svg\" height=\"24px\" viewBox=\"0 -960 960 960\">\n",
              "    <path d=\"M120-120v-720h720v720H120Zm60-500h600v-160H180v160Zm220 220h160v-160H400v160Zm0 220h160v-160H400v160ZM180-400h160v-160H180v160Zm440 0h160v-160H620v160ZM180-180h160v-160H180v160Zm440 0h160v-160H620v160Z\"/>\n",
              "  </svg>\n",
              "    </button>\n",
              "\n",
              "  <style>\n",
              "    .colab-df-container {\n",
              "      display:flex;\n",
              "      gap: 12px;\n",
              "    }\n",
              "\n",
              "    .colab-df-convert {\n",
              "      background-color: #E8F0FE;\n",
              "      border: none;\n",
              "      border-radius: 50%;\n",
              "      cursor: pointer;\n",
              "      display: none;\n",
              "      fill: #1967D2;\n",
              "      height: 32px;\n",
              "      padding: 0 0 0 0;\n",
              "      width: 32px;\n",
              "    }\n",
              "\n",
              "    .colab-df-convert:hover {\n",
              "      background-color: #E2EBFA;\n",
              "      box-shadow: 0px 1px 2px rgba(60, 64, 67, 0.3), 0px 1px 3px 1px rgba(60, 64, 67, 0.15);\n",
              "      fill: #174EA6;\n",
              "    }\n",
              "\n",
              "    .colab-df-buttons div {\n",
              "      margin-bottom: 4px;\n",
              "    }\n",
              "\n",
              "    [theme=dark] .colab-df-convert {\n",
              "      background-color: #3B4455;\n",
              "      fill: #D2E3FC;\n",
              "    }\n",
              "\n",
              "    [theme=dark] .colab-df-convert:hover {\n",
              "      background-color: #434B5C;\n",
              "      box-shadow: 0px 1px 3px 1px rgba(0, 0, 0, 0.15);\n",
              "      filter: drop-shadow(0px 1px 2px rgba(0, 0, 0, 0.3));\n",
              "      fill: #FFFFFF;\n",
              "    }\n",
              "  </style>\n",
              "\n",
              "    <script>\n",
              "      const buttonEl =\n",
              "        document.querySelector('#df-fbf27d2e-420c-4818-8b6e-1113ae1f3e62 button.colab-df-convert');\n",
              "      buttonEl.style.display =\n",
              "        google.colab.kernel.accessAllowed ? 'block' : 'none';\n",
              "\n",
              "      async function convertToInteractive(key) {\n",
              "        const element = document.querySelector('#df-fbf27d2e-420c-4818-8b6e-1113ae1f3e62');\n",
              "        const dataTable =\n",
              "          await google.colab.kernel.invokeFunction('convertToInteractive',\n",
              "                                                    [key], {});\n",
              "        if (!dataTable) return;\n",
              "\n",
              "        const docLinkHtml = 'Like what you see? Visit the ' +\n",
              "          '<a target=\"_blank\" href=https://colab.research.google.com/notebooks/data_table.ipynb>data table notebook</a>'\n",
              "          + ' to learn more about interactive tables.';\n",
              "        element.innerHTML = '';\n",
              "        dataTable['output_type'] = 'display_data';\n",
              "        await google.colab.output.renderOutput(dataTable, element);\n",
              "        const docLink = document.createElement('div');\n",
              "        docLink.innerHTML = docLinkHtml;\n",
              "        element.appendChild(docLink);\n",
              "      }\n",
              "    </script>\n",
              "  </div>\n",
              "\n",
              "\n",
              "<div id=\"df-4525472a-9e91-4a4c-9b02-60917fb2900c\">\n",
              "  <button class=\"colab-df-quickchart\" onclick=\"quickchart('df-4525472a-9e91-4a4c-9b02-60917fb2900c')\"\n",
              "            title=\"Suggest charts\"\n",
              "            style=\"display:none;\">\n",
              "\n",
              "<svg xmlns=\"http://www.w3.org/2000/svg\" height=\"24px\"viewBox=\"0 0 24 24\"\n",
              "     width=\"24px\">\n",
              "    <g>\n",
              "        <path d=\"M19 3H5c-1.1 0-2 .9-2 2v14c0 1.1.9 2 2 2h14c1.1 0 2-.9 2-2V5c0-1.1-.9-2-2-2zM9 17H7v-7h2v7zm4 0h-2V7h2v10zm4 0h-2v-4h2v4z\"/>\n",
              "    </g>\n",
              "</svg>\n",
              "  </button>\n",
              "\n",
              "<style>\n",
              "  .colab-df-quickchart {\n",
              "      --bg-color: #E8F0FE;\n",
              "      --fill-color: #1967D2;\n",
              "      --hover-bg-color: #E2EBFA;\n",
              "      --hover-fill-color: #174EA6;\n",
              "      --disabled-fill-color: #AAA;\n",
              "      --disabled-bg-color: #DDD;\n",
              "  }\n",
              "\n",
              "  [theme=dark] .colab-df-quickchart {\n",
              "      --bg-color: #3B4455;\n",
              "      --fill-color: #D2E3FC;\n",
              "      --hover-bg-color: #434B5C;\n",
              "      --hover-fill-color: #FFFFFF;\n",
              "      --disabled-bg-color: #3B4455;\n",
              "      --disabled-fill-color: #666;\n",
              "  }\n",
              "\n",
              "  .colab-df-quickchart {\n",
              "    background-color: var(--bg-color);\n",
              "    border: none;\n",
              "    border-radius: 50%;\n",
              "    cursor: pointer;\n",
              "    display: none;\n",
              "    fill: var(--fill-color);\n",
              "    height: 32px;\n",
              "    padding: 0;\n",
              "    width: 32px;\n",
              "  }\n",
              "\n",
              "  .colab-df-quickchart:hover {\n",
              "    background-color: var(--hover-bg-color);\n",
              "    box-shadow: 0 1px 2px rgba(60, 64, 67, 0.3), 0 1px 3px 1px rgba(60, 64, 67, 0.15);\n",
              "    fill: var(--button-hover-fill-color);\n",
              "  }\n",
              "\n",
              "  .colab-df-quickchart-complete:disabled,\n",
              "  .colab-df-quickchart-complete:disabled:hover {\n",
              "    background-color: var(--disabled-bg-color);\n",
              "    fill: var(--disabled-fill-color);\n",
              "    box-shadow: none;\n",
              "  }\n",
              "\n",
              "  .colab-df-spinner {\n",
              "    border: 2px solid var(--fill-color);\n",
              "    border-color: transparent;\n",
              "    border-bottom-color: var(--fill-color);\n",
              "    animation:\n",
              "      spin 1s steps(1) infinite;\n",
              "  }\n",
              "\n",
              "  @keyframes spin {\n",
              "    0% {\n",
              "      border-color: transparent;\n",
              "      border-bottom-color: var(--fill-color);\n",
              "      border-left-color: var(--fill-color);\n",
              "    }\n",
              "    20% {\n",
              "      border-color: transparent;\n",
              "      border-left-color: var(--fill-color);\n",
              "      border-top-color: var(--fill-color);\n",
              "    }\n",
              "    30% {\n",
              "      border-color: transparent;\n",
              "      border-left-color: var(--fill-color);\n",
              "      border-top-color: var(--fill-color);\n",
              "      border-right-color: var(--fill-color);\n",
              "    }\n",
              "    40% {\n",
              "      border-color: transparent;\n",
              "      border-right-color: var(--fill-color);\n",
              "      border-top-color: var(--fill-color);\n",
              "    }\n",
              "    60% {\n",
              "      border-color: transparent;\n",
              "      border-right-color: var(--fill-color);\n",
              "    }\n",
              "    80% {\n",
              "      border-color: transparent;\n",
              "      border-right-color: var(--fill-color);\n",
              "      border-bottom-color: var(--fill-color);\n",
              "    }\n",
              "    90% {\n",
              "      border-color: transparent;\n",
              "      border-bottom-color: var(--fill-color);\n",
              "    }\n",
              "  }\n",
              "</style>\n",
              "\n",
              "  <script>\n",
              "    async function quickchart(key) {\n",
              "      const quickchartButtonEl =\n",
              "        document.querySelector('#' + key + ' button');\n",
              "      quickchartButtonEl.disabled = true;  // To prevent multiple clicks.\n",
              "      quickchartButtonEl.classList.add('colab-df-spinner');\n",
              "      try {\n",
              "        const charts = await google.colab.kernel.invokeFunction(\n",
              "            'suggestCharts', [key], {});\n",
              "      } catch (error) {\n",
              "        console.error('Error during call to suggestCharts:', error);\n",
              "      }\n",
              "      quickchartButtonEl.classList.remove('colab-df-spinner');\n",
              "      quickchartButtonEl.classList.add('colab-df-quickchart-complete');\n",
              "    }\n",
              "    (() => {\n",
              "      let quickchartButtonEl =\n",
              "        document.querySelector('#df-4525472a-9e91-4a4c-9b02-60917fb2900c button');\n",
              "      quickchartButtonEl.style.display =\n",
              "        google.colab.kernel.accessAllowed ? 'block' : 'none';\n",
              "    })();\n",
              "  </script>\n",
              "</div>\n",
              "    </div>\n",
              "  </div>\n"
            ]
          },
          "metadata": {},
          "execution_count": 14
        }
      ]
    },
    {
      "cell_type": "code",
      "source": [
        "df_ps.describe()"
      ],
      "metadata": {
        "colab": {
          "base_uri": "https://localhost:8080/",
          "height": 300
        },
        "id": "vJXmD7e3HmGJ",
        "outputId": "1120df45-5773-4c12-da87-b8219f28bfcc"
      },
      "execution_count": null,
      "outputs": [
        {
          "output_type": "execute_result",
          "data": {
            "text/plain": [
              "               id      test_1      test_2\n",
              "count  137.000000  137.000000  137.000000\n",
              "mean    68.000000   60.489051   62.430657\n",
              "std     39.692569   17.080311   17.516293\n",
              "min      0.000000   30.000000   27.000000\n",
              "25%     34.000000   46.000000   48.000000\n",
              "50%     68.000000   59.000000   62.000000\n",
              "75%    102.000000   75.000000   77.000000\n",
              "max    136.000000   89.000000   96.000000"
            ],
            "text/html": [
              "\n",
              "  <div id=\"df-89ba698c-378a-41ee-97f2-4f6db9002aca\" class=\"colab-df-container\">\n",
              "    <div>\n",
              "<style scoped>\n",
              "    .dataframe tbody tr th:only-of-type {\n",
              "        vertical-align: middle;\n",
              "    }\n",
              "\n",
              "    .dataframe tbody tr th {\n",
              "        vertical-align: top;\n",
              "    }\n",
              "\n",
              "    .dataframe thead th {\n",
              "        text-align: right;\n",
              "    }\n",
              "</style>\n",
              "<table border=\"1\" class=\"dataframe\">\n",
              "  <thead>\n",
              "    <tr style=\"text-align: right;\">\n",
              "      <th></th>\n",
              "      <th>id</th>\n",
              "      <th>test_1</th>\n",
              "      <th>test_2</th>\n",
              "    </tr>\n",
              "  </thead>\n",
              "  <tbody>\n",
              "    <tr>\n",
              "      <th>count</th>\n",
              "      <td>137.000000</td>\n",
              "      <td>137.000000</td>\n",
              "      <td>137.000000</td>\n",
              "    </tr>\n",
              "    <tr>\n",
              "      <th>mean</th>\n",
              "      <td>68.000000</td>\n",
              "      <td>60.489051</td>\n",
              "      <td>62.430657</td>\n",
              "    </tr>\n",
              "    <tr>\n",
              "      <th>std</th>\n",
              "      <td>39.692569</td>\n",
              "      <td>17.080311</td>\n",
              "      <td>17.516293</td>\n",
              "    </tr>\n",
              "    <tr>\n",
              "      <th>min</th>\n",
              "      <td>0.000000</td>\n",
              "      <td>30.000000</td>\n",
              "      <td>27.000000</td>\n",
              "    </tr>\n",
              "    <tr>\n",
              "      <th>25%</th>\n",
              "      <td>34.000000</td>\n",
              "      <td>46.000000</td>\n",
              "      <td>48.000000</td>\n",
              "    </tr>\n",
              "    <tr>\n",
              "      <th>50%</th>\n",
              "      <td>68.000000</td>\n",
              "      <td>59.000000</td>\n",
              "      <td>62.000000</td>\n",
              "    </tr>\n",
              "    <tr>\n",
              "      <th>75%</th>\n",
              "      <td>102.000000</td>\n",
              "      <td>75.000000</td>\n",
              "      <td>77.000000</td>\n",
              "    </tr>\n",
              "    <tr>\n",
              "      <th>max</th>\n",
              "      <td>136.000000</td>\n",
              "      <td>89.000000</td>\n",
              "      <td>96.000000</td>\n",
              "    </tr>\n",
              "  </tbody>\n",
              "</table>\n",
              "</div>\n",
              "    <div class=\"colab-df-buttons\">\n",
              "\n",
              "  <div class=\"colab-df-container\">\n",
              "    <button class=\"colab-df-convert\" onclick=\"convertToInteractive('df-89ba698c-378a-41ee-97f2-4f6db9002aca')\"\n",
              "            title=\"Convert this dataframe to an interactive table.\"\n",
              "            style=\"display:none;\">\n",
              "\n",
              "  <svg xmlns=\"http://www.w3.org/2000/svg\" height=\"24px\" viewBox=\"0 -960 960 960\">\n",
              "    <path d=\"M120-120v-720h720v720H120Zm60-500h600v-160H180v160Zm220 220h160v-160H400v160Zm0 220h160v-160H400v160ZM180-400h160v-160H180v160Zm440 0h160v-160H620v160ZM180-180h160v-160H180v160Zm440 0h160v-160H620v160Z\"/>\n",
              "  </svg>\n",
              "    </button>\n",
              "\n",
              "  <style>\n",
              "    .colab-df-container {\n",
              "      display:flex;\n",
              "      gap: 12px;\n",
              "    }\n",
              "\n",
              "    .colab-df-convert {\n",
              "      background-color: #E8F0FE;\n",
              "      border: none;\n",
              "      border-radius: 50%;\n",
              "      cursor: pointer;\n",
              "      display: none;\n",
              "      fill: #1967D2;\n",
              "      height: 32px;\n",
              "      padding: 0 0 0 0;\n",
              "      width: 32px;\n",
              "    }\n",
              "\n",
              "    .colab-df-convert:hover {\n",
              "      background-color: #E2EBFA;\n",
              "      box-shadow: 0px 1px 2px rgba(60, 64, 67, 0.3), 0px 1px 3px 1px rgba(60, 64, 67, 0.15);\n",
              "      fill: #174EA6;\n",
              "    }\n",
              "\n",
              "    .colab-df-buttons div {\n",
              "      margin-bottom: 4px;\n",
              "    }\n",
              "\n",
              "    [theme=dark] .colab-df-convert {\n",
              "      background-color: #3B4455;\n",
              "      fill: #D2E3FC;\n",
              "    }\n",
              "\n",
              "    [theme=dark] .colab-df-convert:hover {\n",
              "      background-color: #434B5C;\n",
              "      box-shadow: 0px 1px 3px 1px rgba(0, 0, 0, 0.15);\n",
              "      filter: drop-shadow(0px 1px 2px rgba(0, 0, 0, 0.3));\n",
              "      fill: #FFFFFF;\n",
              "    }\n",
              "  </style>\n",
              "\n",
              "    <script>\n",
              "      const buttonEl =\n",
              "        document.querySelector('#df-89ba698c-378a-41ee-97f2-4f6db9002aca button.colab-df-convert');\n",
              "      buttonEl.style.display =\n",
              "        google.colab.kernel.accessAllowed ? 'block' : 'none';\n",
              "\n",
              "      async function convertToInteractive(key) {\n",
              "        const element = document.querySelector('#df-89ba698c-378a-41ee-97f2-4f6db9002aca');\n",
              "        const dataTable =\n",
              "          await google.colab.kernel.invokeFunction('convertToInteractive',\n",
              "                                                    [key], {});\n",
              "        if (!dataTable) return;\n",
              "\n",
              "        const docLinkHtml = 'Like what you see? Visit the ' +\n",
              "          '<a target=\"_blank\" href=https://colab.research.google.com/notebooks/data_table.ipynb>data table notebook</a>'\n",
              "          + ' to learn more about interactive tables.';\n",
              "        element.innerHTML = '';\n",
              "        dataTable['output_type'] = 'display_data';\n",
              "        await google.colab.output.renderOutput(dataTable, element);\n",
              "        const docLink = document.createElement('div');\n",
              "        docLink.innerHTML = docLinkHtml;\n",
              "        element.appendChild(docLink);\n",
              "      }\n",
              "    </script>\n",
              "  </div>\n",
              "\n",
              "\n",
              "<div id=\"df-a079d2a1-6f50-4d22-ab46-d53f8edf687b\">\n",
              "  <button class=\"colab-df-quickchart\" onclick=\"quickchart('df-a079d2a1-6f50-4d22-ab46-d53f8edf687b')\"\n",
              "            title=\"Suggest charts.\"\n",
              "            style=\"display:none;\">\n",
              "\n",
              "<svg xmlns=\"http://www.w3.org/2000/svg\" height=\"24px\"viewBox=\"0 0 24 24\"\n",
              "     width=\"24px\">\n",
              "    <g>\n",
              "        <path d=\"M19 3H5c-1.1 0-2 .9-2 2v14c0 1.1.9 2 2 2h14c1.1 0 2-.9 2-2V5c0-1.1-.9-2-2-2zM9 17H7v-7h2v7zm4 0h-2V7h2v10zm4 0h-2v-4h2v4z\"/>\n",
              "    </g>\n",
              "</svg>\n",
              "  </button>\n",
              "\n",
              "<style>\n",
              "  .colab-df-quickchart {\n",
              "      --bg-color: #E8F0FE;\n",
              "      --fill-color: #1967D2;\n",
              "      --hover-bg-color: #E2EBFA;\n",
              "      --hover-fill-color: #174EA6;\n",
              "      --disabled-fill-color: #AAA;\n",
              "      --disabled-bg-color: #DDD;\n",
              "  }\n",
              "\n",
              "  [theme=dark] .colab-df-quickchart {\n",
              "      --bg-color: #3B4455;\n",
              "      --fill-color: #D2E3FC;\n",
              "      --hover-bg-color: #434B5C;\n",
              "      --hover-fill-color: #FFFFFF;\n",
              "      --disabled-bg-color: #3B4455;\n",
              "      --disabled-fill-color: #666;\n",
              "  }\n",
              "\n",
              "  .colab-df-quickchart {\n",
              "    background-color: var(--bg-color);\n",
              "    border: none;\n",
              "    border-radius: 50%;\n",
              "    cursor: pointer;\n",
              "    display: none;\n",
              "    fill: var(--fill-color);\n",
              "    height: 32px;\n",
              "    padding: 0;\n",
              "    width: 32px;\n",
              "  }\n",
              "\n",
              "  .colab-df-quickchart:hover {\n",
              "    background-color: var(--hover-bg-color);\n",
              "    box-shadow: 0 1px 2px rgba(60, 64, 67, 0.3), 0 1px 3px 1px rgba(60, 64, 67, 0.15);\n",
              "    fill: var(--button-hover-fill-color);\n",
              "  }\n",
              "\n",
              "  .colab-df-quickchart-complete:disabled,\n",
              "  .colab-df-quickchart-complete:disabled:hover {\n",
              "    background-color: var(--disabled-bg-color);\n",
              "    fill: var(--disabled-fill-color);\n",
              "    box-shadow: none;\n",
              "  }\n",
              "\n",
              "  .colab-df-spinner {\n",
              "    border: 2px solid var(--fill-color);\n",
              "    border-color: transparent;\n",
              "    border-bottom-color: var(--fill-color);\n",
              "    animation:\n",
              "      spin 1s steps(1) infinite;\n",
              "  }\n",
              "\n",
              "  @keyframes spin {\n",
              "    0% {\n",
              "      border-color: transparent;\n",
              "      border-bottom-color: var(--fill-color);\n",
              "      border-left-color: var(--fill-color);\n",
              "    }\n",
              "    20% {\n",
              "      border-color: transparent;\n",
              "      border-left-color: var(--fill-color);\n",
              "      border-top-color: var(--fill-color);\n",
              "    }\n",
              "    30% {\n",
              "      border-color: transparent;\n",
              "      border-left-color: var(--fill-color);\n",
              "      border-top-color: var(--fill-color);\n",
              "      border-right-color: var(--fill-color);\n",
              "    }\n",
              "    40% {\n",
              "      border-color: transparent;\n",
              "      border-right-color: var(--fill-color);\n",
              "      border-top-color: var(--fill-color);\n",
              "    }\n",
              "    60% {\n",
              "      border-color: transparent;\n",
              "      border-right-color: var(--fill-color);\n",
              "    }\n",
              "    80% {\n",
              "      border-color: transparent;\n",
              "      border-right-color: var(--fill-color);\n",
              "      border-bottom-color: var(--fill-color);\n",
              "    }\n",
              "    90% {\n",
              "      border-color: transparent;\n",
              "      border-bottom-color: var(--fill-color);\n",
              "    }\n",
              "  }\n",
              "</style>\n",
              "\n",
              "  <script>\n",
              "    async function quickchart(key) {\n",
              "      const quickchartButtonEl =\n",
              "        document.querySelector('#' + key + ' button');\n",
              "      quickchartButtonEl.disabled = true;  // To prevent multiple clicks.\n",
              "      quickchartButtonEl.classList.add('colab-df-spinner');\n",
              "      try {\n",
              "        const charts = await google.colab.kernel.invokeFunction(\n",
              "            'suggestCharts', [key], {});\n",
              "      } catch (error) {\n",
              "        console.error('Error during call to suggestCharts:', error);\n",
              "      }\n",
              "      quickchartButtonEl.classList.remove('colab-df-spinner');\n",
              "      quickchartButtonEl.classList.add('colab-df-quickchart-complete');\n",
              "    }\n",
              "    (() => {\n",
              "      let quickchartButtonEl =\n",
              "        document.querySelector('#df-a079d2a1-6f50-4d22-ab46-d53f8edf687b button');\n",
              "      quickchartButtonEl.style.display =\n",
              "        google.colab.kernel.accessAllowed ? 'block' : 'none';\n",
              "    })();\n",
              "  </script>\n",
              "</div>\n",
              "    </div>\n",
              "  </div>\n"
            ]
          },
          "metadata": {},
          "execution_count": 11
        }
      ]
    },
    {
      "cell_type": "markdown",
      "source": [
        "> <font color='purple'>**Null and Alternate hypothesis**</font>\n",
        "\n",
        "- Null Hypothesis ($H_0$): Problem-solving has no effect on the test scores.\n",
        "  - In other words, the mean test scores before (test_1) and after (test_2) problem-solving are equal.\n",
        "\n",
        "- Alternative Hypothesis ($H_a$): Problem-solving had an effect on the test scores.\n",
        "  - This implies that the mean test scores before and after problem-solving are not equal."
      ],
      "metadata": {
        "id": "NDhVaZ3bD5O8"
      }
    },
    {
      "cell_type": "markdown",
      "source": [
        "### <font color='purple'>Option 1:</font> $H_a :\\mu_{before} \\neq \\mu_{after}$"
      ],
      "metadata": {
        "id": "JsVxMM9WEWTS"
      }
    },
    {
      "cell_type": "code",
      "source": [
        "# H0: Problem-solving has no effect\n",
        "# Ha: Problem-solving had an effect\n",
        "\n",
        "statistic, pvalue = ttest_rel(df_ps[\"test_1\"], df_ps[\"test_2\"])\n",
        "print(\"Test statistic:\",statistic)\n",
        "print(\"pvalue:\",pvalue)"
      ],
      "metadata": {
        "colab": {
          "base_uri": "https://localhost:8080/"
        },
        "id": "JiryJeOaHoZh",
        "outputId": "b503974d-9dc4-4d4b-f47f-1b482dec3b99"
      },
      "execution_count": null,
      "outputs": [
        {
          "output_type": "stream",
          "name": "stdout",
          "text": [
            "Test statistic: -5.502886353508166\n",
            "pvalue: 1.795840353792313e-07\n"
          ]
        }
      ]
    },
    {
      "cell_type": "code",
      "source": [
        "alpha = 0.05 # 95% confidence\n",
        "\n",
        "if pvalue < alpha:\n",
        "  print('Reject H0')\n",
        "else:\n",
        "  print ('Fail to Reject H0')"
      ],
      "metadata": {
        "colab": {
          "base_uri": "https://localhost:8080/"
        },
        "id": "xDAASZasFFkI",
        "outputId": "abb56007-a9b0-443e-c71a-2b52db74a779"
      },
      "execution_count": null,
      "outputs": [
        {
          "output_type": "stream",
          "name": "stdout",
          "text": [
            "Reject H0\n"
          ]
        }
      ]
    },
    {
      "cell_type": "markdown",
      "source": [
        "### <font color='purple'>Option 2:</font> $H_a: \\mu_{before} < \\mu_{after}$"
      ],
      "metadata": {
        "id": "2fEExevNEinX"
      }
    },
    {
      "cell_type": "code",
      "source": [
        "# H0: Problem solving has no effect\n",
        "# Ha: Problem solving improved the scores\n",
        "\n",
        "statistic, pvalue = ttest_rel(df_ps[\"test_1\"], df_ps[\"test_2\"],alternative=\"less\")\n",
        "print(\"Test statistic:\",statistic)\n",
        "print(\"pvalue:\",pvalue)"
      ],
      "metadata": {
        "colab": {
          "base_uri": "https://localhost:8080/"
        },
        "id": "kiCCOq7VHq57",
        "outputId": "53306037-39f9-4533-c1ad-9bc18743aac7"
      },
      "execution_count": null,
      "outputs": [
        {
          "output_type": "stream",
          "name": "stdout",
          "text": [
            "Test statistic: -5.502886353508166\n",
            "pvalue: 8.979201768961566e-08\n"
          ]
        }
      ]
    },
    {
      "cell_type": "code",
      "source": [
        "alpha = 0.05 # 95% confidence\n",
        "\n",
        "if pvalue < alpha:\n",
        "  print('Reject H0')\n",
        "else:\n",
        "  print ('Fail to Reject H0')"
      ],
      "metadata": {
        "colab": {
          "base_uri": "https://localhost:8080/"
        },
        "id": "6hHESUvDFeOd",
        "outputId": "9c05232c-6f95-42fc-9372-fcd2fc965bf9"
      },
      "execution_count": null,
      "outputs": [
        {
          "output_type": "stream",
          "name": "stdout",
          "text": [
            "Reject H0\n"
          ]
        }
      ]
    },
    {
      "cell_type": "markdown",
      "source": [
        "### <font color='purple'>Option 3:</font> $H_a: \\mu_{before} > \\mu_{after}$"
      ],
      "metadata": {
        "id": "W-2Q6troErqC"
      }
    },
    {
      "cell_type": "code",
      "source": [
        "# H0: Problem solving has no effect\n",
        "# Ha: Problem solving deteriorated the scores\n",
        "\n",
        "statistic, pvalue = ttest_rel(df_ps[\"test_1\"], df_ps[\"test_2\"],alternative=\"greater\")\n",
        "print(\"Test statistic:\",statistic)\n",
        "print(\"pvalue:\",pvalue)"
      ],
      "metadata": {
        "colab": {
          "base_uri": "https://localhost:8080/"
        },
        "id": "RzrrVPnDH2DP",
        "outputId": "c37171b9-e2db-4459-cc93-567fd987d9cb"
      },
      "execution_count": null,
      "outputs": [
        {
          "output_type": "stream",
          "name": "stdout",
          "text": [
            "Test statistic: -5.502886353508166\n",
            "pvalue: 0.9999999102079823\n"
          ]
        }
      ]
    },
    {
      "cell_type": "code",
      "source": [
        "alpha = 0.05 # 95% confidence\n",
        "\n",
        "if pvalue < alpha:\n",
        "  print('Reject H0')\n",
        "else:\n",
        "  print ('Fail to Reject H0')"
      ],
      "metadata": {
        "colab": {
          "base_uri": "https://localhost:8080/"
        },
        "id": "idPLWGLNFgge",
        "outputId": "4f32ea6c-0061-4d80-9e63-3113529fad2c"
      },
      "execution_count": null,
      "outputs": [
        {
          "output_type": "stream",
          "name": "stdout",
          "text": [
            "Fail to Reject H0\n"
          ]
        }
      ]
    },
    {
      "cell_type": "markdown",
      "source": [
        "\n",
        "\n",
        "---\n",
        "\n",
        "\n",
        "\n",
        "---\n",
        "\n"
      ],
      "metadata": {
        "id": "0SwOjXojGO7w"
      }
    }
  ]
}