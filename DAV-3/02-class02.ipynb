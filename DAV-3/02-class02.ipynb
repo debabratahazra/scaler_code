{
 "cells": [
  {
   "cell_type": "code",
   "execution_count": 1,
   "metadata": {},
   "outputs": [],
   "source": [
    "import numpy as np\n",
    "from scipy.stats import norm"
   ]
  },
  {
   "cell_type": "code",
   "execution_count": 8,
   "metadata": {},
   "outputs": [
    {
     "name": "stdout",
     "output_type": "stream",
     "text": [
      "2.23606797749979\n"
     ]
    }
   ],
   "source": [
    "pop_mean = 1800\n",
    "pop_std = 100\n",
    "\n",
    "z = (1900 - 1800) / (100/np.sqrt(5))\n",
    "\n",
    "print(z)"
   ]
  },
  {
   "cell_type": "code",
   "execution_count": 9,
   "metadata": {},
   "outputs": [
    {
     "name": "stdout",
     "output_type": "stream",
     "text": [
      "0.0126736593387341\n"
     ]
    }
   ],
   "source": [
    "p_value = 1 - norm.cdf(z)\n",
    "print(p_value)"
   ]
  },
  {
   "cell_type": "code",
   "execution_count": 10,
   "metadata": {},
   "outputs": [
    {
     "name": "stdout",
     "output_type": "stream",
     "text": [
      "Fail to reject the null hypothesis\n"
     ]
    }
   ],
   "source": [
    "alpha = 0.01\n",
    "if p_value < alpha:\n",
    "  print(\"Reject the null hypothesis\")\n",
    "else:\n",
    "  print(\"Fail to reject the null hypothesis\")"
   ]
  },
  {
   "cell_type": "markdown",
   "metadata": {},
   "source": [
    "## Quiz 4"
   ]
  },
  {
   "cell_type": "code",
   "execution_count": 11,
   "metadata": {},
   "outputs": [],
   "source": [
    "# Given information\n",
    "population_mean =  8000 # average steps per day\n",
    "population_std_dev = 1200  # standard deviation\n",
    "sample_size = 30  # sample size\n",
    "sample_mean = 7600  # sample mean\n",
    "alpha = 0.05 # significance level"
   ]
  },
  {
   "cell_type": "code",
   "execution_count": 13,
   "metadata": {},
   "outputs": [
    {
     "name": "stdout",
     "output_type": "stream",
     "text": [
      "-1.8257418583505536\n"
     ]
    }
   ],
   "source": [
    "# Calculate the z-score\n",
    "z_score = (sample_mean - population_mean) / (population_std_dev / np.sqrt(sample_size))\n",
    "\n",
    "print(z_score)\n",
    "\n",
    "# calculate p value\n",
    "pval = 1 - norm.cdf(z_score)"
   ]
  },
  {
   "cell_type": "code",
   "execution_count": 14,
   "metadata": {},
   "outputs": [
    {
     "name": "stdout",
     "output_type": "stream",
     "text": [
      "z-score: -1.8257418583505536\n",
      "p-value: 0.9660554225690855\n",
      "Fail to reject the null hypothesis.\n"
     ]
    }
   ],
   "source": [
    "# Compare the calculated z-score with the critical z-value\n",
    "if pval < alpha:\n",
    "    conclusion = \"Reject the null hypothesis.\"\n",
    "else:\n",
    "    conclusion = \"Fail to reject the null hypothesis.\"\n",
    "\n",
    "print(\"z-score:\", z_score)\n",
    "print(\"p-value:\", pval)\n",
    "print(conclusion)"
   ]
  },
  {
   "cell_type": "markdown",
   "metadata": {},
   "source": [
    "Q) In a dataset of exam scores with a mean of 60 and a standard deviation of 15,\n",
    "What is the critical value for the corresponding Z-score at a 95% confidence level?"
   ]
  },
  {
   "cell_type": "code",
   "execution_count": null,
   "metadata": {},
   "outputs": [],
   "source": [
    "## X = (Z * sigma) + mu"
   ]
  },
  {
   "cell_type": "code",
   "execution_count": 15,
   "metadata": {},
   "outputs": [
    {
     "data": {
      "text/plain": [
       "1.6448536269514722"
      ]
     },
     "execution_count": 15,
     "metadata": {},
     "output_type": "execute_result"
    }
   ],
   "source": [
    "z = norm.ppf(0.95)\n",
    "z"
   ]
  },
  {
   "cell_type": "code",
   "execution_count": 16,
   "metadata": {},
   "outputs": [
    {
     "data": {
      "text/plain": [
       "84.67280440427209"
      ]
     },
     "execution_count": 16,
     "metadata": {},
     "output_type": "execute_result"
    }
   ],
   "source": [
    "# Critical value will be\n",
    "\n",
    "X = ((z)*15) + 60\n",
    "X"
   ]
  },
  {
   "cell_type": "markdown",
   "metadata": {},
   "source": [
    "## Confindence Intervals"
   ]
  },
  {
   "cell_type": "code",
   "execution_count": 17,
   "metadata": {},
   "outputs": [],
   "source": [
    "import numpy as np\n",
    "from scipy.stats import norm"
   ]
  },
  {
   "cell_type": "code",
   "execution_count": 18,
   "metadata": {},
   "outputs": [],
   "source": [
    "# Given data\n",
    "population_mean = 1800\n",
    "sample_mean = 1850\n",
    "population_stddev = 100\n",
    "sample_size = np.sqrt(50)\n",
    "alpha = 0.01  # Significance level (1 - alpha will give us the confidence level)"
   ]
  },
  {
   "cell_type": "code",
   "execution_count": 19,
   "metadata": {},
   "outputs": [
    {
     "data": {
      "text/plain": [
       "2.3263478740408408"
      ]
     },
     "execution_count": 19,
     "metadata": {},
     "output_type": "execute_result"
    }
   ],
   "source": [
    "# Calculate the critical value (Z) for a right-tailed test at the given alpha level\n",
    "z_critical = norm.ppf(1 - alpha)\n",
    "\n",
    "z_critical"
   ]
  },
  {
   "cell_type": "code",
   "execution_count": 22,
   "metadata": {},
   "outputs": [
    {
     "name": "stdout",
     "output_type": "stream",
     "text": [
      "32.899527142663736\n"
     ]
    }
   ],
   "source": [
    "# Calculate the margin of error\n",
    "margin_of_error = z_critical * (population_stddev / sample_size)\n",
    "\n",
    "print(margin_of_error)"
   ]
  },
  {
   "cell_type": "code",
   "execution_count": 21,
   "metadata": {},
   "outputs": [
    {
     "name": "stdout",
     "output_type": "stream",
     "text": [
      "Confidence Interval: (1817.1004728573362, 1882.8995271426638)\n"
     ]
    }
   ],
   "source": [
    "# Calculate the confidence interval\n",
    "confidence_interval = (sample_mean - margin_of_error, sample_mean + margin_of_error)\n",
    "\n",
    "print(\"Confidence Interval:\", confidence_interval)"
   ]
  },
  {
   "cell_type": "code",
   "execution_count": 23,
   "metadata": {},
   "outputs": [
    {
     "name": "stdout",
     "output_type": "stream",
     "text": [
      "The population mean does not fall within the confidence interval. Then we reject the null hypothesis\n"
     ]
    }
   ],
   "source": [
    "# Check if the population mean (1800) falls within the confidence interval\n",
    "\n",
    "if confidence_interval[0] <= population_mean <= confidence_interval[1]:\n",
    "    print(\"The population mean falls within the confidence interval. Then we fail to reject the null hypothesis\")\n",
    "else:\n",
    "    print(\"The population mean does not fall within the confidence interval. Then we reject the null hypothesis\")"
   ]
  },
  {
   "cell_type": "markdown",
   "metadata": {},
   "source": [
    "## Marketing Case Study"
   ]
  },
  {
   "cell_type": "code",
   "execution_count": 5,
   "metadata": {},
   "outputs": [],
   "source": [
    "import pandas as pd\n",
    "import numpy as np\n",
    "from scipy.stats import norm"
   ]
  },
  {
   "cell_type": "code",
   "execution_count": 6,
   "metadata": {},
   "outputs": [],
   "source": [
    "# Given information\n",
    "population_mean =  8000 # average steps per day\n",
    "population_std_dev = 1200  # standard deviation\n",
    "sample_size = 30  # sample size\n",
    "sample_mean = 7600  # sample mean\n",
    "alpha = 0.05 # significance level"
   ]
  },
  {
   "cell_type": "code",
   "execution_count": 8,
   "metadata": {},
   "outputs": [
    {
     "name": "stdout",
     "output_type": "stream",
     "text": [
      "Z-Score: -1.8257418583505536\n",
      "p-value: 0.9660554225690855\n"
     ]
    }
   ],
   "source": [
    "# Calculate the z-score\n",
    "z_score = (sample_mean - population_mean) / (population_std_dev / np.sqrt(sample_size))\n",
    "\n",
    "# calculate p value\n",
    "pval = 1 - norm.cdf(z_score)\n",
    "\n",
    "print(f'Z-Score: {z_score}')\n",
    "print(f'p-value: {pval}')"
   ]
  },
  {
   "cell_type": "code",
   "execution_count": 9,
   "metadata": {},
   "outputs": [
    {
     "name": "stdout",
     "output_type": "stream",
     "text": [
      "z-score: -1.8257418583505536\n",
      "p-value: 0.9660554225690855\n",
      "Fail to reject the null hypothesis.\n"
     ]
    }
   ],
   "source": [
    "# Compare the calculated z-score with the critical z-value\n",
    "if pval < alpha:\n",
    "    conclusion = \"Reject the null hypothesis.\"\n",
    "else:\n",
    "    conclusion = \"Fail to reject the null hypothesis.\"\n",
    "\n",
    "print(\"z-score:\", z_score)\n",
    "print(\"p-value:\", pval)\n",
    "print(conclusion)"
   ]
  },
  {
   "cell_type": "markdown",
   "metadata": {},
   "source": [
    "## Critical Value"
   ]
  },
  {
   "cell_type": "code",
   "execution_count": 11,
   "metadata": {},
   "outputs": [],
   "source": [
    "# Given information\n",
    "population_mean =  1800 # average steps per day\n",
    "population_std_dev = 100  # standard deviation\n",
    "sample_size = 50  # sample size\n",
    "sample_mean = 1800  # sample mean\n",
    "alpha = 0.01 # significance level"
   ]
  },
  {
   "cell_type": "code",
   "execution_count": 12,
   "metadata": {},
   "outputs": [
    {
     "data": {
      "text/plain": [
       "2.3263478740408408"
      ]
     },
     "execution_count": 12,
     "metadata": {},
     "output_type": "execute_result"
    }
   ],
   "source": [
    "#For norm.ppf() we pass the confidence level\n",
    "\n",
    "z = norm.ppf(0.99)\n",
    "z"
   ]
  },
  {
   "cell_type": "code",
   "execution_count": 13,
   "metadata": {},
   "outputs": [
    {
     "data": {
      "text/plain": [
       "2.3263478740408408"
      ]
     },
     "execution_count": 13,
     "metadata": {},
     "output_type": "execute_result"
    }
   ],
   "source": [
    "#For norm.isf() we pass the significance level\n",
    "\n",
    "z_critical = norm.isf(q=0.01)\n",
    "z_critical"
   ]
  },
  {
   "cell_type": "code",
   "execution_count": 17,
   "metadata": {},
   "outputs": [
    {
     "data": {
      "text/plain": [
       "True"
      ]
     },
     "execution_count": 17,
     "metadata": {},
     "output_type": "execute_result"
    }
   ],
   "source": [
    "z == z_critical"
   ]
  },
  {
   "cell_type": "code",
   "execution_count": 16,
   "metadata": {},
   "outputs": [
    {
     "data": {
      "text/plain": [
       "1832.8995271426638"
      ]
     },
     "execution_count": 16,
     "metadata": {},
     "output_type": "execute_result"
    }
   ],
   "source": [
    "import numpy as np\n",
    "\n",
    "x = (z*(100/np.sqrt(50))) + 1800\n",
    "x"
   ]
  },
  {
   "cell_type": "code",
   "execution_count": null,
   "metadata": {},
   "outputs": [],
   "source": []
  }
 ],
 "metadata": {
  "kernelspec": {
   "display_name": "nlp-work-local",
   "language": "python",
   "name": "python3"
  },
  "language_info": {
   "codemirror_mode": {
    "name": "ipython",
    "version": 3
   },
   "file_extension": ".py",
   "mimetype": "text/x-python",
   "name": "python",
   "nbconvert_exporter": "python",
   "pygments_lexer": "ipython3",
   "version": "3.10.12"
  }
 },
 "nbformat": 4,
 "nbformat_minor": 2
}
